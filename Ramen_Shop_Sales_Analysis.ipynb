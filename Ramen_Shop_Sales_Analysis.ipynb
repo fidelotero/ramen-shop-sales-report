{
 "cells": [
  {
   "attachments": {},
   "cell_type": "markdown",
   "id": "0477e984",
   "metadata": {},
   "source": [
    "# Ramen Shop Sales Analysis"
   ]
  },
  {
   "cell_type": "markdown",
   "id": "4b56c168",
   "metadata": {},
   "source": [
    "##### Section:  52745\n",
    "\n",
    "##### Group Number:  30\n",
    "\n",
    "##### Student:  Ryan Mehendale\n",
    "##### UT EID:  ram3273\n",
    "\n",
    "##### Student:  Fidel Otero\n",
    "##### UT EID:  fco229"
   ]
  },
  {
   "cell_type": "markdown",
   "id": "2a1e695a",
   "metadata": {},
   "source": [
    "## Introduction"
   ]
  },
  {
   "cell_type": "markdown",
   "id": "56c97f72",
   "metadata": {},
   "source": [
    "### Goal"
   ]
  },
  {
   "cell_type": "markdown",
   "id": "29276846",
   "metadata": {},
   "source": [
    "Using the sales data from a local ramen shop, we hope to uncover patterns in consumer behavior. Then, we hope to develop a cohesive visual story that allows those patterns to turn into actionable insights for the restaurant. In addition to forecasting sales, we believe that this information could help to optimize a broad range of strategic decisions, from scheduling to inventory to marketing strategies."
   ]
  },
  {
   "cell_type": "markdown",
   "id": "0bf35e00",
   "metadata": {},
   "source": [
    "### Initial Setup"
   ]
  },
  {
   "cell_type": "code",
   "execution_count": 42,
   "id": "60cc66a7",
   "metadata": {},
   "outputs": [],
   "source": [
    "# Import the required libraries\n",
    "import pandas as pd\n",
    "import numpy as np\n",
    "import matplotlib.pyplot as plt\n",
    "import seaborn as sns\n",
    "import plotly.express as px"
   ]
  },
  {
   "cell_type": "code",
   "execution_count": 43,
   "id": "3c39ada0",
   "metadata": {},
   "outputs": [],
   "source": [
    "# Read the order history data\n",
    "df = pd.read_csv(\"customers-items-export.csv\", low_memory=False)"
   ]
  },
  {
   "cell_type": "markdown",
   "id": "554c90d4",
   "metadata": {},
   "source": [
    "## Description of the Dataset"
   ]
  },
  {
   "cell_type": "markdown",
   "id": "17c8362f",
   "metadata": {},
   "source": [
    "### Sanity Checks"
   ]
  },
  {
   "cell_type": "code",
   "execution_count": 44,
   "id": "8e173b55",
   "metadata": {},
   "outputs": [
    {
     "data": {
      "text/plain": [
       "(22323, 33)"
      ]
     },
     "execution_count": 44,
     "metadata": {},
     "output_type": "execute_result"
    }
   ],
   "source": [
    "df.shape"
   ]
  },
  {
   "cell_type": "code",
   "execution_count": 45,
   "id": "3cd61cc8",
   "metadata": {},
   "outputs": [
    {
     "data": {
      "text/html": [
       "<div>\n",
       "<style scoped>\n",
       "    .dataframe tbody tr th:only-of-type {\n",
       "        vertical-align: middle;\n",
       "    }\n",
       "\n",
       "    .dataframe tbody tr th {\n",
       "        vertical-align: top;\n",
       "    }\n",
       "\n",
       "    .dataframe thead th {\n",
       "        text-align: right;\n",
       "    }\n",
       "</style>\n",
       "<table border=\"1\" class=\"dataframe\">\n",
       "  <thead>\n",
       "    <tr style=\"text-align: right;\">\n",
       "      <th></th>\n",
       "      <th>Establishment_Name</th>\n",
       "      <th>POS_Station</th>\n",
       "      <th>Order_Number</th>\n",
       "      <th>Order_Type</th>\n",
       "      <th>Order_Date</th>\n",
       "      <th>Customer ID</th>\n",
       "      <th>First_Name</th>\n",
       "      <th>Last_Name</th>\n",
       "      <th>Company_Name</th>\n",
       "      <th>Email</th>\n",
       "      <th>...</th>\n",
       "      <th>Class</th>\n",
       "      <th>Exchange_Void_or_Return</th>\n",
       "      <th>Return_Exchange_Reason</th>\n",
       "      <th>Discount_Amount</th>\n",
       "      <th>Discount_Reason</th>\n",
       "      <th>Gross_Item_Price</th>\n",
       "      <th>Total_Sales_Price</th>\n",
       "      <th>Total_Product_Tax</th>\n",
       "      <th>Product_Quantity</th>\n",
       "      <th>Special_Request</th>\n",
       "    </tr>\n",
       "  </thead>\n",
       "  <tbody>\n",
       "    <tr>\n",
       "      <th>0</th>\n",
       "      <td>Daiboku</td>\n",
       "      <td>POS1</td>\n",
       "      <td>185341</td>\n",
       "      <td>To Go</td>\n",
       "      <td>05/11/2023 03:21:18 PM</td>\n",
       "      <td>NaN</td>\n",
       "      <td>NaN</td>\n",
       "      <td>NaN</td>\n",
       "      <td>NaN</td>\n",
       "      <td>NaN</td>\n",
       "      <td>...</td>\n",
       "      <td>NaN</td>\n",
       "      <td>0</td>\n",
       "      <td>NaN</td>\n",
       "      <td>NaN</td>\n",
       "      <td>NaN</td>\n",
       "      <td>0.00</td>\n",
       "      <td>0.00</td>\n",
       "      <td>0.00</td>\n",
       "      <td>1.0</td>\n",
       "      <td>NaN</td>\n",
       "    </tr>\n",
       "    <tr>\n",
       "      <th>1</th>\n",
       "      <td>Daiboku</td>\n",
       "      <td>POS1</td>\n",
       "      <td>185342</td>\n",
       "      <td>To Go</td>\n",
       "      <td>05/11/2023 03:23:14 PM</td>\n",
       "      <td>NaN</td>\n",
       "      <td>NaN</td>\n",
       "      <td>NaN</td>\n",
       "      <td>NaN</td>\n",
       "      <td>NaN</td>\n",
       "      <td>...</td>\n",
       "      <td>NaN</td>\n",
       "      <td>0</td>\n",
       "      <td>NaN</td>\n",
       "      <td>NaN</td>\n",
       "      <td>NaN</td>\n",
       "      <td>0.00</td>\n",
       "      <td>0.00</td>\n",
       "      <td>0.00</td>\n",
       "      <td>1.0</td>\n",
       "      <td>NaN</td>\n",
       "    </tr>\n",
       "    <tr>\n",
       "      <th>2</th>\n",
       "      <td>Daiboku</td>\n",
       "      <td>POS1</td>\n",
       "      <td>185342</td>\n",
       "      <td>To Go</td>\n",
       "      <td>05/11/2023 03:23:14 PM</td>\n",
       "      <td>NaN</td>\n",
       "      <td>NaN</td>\n",
       "      <td>NaN</td>\n",
       "      <td>NaN</td>\n",
       "      <td>NaN</td>\n",
       "      <td>...</td>\n",
       "      <td>NaN</td>\n",
       "      <td>0</td>\n",
       "      <td>NaN</td>\n",
       "      <td>NaN</td>\n",
       "      <td>NaN</td>\n",
       "      <td>0.01</td>\n",
       "      <td>0.01</td>\n",
       "      <td>0.00</td>\n",
       "      <td>1.0</td>\n",
       "      <td>NaN</td>\n",
       "    </tr>\n",
       "    <tr>\n",
       "      <th>3</th>\n",
       "      <td>Daiboku</td>\n",
       "      <td>POS1</td>\n",
       "      <td>185342</td>\n",
       "      <td>To Go</td>\n",
       "      <td>05/11/2023 03:23:14 PM</td>\n",
       "      <td>NaN</td>\n",
       "      <td>NaN</td>\n",
       "      <td>NaN</td>\n",
       "      <td>NaN</td>\n",
       "      <td>NaN</td>\n",
       "      <td>...</td>\n",
       "      <td>NaN</td>\n",
       "      <td>1</td>\n",
       "      <td>Void</td>\n",
       "      <td>NaN</td>\n",
       "      <td>NaN</td>\n",
       "      <td>18.00</td>\n",
       "      <td>18.00</td>\n",
       "      <td>1.49</td>\n",
       "      <td>1.0</td>\n",
       "      <td>Do not make</td>\n",
       "    </tr>\n",
       "    <tr>\n",
       "      <th>4</th>\n",
       "      <td>Daiboku</td>\n",
       "      <td>POS1</td>\n",
       "      <td>185369</td>\n",
       "      <td>To Go</td>\n",
       "      <td>05/11/2023 06:04:16 PM</td>\n",
       "      <td>NaN</td>\n",
       "      <td>NaN</td>\n",
       "      <td>NaN</td>\n",
       "      <td>NaN</td>\n",
       "      <td>NaN</td>\n",
       "      <td>...</td>\n",
       "      <td>NaN</td>\n",
       "      <td>0</td>\n",
       "      <td>NaN</td>\n",
       "      <td>NaN</td>\n",
       "      <td>NaN</td>\n",
       "      <td>0.00</td>\n",
       "      <td>0.00</td>\n",
       "      <td>0.00</td>\n",
       "      <td>1.0</td>\n",
       "      <td>NaN</td>\n",
       "    </tr>\n",
       "  </tbody>\n",
       "</table>\n",
       "<p>5 rows × 33 columns</p>\n",
       "</div>"
      ],
      "text/plain": [
       "  Establishment_Name POS_Station  Order_Number Order_Type  \\\n",
       "0            Daiboku        POS1        185341      To Go   \n",
       "1            Daiboku        POS1        185342      To Go   \n",
       "2            Daiboku        POS1        185342      To Go   \n",
       "3            Daiboku        POS1        185342      To Go   \n",
       "4            Daiboku        POS1        185369      To Go   \n",
       "\n",
       "               Order_Date  Customer ID First_Name Last_Name  Company_Name  \\\n",
       "0  05/11/2023 03:21:18 PM          NaN        NaN       NaN           NaN   \n",
       "1  05/11/2023 03:23:14 PM          NaN        NaN       NaN           NaN   \n",
       "2  05/11/2023 03:23:14 PM          NaN        NaN       NaN           NaN   \n",
       "3  05/11/2023 03:23:14 PM          NaN        NaN       NaN           NaN   \n",
       "4  05/11/2023 06:04:16 PM          NaN        NaN       NaN           NaN   \n",
       "\n",
       "  Email  ... Class  Exchange_Void_or_Return  Return_Exchange_Reason  \\\n",
       "0   NaN  ...   NaN                        0                     NaN   \n",
       "1   NaN  ...   NaN                        0                     NaN   \n",
       "2   NaN  ...   NaN                        0                     NaN   \n",
       "3   NaN  ...   NaN                        1                    Void   \n",
       "4   NaN  ...   NaN                        0                     NaN   \n",
       "\n",
       "   Discount_Amount  Discount_Reason Gross_Item_Price Total_Sales_Price  \\\n",
       "0              NaN              NaN             0.00              0.00   \n",
       "1              NaN              NaN             0.00              0.00   \n",
       "2              NaN              NaN             0.01              0.01   \n",
       "3              NaN              NaN            18.00             18.00   \n",
       "4              NaN              NaN             0.00              0.00   \n",
       "\n",
       "   Total_Product_Tax  Product_Quantity  Special_Request  \n",
       "0               0.00               1.0              NaN  \n",
       "1               0.00               1.0              NaN  \n",
       "2               0.00               1.0              NaN  \n",
       "3               1.49               1.0      Do not make  \n",
       "4               0.00               1.0              NaN  \n",
       "\n",
       "[5 rows x 33 columns]"
      ]
     },
     "execution_count": 45,
     "metadata": {},
     "output_type": "execute_result"
    }
   ],
   "source": [
    "df.head()"
   ]
  },
  {
   "cell_type": "code",
   "execution_count": 46,
   "id": "151a4938",
   "metadata": {},
   "outputs": [
    {
     "data": {
      "text/html": [
       "<div>\n",
       "<style scoped>\n",
       "    .dataframe tbody tr th:only-of-type {\n",
       "        vertical-align: middle;\n",
       "    }\n",
       "\n",
       "    .dataframe tbody tr th {\n",
       "        vertical-align: top;\n",
       "    }\n",
       "\n",
       "    .dataframe thead th {\n",
       "        text-align: right;\n",
       "    }\n",
       "</style>\n",
       "<table border=\"1\" class=\"dataframe\">\n",
       "  <thead>\n",
       "    <tr style=\"text-align: right;\">\n",
       "      <th></th>\n",
       "      <th>Establishment_Name</th>\n",
       "      <th>POS_Station</th>\n",
       "      <th>Order_Number</th>\n",
       "      <th>Order_Type</th>\n",
       "      <th>Order_Date</th>\n",
       "      <th>Customer ID</th>\n",
       "      <th>First_Name</th>\n",
       "      <th>Last_Name</th>\n",
       "      <th>Company_Name</th>\n",
       "      <th>Email</th>\n",
       "      <th>...</th>\n",
       "      <th>Class</th>\n",
       "      <th>Exchange_Void_or_Return</th>\n",
       "      <th>Return_Exchange_Reason</th>\n",
       "      <th>Discount_Amount</th>\n",
       "      <th>Discount_Reason</th>\n",
       "      <th>Gross_Item_Price</th>\n",
       "      <th>Total_Sales_Price</th>\n",
       "      <th>Total_Product_Tax</th>\n",
       "      <th>Product_Quantity</th>\n",
       "      <th>Special_Request</th>\n",
       "    </tr>\n",
       "  </thead>\n",
       "  <tbody>\n",
       "    <tr>\n",
       "      <th>22318</th>\n",
       "      <td>Daiboku</td>\n",
       "      <td>POS2</td>\n",
       "      <td>230856</td>\n",
       "      <td>Eat In</td>\n",
       "      <td>10/31/2023 08:00:39 PM</td>\n",
       "      <td>NaN</td>\n",
       "      <td>NaN</td>\n",
       "      <td>NaN</td>\n",
       "      <td>NaN</td>\n",
       "      <td>NaN</td>\n",
       "      <td>...</td>\n",
       "      <td>Ramen</td>\n",
       "      <td>0</td>\n",
       "      <td>NaN</td>\n",
       "      <td>NaN</td>\n",
       "      <td>NaN</td>\n",
       "      <td>10.0</td>\n",
       "      <td>10.0</td>\n",
       "      <td>0.82</td>\n",
       "      <td>1.0</td>\n",
       "      <td>TOGO</td>\n",
       "    </tr>\n",
       "    <tr>\n",
       "      <th>22319</th>\n",
       "      <td>Daiboku</td>\n",
       "      <td>POS1</td>\n",
       "      <td>230885</td>\n",
       "      <td>To Go</td>\n",
       "      <td>10/31/2023 08:45:12 PM</td>\n",
       "      <td>NaN</td>\n",
       "      <td>NaN</td>\n",
       "      <td>NaN</td>\n",
       "      <td>NaN</td>\n",
       "      <td>NaN</td>\n",
       "      <td>...</td>\n",
       "      <td>NaN</td>\n",
       "      <td>0</td>\n",
       "      <td>NaN</td>\n",
       "      <td>NaN</td>\n",
       "      <td>NaN</td>\n",
       "      <td>0.0</td>\n",
       "      <td>0.0</td>\n",
       "      <td>0.00</td>\n",
       "      <td>1.0</td>\n",
       "      <td>NaN</td>\n",
       "    </tr>\n",
       "    <tr>\n",
       "      <th>22320</th>\n",
       "      <td>Daiboku</td>\n",
       "      <td>POS1</td>\n",
       "      <td>230885</td>\n",
       "      <td>To Go</td>\n",
       "      <td>10/31/2023 08:45:12 PM</td>\n",
       "      <td>NaN</td>\n",
       "      <td>NaN</td>\n",
       "      <td>NaN</td>\n",
       "      <td>NaN</td>\n",
       "      <td>NaN</td>\n",
       "      <td>...</td>\n",
       "      <td>Ramen</td>\n",
       "      <td>0</td>\n",
       "      <td>NaN</td>\n",
       "      <td>NaN</td>\n",
       "      <td>NaN</td>\n",
       "      <td>16.0</td>\n",
       "      <td>10.0</td>\n",
       "      <td>1.32</td>\n",
       "      <td>1.0</td>\n",
       "      <td>NaN</td>\n",
       "    </tr>\n",
       "    <tr>\n",
       "      <th>22321</th>\n",
       "      <td>Daiboku</td>\n",
       "      <td>POS1</td>\n",
       "      <td>230885</td>\n",
       "      <td>To Go</td>\n",
       "      <td>10/31/2023 08:45:12 PM</td>\n",
       "      <td>NaN</td>\n",
       "      <td>NaN</td>\n",
       "      <td>NaN</td>\n",
       "      <td>NaN</td>\n",
       "      <td>NaN</td>\n",
       "      <td>...</td>\n",
       "      <td>NaN</td>\n",
       "      <td>0</td>\n",
       "      <td>NaN</td>\n",
       "      <td>NaN</td>\n",
       "      <td>NaN</td>\n",
       "      <td>0.5</td>\n",
       "      <td>0.5</td>\n",
       "      <td>0.04</td>\n",
       "      <td>1.0</td>\n",
       "      <td>NaN</td>\n",
       "    </tr>\n",
       "    <tr>\n",
       "      <th>22322</th>\n",
       "      <td>Daiboku</td>\n",
       "      <td>POS1</td>\n",
       "      <td>230885</td>\n",
       "      <td>To Go</td>\n",
       "      <td>10/31/2023 08:45:12 PM</td>\n",
       "      <td>NaN</td>\n",
       "      <td>NaN</td>\n",
       "      <td>NaN</td>\n",
       "      <td>NaN</td>\n",
       "      <td>NaN</td>\n",
       "      <td>...</td>\n",
       "      <td>NaN</td>\n",
       "      <td>0</td>\n",
       "      <td>NaN</td>\n",
       "      <td>NaN</td>\n",
       "      <td>NaN</td>\n",
       "      <td>1.0</td>\n",
       "      <td>1.0</td>\n",
       "      <td>0.08</td>\n",
       "      <td>1.0</td>\n",
       "      <td>NaN</td>\n",
       "    </tr>\n",
       "  </tbody>\n",
       "</table>\n",
       "<p>5 rows × 33 columns</p>\n",
       "</div>"
      ],
      "text/plain": [
       "      Establishment_Name POS_Station  Order_Number Order_Type  \\\n",
       "22318            Daiboku        POS2        230856     Eat In   \n",
       "22319            Daiboku        POS1        230885      To Go   \n",
       "22320            Daiboku        POS1        230885      To Go   \n",
       "22321            Daiboku        POS1        230885      To Go   \n",
       "22322            Daiboku        POS1        230885      To Go   \n",
       "\n",
       "                   Order_Date  Customer ID First_Name Last_Name  Company_Name  \\\n",
       "22318  10/31/2023 08:00:39 PM          NaN        NaN       NaN           NaN   \n",
       "22319  10/31/2023 08:45:12 PM          NaN        NaN       NaN           NaN   \n",
       "22320  10/31/2023 08:45:12 PM          NaN        NaN       NaN           NaN   \n",
       "22321  10/31/2023 08:45:12 PM          NaN        NaN       NaN           NaN   \n",
       "22322  10/31/2023 08:45:12 PM          NaN        NaN       NaN           NaN   \n",
       "\n",
       "      Email  ...  Class  Exchange_Void_or_Return  Return_Exchange_Reason  \\\n",
       "22318   NaN  ...  Ramen                        0                     NaN   \n",
       "22319   NaN  ...    NaN                        0                     NaN   \n",
       "22320   NaN  ...  Ramen                        0                     NaN   \n",
       "22321   NaN  ...    NaN                        0                     NaN   \n",
       "22322   NaN  ...    NaN                        0                     NaN   \n",
       "\n",
       "       Discount_Amount  Discount_Reason Gross_Item_Price Total_Sales_Price  \\\n",
       "22318              NaN              NaN             10.0              10.0   \n",
       "22319              NaN              NaN              0.0               0.0   \n",
       "22320              NaN              NaN             16.0              10.0   \n",
       "22321              NaN              NaN              0.5               0.5   \n",
       "22322              NaN              NaN              1.0               1.0   \n",
       "\n",
       "       Total_Product_Tax  Product_Quantity  Special_Request  \n",
       "22318               0.82               1.0             TOGO  \n",
       "22319               0.00               1.0              NaN  \n",
       "22320               1.32               1.0              NaN  \n",
       "22321               0.04               1.0              NaN  \n",
       "22322               0.08               1.0              NaN  \n",
       "\n",
       "[5 rows x 33 columns]"
      ]
     },
     "execution_count": 46,
     "metadata": {},
     "output_type": "execute_result"
    }
   ],
   "source": [
    "df.tail()"
   ]
  },
  {
   "cell_type": "code",
   "execution_count": 47,
   "id": "81c514e6",
   "metadata": {},
   "outputs": [
    {
     "name": "stdout",
     "output_type": "stream",
     "text": [
      "<class 'pandas.core.frame.DataFrame'>\n",
      "RangeIndex: 22323 entries, 0 to 22322\n",
      "Data columns (total 33 columns):\n",
      " #   Column                   Non-Null Count  Dtype  \n",
      "---  ------                   --------------  -----  \n",
      " 0   Establishment_Name       22323 non-null  object \n",
      " 1   POS_Station              22323 non-null  object \n",
      " 2   Order_Number             22323 non-null  int64  \n",
      " 3   Order_Type               22323 non-null  object \n",
      " 4   Order_Date               22323 non-null  object \n",
      " 5   Customer ID              909 non-null    float64\n",
      " 6   First_Name               909 non-null    object \n",
      " 7   Last_Name                909 non-null    object \n",
      " 8   Company_Name             0 non-null      float64\n",
      " 9   Email                    909 non-null    object \n",
      " 10  Reference_ID             1 non-null      object \n",
      " 11  Order_Sub_Total          22323 non-null  float64\n",
      " 12  Order_Sales_Tax          22323 non-null  float64\n",
      " 13  Order_Total              22323 non-null  float64\n",
      " 14  Payment_Amount           22323 non-null  float64\n",
      " 15  Payment_Type             21336 non-null  object \n",
      " 16  Product_Name             22323 non-null  object \n",
      " 17  Barcode                  22250 non-null  float64\n",
      " 18  Sku                      20 non-null     float64\n",
      " 19  Cost                     22323 non-null  float64\n",
      " 20  Product_Price            22323 non-null  float64\n",
      " 21  Category                 22250 non-null  object \n",
      " 22  Sub_category             20609 non-null  object \n",
      " 23  Class                    14948 non-null  object \n",
      " 24  Exchange_Void_or_Return  22323 non-null  int64  \n",
      " 25  Return_Exchange_Reason   736 non-null    object \n",
      " 26  Discount_Amount          841 non-null    float64\n",
      " 27  Discount_Reason          780 non-null    object \n",
      " 28  Gross_Item_Price         22323 non-null  float64\n",
      " 29  Total_Sales_Price        22323 non-null  float64\n",
      " 30  Total_Product_Tax        22323 non-null  float64\n",
      " 31  Product_Quantity         22323 non-null  float64\n",
      " 32  Special_Request          779 non-null    object \n",
      "dtypes: float64(15), int64(2), object(16)\n",
      "memory usage: 5.6+ MB\n"
     ]
    }
   ],
   "source": [
    "df.info()"
   ]
  },
  {
   "cell_type": "code",
   "execution_count": 48,
   "id": "8b6890bd",
   "metadata": {},
   "outputs": [
    {
     "data": {
      "text/html": [
       "<div>\n",
       "<style scoped>\n",
       "    .dataframe tbody tr th:only-of-type {\n",
       "        vertical-align: middle;\n",
       "    }\n",
       "\n",
       "    .dataframe tbody tr th {\n",
       "        vertical-align: top;\n",
       "    }\n",
       "\n",
       "    .dataframe thead th {\n",
       "        text-align: right;\n",
       "    }\n",
       "</style>\n",
       "<table border=\"1\" class=\"dataframe\">\n",
       "  <thead>\n",
       "    <tr style=\"text-align: right;\">\n",
       "      <th></th>\n",
       "      <th>Order_Number</th>\n",
       "      <th>Customer ID</th>\n",
       "      <th>Company_Name</th>\n",
       "      <th>Order_Sub_Total</th>\n",
       "      <th>Order_Sales_Tax</th>\n",
       "      <th>Order_Total</th>\n",
       "      <th>Payment_Amount</th>\n",
       "      <th>Barcode</th>\n",
       "      <th>Sku</th>\n",
       "      <th>Cost</th>\n",
       "      <th>Product_Price</th>\n",
       "      <th>Exchange_Void_or_Return</th>\n",
       "      <th>Discount_Amount</th>\n",
       "      <th>Gross_Item_Price</th>\n",
       "      <th>Total_Sales_Price</th>\n",
       "      <th>Total_Product_Tax</th>\n",
       "      <th>Product_Quantity</th>\n",
       "    </tr>\n",
       "  </thead>\n",
       "  <tbody>\n",
       "    <tr>\n",
       "      <th>count</th>\n",
       "      <td>22323.000000</td>\n",
       "      <td>909.000000</td>\n",
       "      <td>0.0</td>\n",
       "      <td>22323.000000</td>\n",
       "      <td>22323.000000</td>\n",
       "      <td>22323.000000</td>\n",
       "      <td>22323.000000</td>\n",
       "      <td>2.225000e+04</td>\n",
       "      <td>2.000000e+01</td>\n",
       "      <td>22323.0</td>\n",
       "      <td>22323.000000</td>\n",
       "      <td>22323.000000</td>\n",
       "      <td>841.000000</td>\n",
       "      <td>22323.000000</td>\n",
       "      <td>22323.000000</td>\n",
       "      <td>22323.000000</td>\n",
       "      <td>22323.000000</td>\n",
       "    </tr>\n",
       "    <tr>\n",
       "      <th>mean</th>\n",
       "      <td>210074.469471</td>\n",
       "      <td>109215.795380</td>\n",
       "      <td>NaN</td>\n",
       "      <td>37.054772</td>\n",
       "      <td>2.968230</td>\n",
       "      <td>38.779181</td>\n",
       "      <td>38.683698</td>\n",
       "      <td>1.000980e+11</td>\n",
       "      <td>1.000000e+11</td>\n",
       "      <td>0.0</td>\n",
       "      <td>10.040451</td>\n",
       "      <td>0.035434</td>\n",
       "      <td>3.243936</td>\n",
       "      <td>10.427585</td>\n",
       "      <td>10.554211</td>\n",
       "      <td>0.884989</td>\n",
       "      <td>1.068808</td>\n",
       "    </tr>\n",
       "    <tr>\n",
       "      <th>std</th>\n",
       "      <td>12096.632548</td>\n",
       "      <td>18576.333315</td>\n",
       "      <td>NaN</td>\n",
       "      <td>29.548151</td>\n",
       "      <td>2.430112</td>\n",
       "      <td>31.725330</td>\n",
       "      <td>31.773770</td>\n",
       "      <td>1.077442e+10</td>\n",
       "      <td>3.959747e+02</td>\n",
       "      <td>0.0</td>\n",
       "      <td>7.912007</td>\n",
       "      <td>0.184879</td>\n",
       "      <td>2.914323</td>\n",
       "      <td>8.175517</td>\n",
       "      <td>8.551853</td>\n",
       "      <td>0.732687</td>\n",
       "      <td>0.336416</td>\n",
       "    </tr>\n",
       "    <tr>\n",
       "      <th>min</th>\n",
       "      <td>185341.000000</td>\n",
       "      <td>1124.000000</td>\n",
       "      <td>NaN</td>\n",
       "      <td>0.000000</td>\n",
       "      <td>0.000000</td>\n",
       "      <td>0.000000</td>\n",
       "      <td>0.000000</td>\n",
       "      <td>1.000000e+10</td>\n",
       "      <td>1.000000e+11</td>\n",
       "      <td>0.0</td>\n",
       "      <td>0.000000</td>\n",
       "      <td>0.000000</td>\n",
       "      <td>0.000000</td>\n",
       "      <td>0.000000</td>\n",
       "      <td>0.000000</td>\n",
       "      <td>0.000000</td>\n",
       "      <td>1.000000</td>\n",
       "    </tr>\n",
       "    <tr>\n",
       "      <th>25%</th>\n",
       "      <td>200156.000000</td>\n",
       "      <td>112447.000000</td>\n",
       "      <td>NaN</td>\n",
       "      <td>18.000000</td>\n",
       "      <td>1.400000</td>\n",
       "      <td>17.940000</td>\n",
       "      <td>17.860000</td>\n",
       "      <td>1.000000e+11</td>\n",
       "      <td>1.000000e+11</td>\n",
       "      <td>0.0</td>\n",
       "      <td>4.000000</td>\n",
       "      <td>0.000000</td>\n",
       "      <td>1.000000</td>\n",
       "      <td>4.000000</td>\n",
       "      <td>4.500000</td>\n",
       "      <td>0.330000</td>\n",
       "      <td>1.000000</td>\n",
       "    </tr>\n",
       "    <tr>\n",
       "      <th>50%</th>\n",
       "      <td>209675.000000</td>\n",
       "      <td>114530.000000</td>\n",
       "      <td>NaN</td>\n",
       "      <td>32.000000</td>\n",
       "      <td>2.600000</td>\n",
       "      <td>33.560000</td>\n",
       "      <td>33.560000</td>\n",
       "      <td>1.000000e+11</td>\n",
       "      <td>1.000000e+11</td>\n",
       "      <td>0.0</td>\n",
       "      <td>10.000000</td>\n",
       "      <td>0.000000</td>\n",
       "      <td>2.000000</td>\n",
       "      <td>10.000000</td>\n",
       "      <td>10.000000</td>\n",
       "      <td>0.820000</td>\n",
       "      <td>1.000000</td>\n",
       "    </tr>\n",
       "    <tr>\n",
       "      <th>75%</th>\n",
       "      <td>220213.500000</td>\n",
       "      <td>115344.000000</td>\n",
       "      <td>NaN</td>\n",
       "      <td>48.000000</td>\n",
       "      <td>3.880000</td>\n",
       "      <td>50.340000</td>\n",
       "      <td>50.340000</td>\n",
       "      <td>1.000000e+11</td>\n",
       "      <td>1.000000e+11</td>\n",
       "      <td>0.0</td>\n",
       "      <td>14.500000</td>\n",
       "      <td>0.000000</td>\n",
       "      <td>5.000000</td>\n",
       "      <td>16.500000</td>\n",
       "      <td>14.500000</td>\n",
       "      <td>1.360000</td>\n",
       "      <td>1.000000</td>\n",
       "    </tr>\n",
       "    <tr>\n",
       "      <th>max</th>\n",
       "      <td>230885.000000</td>\n",
       "      <td>115902.000000</td>\n",
       "      <td>NaN</td>\n",
       "      <td>759.000000</td>\n",
       "      <td>62.620000</td>\n",
       "      <td>821.620000</td>\n",
       "      <td>821.620000</td>\n",
       "      <td>1.234671e+12</td>\n",
       "      <td>1.000000e+11</td>\n",
       "      <td>0.0</td>\n",
       "      <td>759.000000</td>\n",
       "      <td>1.000000</td>\n",
       "      <td>27.000000</td>\n",
       "      <td>759.000000</td>\n",
       "      <td>759.000000</td>\n",
       "      <td>62.620000</td>\n",
       "      <td>10.000000</td>\n",
       "    </tr>\n",
       "  </tbody>\n",
       "</table>\n",
       "</div>"
      ],
      "text/plain": [
       "        Order_Number    Customer ID  Company_Name  Order_Sub_Total  \\\n",
       "count   22323.000000     909.000000           0.0     22323.000000   \n",
       "mean   210074.469471  109215.795380           NaN        37.054772   \n",
       "std     12096.632548   18576.333315           NaN        29.548151   \n",
       "min    185341.000000    1124.000000           NaN         0.000000   \n",
       "25%    200156.000000  112447.000000           NaN        18.000000   \n",
       "50%    209675.000000  114530.000000           NaN        32.000000   \n",
       "75%    220213.500000  115344.000000           NaN        48.000000   \n",
       "max    230885.000000  115902.000000           NaN       759.000000   \n",
       "\n",
       "       Order_Sales_Tax   Order_Total  Payment_Amount       Barcode  \\\n",
       "count     22323.000000  22323.000000    22323.000000  2.225000e+04   \n",
       "mean          2.968230     38.779181       38.683698  1.000980e+11   \n",
       "std           2.430112     31.725330       31.773770  1.077442e+10   \n",
       "min           0.000000      0.000000        0.000000  1.000000e+10   \n",
       "25%           1.400000     17.940000       17.860000  1.000000e+11   \n",
       "50%           2.600000     33.560000       33.560000  1.000000e+11   \n",
       "75%           3.880000     50.340000       50.340000  1.000000e+11   \n",
       "max          62.620000    821.620000      821.620000  1.234671e+12   \n",
       "\n",
       "                Sku     Cost  Product_Price  Exchange_Void_or_Return  \\\n",
       "count  2.000000e+01  22323.0   22323.000000             22323.000000   \n",
       "mean   1.000000e+11      0.0      10.040451                 0.035434   \n",
       "std    3.959747e+02      0.0       7.912007                 0.184879   \n",
       "min    1.000000e+11      0.0       0.000000                 0.000000   \n",
       "25%    1.000000e+11      0.0       4.000000                 0.000000   \n",
       "50%    1.000000e+11      0.0      10.000000                 0.000000   \n",
       "75%    1.000000e+11      0.0      14.500000                 0.000000   \n",
       "max    1.000000e+11      0.0     759.000000                 1.000000   \n",
       "\n",
       "       Discount_Amount  Gross_Item_Price  Total_Sales_Price  \\\n",
       "count       841.000000      22323.000000       22323.000000   \n",
       "mean          3.243936         10.427585          10.554211   \n",
       "std           2.914323          8.175517           8.551853   \n",
       "min           0.000000          0.000000           0.000000   \n",
       "25%           1.000000          4.000000           4.500000   \n",
       "50%           2.000000         10.000000          10.000000   \n",
       "75%           5.000000         16.500000          14.500000   \n",
       "max          27.000000        759.000000         759.000000   \n",
       "\n",
       "       Total_Product_Tax  Product_Quantity  \n",
       "count       22323.000000      22323.000000  \n",
       "mean            0.884989          1.068808  \n",
       "std             0.732687          0.336416  \n",
       "min             0.000000          1.000000  \n",
       "25%             0.330000          1.000000  \n",
       "50%             0.820000          1.000000  \n",
       "75%             1.360000          1.000000  \n",
       "max            62.620000         10.000000  "
      ]
     },
     "execution_count": 48,
     "metadata": {},
     "output_type": "execute_result"
    }
   ],
   "source": [
    "df.describe()"
   ]
  },
  {
   "cell_type": "markdown",
   "id": "3b60b33e",
   "metadata": {},
   "source": [
    "### Drop Unnecessary Columns"
   ]
  },
  {
   "cell_type": "markdown",
   "id": "e2af6969",
   "metadata": {},
   "source": [
    "The following columns were determined to be unnecessary:\n",
    "\n",
    "* `Establishment_Name` (only dealing with one restaurant, whose name is removed for privacy reasons)\n",
    "* `POS_Station` (not interested in which payment terminal is used)\n",
    "* `Customer ID` (not tracked in dataset, fully null)\n",
    "* `First_Name` (removed for privacy reasons)\n",
    "* `Last_Name` (removed for privacy reasons)\n",
    "* `Company_Name` (not tracked in dataset, fully null)\n",
    "* `E-mail` (removed for privacy reasons)\n",
    "* `Reference_ID` (mostly not tracked in dataset, nearly fully null)\n",
    "* `Payment_Amount` (redundant with `Order_Total`)\n",
    "* `Barcode` (products better tracked by `Product_Name`)\n",
    "* `Sku` (nearly fully null, better tracked by `Product_Name`)\n",
    "* `Cost` (not truly tracked in dataset, all zero values)\n",
    "* `Product_Price` (better tracked by `Gross_Item_Price` and `Total_Sales_Price`)\n",
    "* `Sub_category` (redundant with `Category` in this dataset)\n",
    "* `Class` (doesn't provide useful information beyond `Category`)\n"
   ]
  },
  {
   "cell_type": "code",
   "execution_count": 49,
   "id": "13a5fe9e",
   "metadata": {},
   "outputs": [],
   "source": [
    "df.drop(\n",
    "    columns=[\n",
    "        \"Establishment_Name\",\n",
    "        \"POS_Station\",\n",
    "        \"Customer ID\",\n",
    "        \"First_Name\",\n",
    "        \"Last_Name\",\n",
    "        \"Company_Name\",\n",
    "        \"Email\",\n",
    "        \"Reference_ID\",\n",
    "        \"Payment_Amount\",\n",
    "        \"Barcode\",\n",
    "        \"Sku\",\n",
    "        \"Cost\",\n",
    "        \"Product_Price\",\n",
    "        \"Sub_category\",\n",
    "        \"Class\",\n",
    "        \"Return_Exchange_Reason\",\n",
    "        \"Discount_Amount\",\n",
    "    ],\n",
    "    inplace=True,\n",
    ")"
   ]
  },
  {
   "cell_type": "code",
   "execution_count": 50,
   "id": "263bad51",
   "metadata": {},
   "outputs": [
    {
     "data": {
      "text/plain": [
       "Index(['Order_Number', 'Order_Type', 'Order_Date', 'Order_Sub_Total',\n",
       "       'Order_Sales_Tax', 'Order_Total', 'Payment_Type', 'Product_Name',\n",
       "       'Category', 'Exchange_Void_or_Return', 'Discount_Reason',\n",
       "       'Gross_Item_Price', 'Total_Sales_Price', 'Total_Product_Tax',\n",
       "       'Product_Quantity', 'Special_Request'],\n",
       "      dtype='object')"
      ]
     },
     "execution_count": 50,
     "metadata": {},
     "output_type": "execute_result"
    }
   ],
   "source": [
    "df.columns"
   ]
  },
  {
   "cell_type": "markdown",
   "metadata": {},
   "source": [
    "### Define Column Types"
   ]
  },
  {
   "cell_type": "markdown",
   "metadata": {},
   "source": [
    "##### Datetime"
   ]
  },
  {
   "cell_type": "code",
   "execution_count": 51,
   "id": "719acf9a",
   "metadata": {},
   "outputs": [
    {
     "name": "stderr",
     "output_type": "stream",
     "text": [
      "/var/folders/2l/5z_t54nn2mgcnb_rlc4qxcr40000gn/T/ipykernel_792/3641458714.py:1: UserWarning:\n",
      "\n",
      "Could not infer format, so each element will be parsed individually, falling back to `dateutil`. To ensure parsing is consistent and as-expected, please specify a format.\n",
      "\n"
     ]
    }
   ],
   "source": [
    "df[\"Order_Date\"] = pd.to_datetime(df[\"Order_Date\"])"
   ]
  },
  {
   "cell_type": "markdown",
   "metadata": {},
   "source": [
    "##### Categorical"
   ]
  },
  {
   "cell_type": "code",
   "execution_count": 52,
   "id": "8dfec8e9",
   "metadata": {},
   "outputs": [],
   "source": [
    "df[[\"Order_Number\", \"Order_Type\", \"Payment_Type\", \"Product_Name\", \"Category\"]] = df[\n",
    "    [\"Order_Number\", \"Order_Type\", \"Payment_Type\", \"Product_Name\", \"Category\"]\n",
    "].astype(\"category\")"
   ]
  },
  {
   "cell_type": "markdown",
   "metadata": {},
   "source": [
    "##### Boolean"
   ]
  },
  {
   "cell_type": "code",
   "execution_count": 53,
   "id": "de314195",
   "metadata": {},
   "outputs": [],
   "source": [
    "df[\"Exchange_Void_or_Return\"] = df[\"Exchange_Void_or_Return\"].astype(bool)"
   ]
  },
  {
   "cell_type": "markdown",
   "metadata": {},
   "source": [
    "##### Numeric\n"
   ]
  },
  {
   "cell_type": "markdown",
   "metadata": {},
   "source": [
    "`Product_Quantity` is a discrete integer, and all other numerical columns represent dollar values, which are discrete in the sense that they are measured to pennies."
   ]
  },
  {
   "cell_type": "code",
   "execution_count": 54,
   "metadata": {},
   "outputs": [],
   "source": [
    "df[\"Product_Quantity\"] = df[\"Product_Quantity\"].astype(int)"
   ]
  },
  {
   "cell_type": "markdown",
   "metadata": {},
   "source": [
    "#### Check column types"
   ]
  },
  {
   "cell_type": "code",
   "execution_count": 55,
   "id": "5dc4d655",
   "metadata": {},
   "outputs": [
    {
     "name": "stdout",
     "output_type": "stream",
     "text": [
      "<class 'pandas.core.frame.DataFrame'>\n",
      "RangeIndex: 22323 entries, 0 to 22322\n",
      "Data columns (total 16 columns):\n",
      " #   Column                   Non-Null Count  Dtype         \n",
      "---  ------                   --------------  -----         \n",
      " 0   Order_Number             22323 non-null  category      \n",
      " 1   Order_Type               22323 non-null  category      \n",
      " 2   Order_Date               22323 non-null  datetime64[ns]\n",
      " 3   Order_Sub_Total          22323 non-null  float64       \n",
      " 4   Order_Sales_Tax          22323 non-null  float64       \n",
      " 5   Order_Total              22323 non-null  float64       \n",
      " 6   Payment_Type             21336 non-null  category      \n",
      " 7   Product_Name             22323 non-null  category      \n",
      " 8   Category                 22250 non-null  category      \n",
      " 9   Exchange_Void_or_Return  22323 non-null  bool          \n",
      " 10  Discount_Reason          780 non-null    object        \n",
      " 11  Gross_Item_Price         22323 non-null  float64       \n",
      " 12  Total_Sales_Price        22323 non-null  float64       \n",
      " 13  Total_Product_Tax        22323 non-null  float64       \n",
      " 14  Product_Quantity         22323 non-null  int64         \n",
      " 15  Special_Request          779 non-null    object        \n",
      "dtypes: bool(1), category(5), datetime64[ns](1), float64(6), int64(1), object(2)\n",
      "memory usage: 2.2+ MB\n"
     ]
    }
   ],
   "source": [
    "df.info()"
   ]
  },
  {
   "cell_type": "markdown",
   "metadata": {},
   "source": [
    "### Descriptive Statistics"
   ]
  },
  {
   "cell_type": "markdown",
   "metadata": {},
   "source": [
    "#### Categorical Columns"
   ]
  },
  {
   "cell_type": "code",
   "execution_count": 56,
   "metadata": {},
   "outputs": [
    {
     "data": {
      "text/html": [
       "<div>\n",
       "<style scoped>\n",
       "    .dataframe tbody tr th:only-of-type {\n",
       "        vertical-align: middle;\n",
       "    }\n",
       "\n",
       "    .dataframe tbody tr th {\n",
       "        vertical-align: top;\n",
       "    }\n",
       "\n",
       "    .dataframe thead th {\n",
       "        text-align: right;\n",
       "    }\n",
       "</style>\n",
       "<table border=\"1\" class=\"dataframe\">\n",
       "  <thead>\n",
       "    <tr style=\"text-align: right;\">\n",
       "      <th></th>\n",
       "      <th>Order_Number</th>\n",
       "      <th>Order_Type</th>\n",
       "      <th>Payment_Type</th>\n",
       "      <th>Product_Name</th>\n",
       "      <th>Category</th>\n",
       "    </tr>\n",
       "  </thead>\n",
       "  <tbody>\n",
       "    <tr>\n",
       "      <th>count</th>\n",
       "      <td>22323</td>\n",
       "      <td>22323</td>\n",
       "      <td>21336</td>\n",
       "      <td>22323</td>\n",
       "      <td>22250</td>\n",
       "    </tr>\n",
       "    <tr>\n",
       "      <th>unique</th>\n",
       "      <td>8829</td>\n",
       "      <td>5</td>\n",
       "      <td>10</td>\n",
       "      <td>269</td>\n",
       "      <td>13</td>\n",
       "    </tr>\n",
       "    <tr>\n",
       "      <th>top</th>\n",
       "      <td>228348</td>\n",
       "      <td>To Go</td>\n",
       "      <td>Credit</td>\n",
       "      <td>Shoyu</td>\n",
       "      <td>Food</td>\n",
       "    </tr>\n",
       "    <tr>\n",
       "      <th>freq</th>\n",
       "      <td>30</td>\n",
       "      <td>11035</td>\n",
       "      <td>19290</td>\n",
       "      <td>3247</td>\n",
       "      <td>13964</td>\n",
       "    </tr>\n",
       "  </tbody>\n",
       "</table>\n",
       "</div>"
      ],
      "text/plain": [
       "        Order_Number Order_Type Payment_Type Product_Name Category\n",
       "count          22323      22323        21336        22323    22250\n",
       "unique          8829          5           10          269       13\n",
       "top           228348      To Go       Credit        Shoyu     Food\n",
       "freq              30      11035        19290         3247    13964"
      ]
     },
     "execution_count": 56,
     "metadata": {},
     "output_type": "execute_result"
    }
   ],
   "source": [
    "df[\n",
    "    [\"Order_Number\", \"Order_Type\", \"Payment_Type\", \"Product_Name\", \"Category\"]\n",
    "].describe()"
   ]
  },
  {
   "cell_type": "markdown",
   "metadata": {},
   "source": [
    "#### Quantitative Data"
   ]
  },
  {
   "cell_type": "code",
   "execution_count": 57,
   "metadata": {},
   "outputs": [
    {
     "name": "stdout",
     "output_type": "stream",
     "text": [
      "All values in $ (USD)\n"
     ]
    },
    {
     "data": {
      "text/html": [
       "<div>\n",
       "<style scoped>\n",
       "    .dataframe tbody tr th:only-of-type {\n",
       "        vertical-align: middle;\n",
       "    }\n",
       "\n",
       "    .dataframe tbody tr th {\n",
       "        vertical-align: top;\n",
       "    }\n",
       "\n",
       "    .dataframe thead th {\n",
       "        text-align: right;\n",
       "    }\n",
       "</style>\n",
       "<table border=\"1\" class=\"dataframe\">\n",
       "  <thead>\n",
       "    <tr style=\"text-align: right;\">\n",
       "      <th></th>\n",
       "      <th>Order_Sub_Total</th>\n",
       "      <th>Order_Sales_Tax</th>\n",
       "      <th>Order_Total</th>\n",
       "      <th>Gross_Item_Price</th>\n",
       "      <th>Total_Sales_Price</th>\n",
       "      <th>Total_Product_Tax</th>\n",
       "      <th>Product_Quantity</th>\n",
       "    </tr>\n",
       "  </thead>\n",
       "  <tbody>\n",
       "    <tr>\n",
       "      <th>count</th>\n",
       "      <td>22323.000000</td>\n",
       "      <td>22323.000000</td>\n",
       "      <td>22323.000000</td>\n",
       "      <td>22323.000000</td>\n",
       "      <td>22323.000000</td>\n",
       "      <td>22323.000000</td>\n",
       "      <td>22323.000000</td>\n",
       "    </tr>\n",
       "    <tr>\n",
       "      <th>mean</th>\n",
       "      <td>37.054772</td>\n",
       "      <td>2.968230</td>\n",
       "      <td>38.779181</td>\n",
       "      <td>10.427585</td>\n",
       "      <td>10.554211</td>\n",
       "      <td>0.884989</td>\n",
       "      <td>1.068808</td>\n",
       "    </tr>\n",
       "    <tr>\n",
       "      <th>std</th>\n",
       "      <td>29.548151</td>\n",
       "      <td>2.430112</td>\n",
       "      <td>31.725330</td>\n",
       "      <td>8.175517</td>\n",
       "      <td>8.551853</td>\n",
       "      <td>0.732687</td>\n",
       "      <td>0.336416</td>\n",
       "    </tr>\n",
       "    <tr>\n",
       "      <th>min</th>\n",
       "      <td>0.000000</td>\n",
       "      <td>0.000000</td>\n",
       "      <td>0.000000</td>\n",
       "      <td>0.000000</td>\n",
       "      <td>0.000000</td>\n",
       "      <td>0.000000</td>\n",
       "      <td>1.000000</td>\n",
       "    </tr>\n",
       "    <tr>\n",
       "      <th>25%</th>\n",
       "      <td>18.000000</td>\n",
       "      <td>1.400000</td>\n",
       "      <td>17.940000</td>\n",
       "      <td>4.000000</td>\n",
       "      <td>4.500000</td>\n",
       "      <td>0.330000</td>\n",
       "      <td>1.000000</td>\n",
       "    </tr>\n",
       "    <tr>\n",
       "      <th>50%</th>\n",
       "      <td>32.000000</td>\n",
       "      <td>2.600000</td>\n",
       "      <td>33.560000</td>\n",
       "      <td>10.000000</td>\n",
       "      <td>10.000000</td>\n",
       "      <td>0.820000</td>\n",
       "      <td>1.000000</td>\n",
       "    </tr>\n",
       "    <tr>\n",
       "      <th>75%</th>\n",
       "      <td>48.000000</td>\n",
       "      <td>3.880000</td>\n",
       "      <td>50.340000</td>\n",
       "      <td>16.500000</td>\n",
       "      <td>14.500000</td>\n",
       "      <td>1.360000</td>\n",
       "      <td>1.000000</td>\n",
       "    </tr>\n",
       "    <tr>\n",
       "      <th>max</th>\n",
       "      <td>759.000000</td>\n",
       "      <td>62.620000</td>\n",
       "      <td>821.620000</td>\n",
       "      <td>759.000000</td>\n",
       "      <td>759.000000</td>\n",
       "      <td>62.620000</td>\n",
       "      <td>10.000000</td>\n",
       "    </tr>\n",
       "  </tbody>\n",
       "</table>\n",
       "</div>"
      ],
      "text/plain": [
       "       Order_Sub_Total  Order_Sales_Tax   Order_Total  Gross_Item_Price  \\\n",
       "count     22323.000000     22323.000000  22323.000000      22323.000000   \n",
       "mean         37.054772         2.968230     38.779181         10.427585   \n",
       "std          29.548151         2.430112     31.725330          8.175517   \n",
       "min           0.000000         0.000000      0.000000          0.000000   \n",
       "25%          18.000000         1.400000     17.940000          4.000000   \n",
       "50%          32.000000         2.600000     33.560000         10.000000   \n",
       "75%          48.000000         3.880000     50.340000         16.500000   \n",
       "max         759.000000        62.620000    821.620000        759.000000   \n",
       "\n",
       "       Total_Sales_Price  Total_Product_Tax  Product_Quantity  \n",
       "count       22323.000000       22323.000000      22323.000000  \n",
       "mean           10.554211           0.884989          1.068808  \n",
       "std             8.551853           0.732687          0.336416  \n",
       "min             0.000000           0.000000          1.000000  \n",
       "25%             4.500000           0.330000          1.000000  \n",
       "50%            10.000000           0.820000          1.000000  \n",
       "75%            14.500000           1.360000          1.000000  \n",
       "max           759.000000          62.620000         10.000000  "
      ]
     },
     "execution_count": 57,
     "metadata": {},
     "output_type": "execute_result"
    }
   ],
   "source": [
    "print(\"All values in $ (USD)\")\n",
    "df[\n",
    "    [\n",
    "        \"Order_Sub_Total\",\n",
    "        \"Order_Sales_Tax\",\n",
    "        \"Order_Total\",\n",
    "        \"Gross_Item_Price\",\n",
    "        \"Total_Sales_Price\",\n",
    "        \"Total_Product_Tax\",\n",
    "        \"Product_Quantity\",\n",
    "    ]\n",
    "].describe()"
   ]
  },
  {
   "attachments": {},
   "cell_type": "markdown",
   "id": "ae3a531b",
   "metadata": {},
   "source": [
    "### Data Wrangling"
   ]
  },
  {
   "cell_type": "markdown",
   "metadata": {},
   "source": [
    "#### Missing Values"
   ]
  },
  {
   "attachments": {},
   "cell_type": "markdown",
   "id": "2e8217c9",
   "metadata": {},
   "source": [
    "First, we find all missing data"
   ]
  },
  {
   "cell_type": "code",
   "execution_count": 58,
   "id": "5e6790e9",
   "metadata": {},
   "outputs": [
    {
     "data": {
      "text/plain": [
       "Order_Number                   0\n",
       "Order_Type                     0\n",
       "Order_Date                     0\n",
       "Order_Sub_Total                0\n",
       "Order_Sales_Tax                0\n",
       "Order_Total                    0\n",
       "Payment_Type                 987\n",
       "Product_Name                   0\n",
       "Category                      73\n",
       "Exchange_Void_or_Return        0\n",
       "Discount_Reason            21543\n",
       "Gross_Item_Price               0\n",
       "Total_Sales_Price              0\n",
       "Total_Product_Tax              0\n",
       "Product_Quantity               0\n",
       "Special_Request            21544\n",
       "dtype: int64"
      ]
     },
     "execution_count": 58,
     "metadata": {},
     "output_type": "execute_result"
    }
   ],
   "source": [
    "df.isna().sum()"
   ]
  },
  {
   "cell_type": "markdown",
   "metadata": {},
   "source": [
    "We see that `Discount_Reason`, `Special_Request` have a lot of null values, but those are expected. They occur when there is no discount or request, or when the server chose not to add a note.  \n",
    "No action needs to be taken."
   ]
  },
  {
   "cell_type": "markdown",
   "metadata": {},
   "source": [
    "`Category` has a few null values, but they are also expected. They occur when an item did not have a category at the time.  \n",
    "For now, no action needs to be taken, but deeper exploration might allow us to retroactively categorize them."
   ]
  },
  {
   "attachments": {},
   "cell_type": "markdown",
   "id": "eb21c5b8",
   "metadata": {},
   "source": [
    "`Payment_Type` has meaningful missing data, so we will investigate further."
   ]
  },
  {
   "cell_type": "markdown",
   "metadata": {},
   "source": [
    "##### `Payment_Type`"
   ]
  },
  {
   "cell_type": "markdown",
   "metadata": {},
   "source": [
    "Whenever payment type  is NaN, this means that the customer did not pay out. Thus we cannot count this as a sale. We can verify this information seeing 'Exchange_Void_or_Return' for the Order_Totals that have a value greater than 0. If payment type is NaN and Order_Total is 0.00, there is no need to Void or Return. \n",
    "\n"
   ]
  },
  {
   "attachments": {},
   "cell_type": "markdown",
   "id": "df87e642",
   "metadata": {},
   "source": [
    "Whenever `Payment_Type` is null, it means that the customer did not pay out.\n",
    "\n",
    "Our knowledge of the data means that there are three possibilities\n",
    "* `Payment_Type` is null, `Order_Total` is non- zero, `Exchange_Void_or_Return` is true\n",
    "    * There was no payment because the order was returned.\n",
    "* `Payment_Type` is null, `Order_Total` is zero, `Exchange_Void_or_Return` is true\n",
    "    * There was no payment because the order was voided.\n",
    "* `Payment_Type` is null, `Order_Total` is zero, `Exchange_Void_or_Return` is false \n",
    "    * There was no payment because the order was complimentary.\n",
    "\n",
    "We can remove the null values by updating `Payment_Type` with this information."
   ]
  },
  {
   "cell_type": "code",
   "execution_count": 59,
   "metadata": {},
   "outputs": [],
   "source": [
    "df[\"Payment_Type\"] = df[\"Payment_Type\"].cat.add_categories(\n",
    "    [\"Returned\", \"Void\", \"Complimentary\"]\n",
    ")"
   ]
  },
  {
   "cell_type": "code",
   "execution_count": 60,
   "metadata": {},
   "outputs": [],
   "source": [
    "df.loc[\n",
    "    (df[\"Payment_Type\"].isna())\n",
    "    & (df[\"Order_Total\"] != 0.00)\n",
    "    & (df[\"Exchange_Void_or_Return\"]),\n",
    "    \"Payment_Type\",\n",
    "] = \"Returned\""
   ]
  },
  {
   "cell_type": "code",
   "execution_count": 61,
   "metadata": {},
   "outputs": [],
   "source": [
    "df.loc[\n",
    "    (df[\"Payment_Type\"].isna())\n",
    "    & (df[\"Order_Total\"] == 0.00)\n",
    "    & (df[\"Exchange_Void_or_Return\"]),\n",
    "    \"Payment_Type\",\n",
    "] = \"Void\""
   ]
  },
  {
   "cell_type": "code",
   "execution_count": 62,
   "metadata": {},
   "outputs": [],
   "source": [
    "df.loc[\n",
    "    (df[\"Payment_Type\"].isna())\n",
    "    & (df[\"Order_Total\"] == 0.00)\n",
    "    & ~(df[\"Exchange_Void_or_Return\"]),\n",
    "    \"Payment_Type\",\n",
    "] = \"Complimentary\""
   ]
  },
  {
   "cell_type": "markdown",
   "metadata": {},
   "source": [
    "And, we can check to make sure the operations completed successfully"
   ]
  },
  {
   "cell_type": "code",
   "execution_count": 63,
   "metadata": {},
   "outputs": [
    {
     "data": {
      "text/plain": [
       "Payment_Type\n",
       "Credit                19290\n",
       "Cash                    740\n",
       "Uber Eats               658\n",
       "Complimentary           595\n",
       "Door Dash               516\n",
       "Void                    337\n",
       "Cash;Credit              75\n",
       "Returned                 55\n",
       "Grub Hub                 42\n",
       "Credit;Gift Cards         7\n",
       "Gift Cards                4\n",
       "Trade                     3\n",
       "Open Table Omakase        1\n",
       "Name: count, dtype: int64"
      ]
     },
     "execution_count": 63,
     "metadata": {},
     "output_type": "execute_result"
    }
   ],
   "source": [
    "df[\"Payment_Type\"].value_counts()"
   ]
  },
  {
   "cell_type": "code",
   "execution_count": 64,
   "metadata": {},
   "outputs": [
    {
     "data": {
      "text/plain": [
       "0"
      ]
     },
     "execution_count": 64,
     "metadata": {},
     "output_type": "execute_result"
    }
   ],
   "source": [
    "df[\"Payment_Type\"].isna().sum()"
   ]
  },
  {
   "cell_type": "markdown",
   "metadata": {},
   "source": [
    "#### Additional Data Wrangling"
   ]
  },
  {
   "cell_type": "markdown",
   "metadata": {},
   "source": [
    "Examination of the data shows that there are no values outside of expected ranges."
   ]
  },
  {
   "cell_type": "code",
   "execution_count": 65,
   "metadata": {},
   "outputs": [
    {
     "data": {
      "text/html": [
       "<div>\n",
       "<style scoped>\n",
       "    .dataframe tbody tr th:only-of-type {\n",
       "        vertical-align: middle;\n",
       "    }\n",
       "\n",
       "    .dataframe tbody tr th {\n",
       "        vertical-align: top;\n",
       "    }\n",
       "\n",
       "    .dataframe thead th {\n",
       "        text-align: right;\n",
       "    }\n",
       "</style>\n",
       "<table border=\"1\" class=\"dataframe\">\n",
       "  <thead>\n",
       "    <tr style=\"text-align: right;\">\n",
       "      <th></th>\n",
       "      <th>Order_Date</th>\n",
       "      <th>Order_Sub_Total</th>\n",
       "      <th>Order_Sales_Tax</th>\n",
       "      <th>Order_Total</th>\n",
       "      <th>Gross_Item_Price</th>\n",
       "      <th>Total_Sales_Price</th>\n",
       "      <th>Total_Product_Tax</th>\n",
       "      <th>Product_Quantity</th>\n",
       "    </tr>\n",
       "  </thead>\n",
       "  <tbody>\n",
       "    <tr>\n",
       "      <th>count</th>\n",
       "      <td>22323</td>\n",
       "      <td>22323.000000</td>\n",
       "      <td>22323.000000</td>\n",
       "      <td>22323.000000</td>\n",
       "      <td>22323.000000</td>\n",
       "      <td>22323.000000</td>\n",
       "      <td>22323.000000</td>\n",
       "      <td>22323.000000</td>\n",
       "    </tr>\n",
       "    <tr>\n",
       "      <th>mean</th>\n",
       "      <td>2023-08-16 23:44:33.383729920</td>\n",
       "      <td>37.054772</td>\n",
       "      <td>2.968230</td>\n",
       "      <td>38.779181</td>\n",
       "      <td>10.427585</td>\n",
       "      <td>10.554211</td>\n",
       "      <td>0.884989</td>\n",
       "      <td>1.068808</td>\n",
       "    </tr>\n",
       "    <tr>\n",
       "      <th>min</th>\n",
       "      <td>2023-05-11 15:21:18</td>\n",
       "      <td>0.000000</td>\n",
       "      <td>0.000000</td>\n",
       "      <td>0.000000</td>\n",
       "      <td>0.000000</td>\n",
       "      <td>0.000000</td>\n",
       "      <td>0.000000</td>\n",
       "      <td>1.000000</td>\n",
       "    </tr>\n",
       "    <tr>\n",
       "      <th>25%</th>\n",
       "      <td>2023-07-10 18:08:49</td>\n",
       "      <td>18.000000</td>\n",
       "      <td>1.400000</td>\n",
       "      <td>17.940000</td>\n",
       "      <td>4.000000</td>\n",
       "      <td>4.500000</td>\n",
       "      <td>0.330000</td>\n",
       "      <td>1.000000</td>\n",
       "    </tr>\n",
       "    <tr>\n",
       "      <th>50%</th>\n",
       "      <td>2023-08-15 20:32:59</td>\n",
       "      <td>32.000000</td>\n",
       "      <td>2.600000</td>\n",
       "      <td>33.560000</td>\n",
       "      <td>10.000000</td>\n",
       "      <td>10.000000</td>\n",
       "      <td>0.820000</td>\n",
       "      <td>1.000000</td>\n",
       "    </tr>\n",
       "    <tr>\n",
       "      <th>75%</th>\n",
       "      <td>2023-09-24 12:09:00.500000</td>\n",
       "      <td>48.000000</td>\n",
       "      <td>3.880000</td>\n",
       "      <td>50.340000</td>\n",
       "      <td>16.500000</td>\n",
       "      <td>14.500000</td>\n",
       "      <td>1.360000</td>\n",
       "      <td>1.000000</td>\n",
       "    </tr>\n",
       "    <tr>\n",
       "      <th>max</th>\n",
       "      <td>2023-10-31 20:45:12</td>\n",
       "      <td>759.000000</td>\n",
       "      <td>62.620000</td>\n",
       "      <td>821.620000</td>\n",
       "      <td>759.000000</td>\n",
       "      <td>759.000000</td>\n",
       "      <td>62.620000</td>\n",
       "      <td>10.000000</td>\n",
       "    </tr>\n",
       "    <tr>\n",
       "      <th>std</th>\n",
       "      <td>NaN</td>\n",
       "      <td>29.548151</td>\n",
       "      <td>2.430112</td>\n",
       "      <td>31.725330</td>\n",
       "      <td>8.175517</td>\n",
       "      <td>8.551853</td>\n",
       "      <td>0.732687</td>\n",
       "      <td>0.336416</td>\n",
       "    </tr>\n",
       "  </tbody>\n",
       "</table>\n",
       "</div>"
      ],
      "text/plain": [
       "                          Order_Date  Order_Sub_Total  Order_Sales_Tax  \\\n",
       "count                          22323     22323.000000     22323.000000   \n",
       "mean   2023-08-16 23:44:33.383729920        37.054772         2.968230   \n",
       "min              2023-05-11 15:21:18         0.000000         0.000000   \n",
       "25%              2023-07-10 18:08:49        18.000000         1.400000   \n",
       "50%              2023-08-15 20:32:59        32.000000         2.600000   \n",
       "75%       2023-09-24 12:09:00.500000        48.000000         3.880000   \n",
       "max              2023-10-31 20:45:12       759.000000        62.620000   \n",
       "std                              NaN        29.548151         2.430112   \n",
       "\n",
       "        Order_Total  Gross_Item_Price  Total_Sales_Price  Total_Product_Tax  \\\n",
       "count  22323.000000      22323.000000       22323.000000       22323.000000   \n",
       "mean      38.779181         10.427585          10.554211           0.884989   \n",
       "min        0.000000          0.000000           0.000000           0.000000   \n",
       "25%       17.940000          4.000000           4.500000           0.330000   \n",
       "50%       33.560000         10.000000          10.000000           0.820000   \n",
       "75%       50.340000         16.500000          14.500000           1.360000   \n",
       "max      821.620000        759.000000         759.000000          62.620000   \n",
       "std       31.725330          8.175517           8.551853           0.732687   \n",
       "\n",
       "       Product_Quantity  \n",
       "count      22323.000000  \n",
       "mean           1.068808  \n",
       "min            1.000000  \n",
       "25%            1.000000  \n",
       "50%            1.000000  \n",
       "75%            1.000000  \n",
       "max           10.000000  \n",
       "std            0.336416  "
      ]
     },
     "execution_count": 65,
     "metadata": {},
     "output_type": "execute_result"
    }
   ],
   "source": [
    "df.describe()"
   ]
  },
  {
   "attachments": {},
   "cell_type": "markdown",
   "id": "572ee020",
   "metadata": {},
   "source": [
    "There is no reason to remove duplicates from any of the columns of this dataset."
   ]
  },
  {
   "attachments": {},
   "cell_type": "markdown",
   "id": "5600a671",
   "metadata": {},
   "source": [
    "## Statistical Analysis"
   ]
  },
  {
   "cell_type": "markdown",
   "metadata": {},
   "source": [
    "### Correlation"
   ]
  },
  {
   "cell_type": "code",
   "execution_count": 66,
   "metadata": {},
   "outputs": [
    {
     "data": {
      "image/png": "[encoded data removed]",
      "text/plain": [
       "<Figure size 800x1200 with 2 Axes>"
      ]
     },
     "metadata": {},
     "output_type": "display_data"
    }
   ],
   "source": [
    "plt.figure(figsize=(8, 12))\n",
    "sns.heatmap(\n",
    "    df.corr(numeric_only=True),\n",
    "    vmin=-1,\n",
    "    vmax=1,\n",
    "    annot=True,\n",
    "    cmap=\"vlag_r\",\n",
    ")\n",
    "plt.title(\"Ramen Shop Correlation Chart\")\n",
    "plt.yticks(rotation=0)\n",
    "\n",
    "plt.show()"
   ]
  },
  {
   "cell_type": "markdown",
   "metadata": {},
   "source": [
    "For this dataset, the only values with high correlations are ones that are intuitively obvious: The list prices, tax, and total for both orders and products.  \n"
   ]
  },
  {
   "cell_type": "markdown",
   "metadata": {},
   "source": [
    "We don't need to do any additional analysis to determine the fit between these variables, they are related through an obvious linear relationship."
   ]
  },
  {
   "attachments": {},
   "cell_type": "markdown",
   "id": "9e92deee",
   "metadata": {},
   "source": [
    "# Design"
   ]
  },
  {
   "attachments": {},
   "cell_type": "markdown",
   "id": "81b25b52",
   "metadata": {},
   "source": [
    "##### Previously in the analysis portion we introduced the sales data from a local ramen shop. To reiterate, we hope to uncover patterns in consumer behavior. Then, we hope to develop a cohesive visual story that allows those patterns to turn into actionable insights for the restaurant. In addition to forecasting sales, we believe that this information could help to optimize a broad range of strategic decisions, from scheduling to inventory to marketing strategies."
   ]
  },
  {
   "cell_type": "code",
   "execution_count": 67,
   "id": "0ba7cb08",
   "metadata": {},
   "outputs": [
    {
     "data": {
      "text/html": [
       "<div>\n",
       "<style scoped>\n",
       "    .dataframe tbody tr th:only-of-type {\n",
       "        vertical-align: middle;\n",
       "    }\n",
       "\n",
       "    .dataframe tbody tr th {\n",
       "        vertical-align: top;\n",
       "    }\n",
       "\n",
       "    .dataframe thead th {\n",
       "        text-align: right;\n",
       "    }\n",
       "</style>\n",
       "<table border=\"1\" class=\"dataframe\">\n",
       "  <thead>\n",
       "    <tr style=\"text-align: right;\">\n",
       "      <th></th>\n",
       "      <th>Order_Number</th>\n",
       "      <th>Order_Type</th>\n",
       "      <th>Order_Date</th>\n",
       "      <th>Order_Sub_Total</th>\n",
       "      <th>Order_Sales_Tax</th>\n",
       "      <th>Order_Total</th>\n",
       "      <th>Payment_Type</th>\n",
       "      <th>Product_Name</th>\n",
       "      <th>Category</th>\n",
       "      <th>Exchange_Void_or_Return</th>\n",
       "      <th>Discount_Reason</th>\n",
       "      <th>Gross_Item_Price</th>\n",
       "      <th>Total_Sales_Price</th>\n",
       "      <th>Total_Product_Tax</th>\n",
       "      <th>Product_Quantity</th>\n",
       "      <th>Special_Request</th>\n",
       "    </tr>\n",
       "  </thead>\n",
       "  <tbody>\n",
       "    <tr>\n",
       "      <th>0</th>\n",
       "      <td>185341</td>\n",
       "      <td>To Go</td>\n",
       "      <td>2023-05-11 15:21:18</td>\n",
       "      <td>0.00</td>\n",
       "      <td>0.00</td>\n",
       "      <td>0.00</td>\n",
       "      <td>Complimentary</td>\n",
       "      <td>Smoked Karage</td>\n",
       "      <td>Ramen</td>\n",
       "      <td>False</td>\n",
       "      <td>NaN</td>\n",
       "      <td>0.00</td>\n",
       "      <td>0.00</td>\n",
       "      <td>0.00</td>\n",
       "      <td>1</td>\n",
       "      <td>NaN</td>\n",
       "    </tr>\n",
       "    <tr>\n",
       "      <th>1</th>\n",
       "      <td>185342</td>\n",
       "      <td>To Go</td>\n",
       "      <td>2023-05-11 15:23:14</td>\n",
       "      <td>0.01</td>\n",
       "      <td>0.00</td>\n",
       "      <td>0.01</td>\n",
       "      <td>Credit</td>\n",
       "      <td>Smoked Karage</td>\n",
       "      <td>Ramen</td>\n",
       "      <td>False</td>\n",
       "      <td>NaN</td>\n",
       "      <td>0.00</td>\n",
       "      <td>0.00</td>\n",
       "      <td>0.00</td>\n",
       "      <td>1</td>\n",
       "      <td>NaN</td>\n",
       "    </tr>\n",
       "    <tr>\n",
       "      <th>2</th>\n",
       "      <td>185342</td>\n",
       "      <td>To Go</td>\n",
       "      <td>2023-05-11 15:23:14</td>\n",
       "      <td>0.01</td>\n",
       "      <td>0.00</td>\n",
       "      <td>0.01</td>\n",
       "      <td>Credit</td>\n",
       "      <td>LOVE</td>\n",
       "      <td>Specials</td>\n",
       "      <td>False</td>\n",
       "      <td>NaN</td>\n",
       "      <td>0.01</td>\n",
       "      <td>0.01</td>\n",
       "      <td>0.00</td>\n",
       "      <td>1</td>\n",
       "      <td>NaN</td>\n",
       "    </tr>\n",
       "    <tr>\n",
       "      <th>3</th>\n",
       "      <td>185342</td>\n",
       "      <td>To Go</td>\n",
       "      <td>2023-05-11 15:23:14</td>\n",
       "      <td>0.01</td>\n",
       "      <td>0.00</td>\n",
       "      <td>0.01</td>\n",
       "      <td>Credit</td>\n",
       "      <td>10 Indomitable Chicken Wing ICW</td>\n",
       "      <td>Appetizers</td>\n",
       "      <td>True</td>\n",
       "      <td>NaN</td>\n",
       "      <td>18.00</td>\n",
       "      <td>18.00</td>\n",
       "      <td>1.49</td>\n",
       "      <td>1</td>\n",
       "      <td>Do not make</td>\n",
       "    </tr>\n",
       "    <tr>\n",
       "      <th>4</th>\n",
       "      <td>185369</td>\n",
       "      <td>To Go</td>\n",
       "      <td>2023-05-11 18:04:16</td>\n",
       "      <td>0.00</td>\n",
       "      <td>0.00</td>\n",
       "      <td>0.00</td>\n",
       "      <td>Complimentary</td>\n",
       "      <td>Smoked Karage</td>\n",
       "      <td>Ramen</td>\n",
       "      <td>False</td>\n",
       "      <td>NaN</td>\n",
       "      <td>0.00</td>\n",
       "      <td>0.00</td>\n",
       "      <td>0.00</td>\n",
       "      <td>1</td>\n",
       "      <td>NaN</td>\n",
       "    </tr>\n",
       "    <tr>\n",
       "      <th>...</th>\n",
       "      <td>...</td>\n",
       "      <td>...</td>\n",
       "      <td>...</td>\n",
       "      <td>...</td>\n",
       "      <td>...</td>\n",
       "      <td>...</td>\n",
       "      <td>...</td>\n",
       "      <td>...</td>\n",
       "      <td>...</td>\n",
       "      <td>...</td>\n",
       "      <td>...</td>\n",
       "      <td>...</td>\n",
       "      <td>...</td>\n",
       "      <td>...</td>\n",
       "      <td>...</td>\n",
       "      <td>...</td>\n",
       "    </tr>\n",
       "    <tr>\n",
       "      <th>22318</th>\n",
       "      <td>230856</td>\n",
       "      <td>Eat In</td>\n",
       "      <td>2023-10-31 20:00:39</td>\n",
       "      <td>127.00</td>\n",
       "      <td>10.48</td>\n",
       "      <td>137.48</td>\n",
       "      <td>Credit</td>\n",
       "      <td>Classic Shoyu</td>\n",
       "      <td>Food</td>\n",
       "      <td>False</td>\n",
       "      <td>NaN</td>\n",
       "      <td>10.00</td>\n",
       "      <td>10.00</td>\n",
       "      <td>0.82</td>\n",
       "      <td>1</td>\n",
       "      <td>TOGO</td>\n",
       "    </tr>\n",
       "    <tr>\n",
       "      <th>22319</th>\n",
       "      <td>230885</td>\n",
       "      <td>To Go</td>\n",
       "      <td>2023-10-31 20:45:12</td>\n",
       "      <td>17.50</td>\n",
       "      <td>0.00</td>\n",
       "      <td>0.00</td>\n",
       "      <td>Complimentary</td>\n",
       "      <td>TO-GO</td>\n",
       "      <td>Food</td>\n",
       "      <td>False</td>\n",
       "      <td>NaN</td>\n",
       "      <td>0.00</td>\n",
       "      <td>0.00</td>\n",
       "      <td>0.00</td>\n",
       "      <td>1</td>\n",
       "      <td>NaN</td>\n",
       "    </tr>\n",
       "    <tr>\n",
       "      <th>22320</th>\n",
       "      <td>230885</td>\n",
       "      <td>To Go</td>\n",
       "      <td>2023-10-31 20:45:12</td>\n",
       "      <td>17.50</td>\n",
       "      <td>0.00</td>\n",
       "      <td>0.00</td>\n",
       "      <td>Complimentary</td>\n",
       "      <td>Classic Shoyu</td>\n",
       "      <td>Food</td>\n",
       "      <td>False</td>\n",
       "      <td>NaN</td>\n",
       "      <td>16.00</td>\n",
       "      <td>10.00</td>\n",
       "      <td>1.32</td>\n",
       "      <td>1</td>\n",
       "      <td>NaN</td>\n",
       "    </tr>\n",
       "    <tr>\n",
       "      <th>22321</th>\n",
       "      <td>230885</td>\n",
       "      <td>To Go</td>\n",
       "      <td>2023-10-31 20:45:12</td>\n",
       "      <td>17.50</td>\n",
       "      <td>0.00</td>\n",
       "      <td>0.00</td>\n",
       "      <td>Complimentary</td>\n",
       "      <td>Nori</td>\n",
       "      <td>Extras</td>\n",
       "      <td>False</td>\n",
       "      <td>NaN</td>\n",
       "      <td>0.50</td>\n",
       "      <td>0.50</td>\n",
       "      <td>0.04</td>\n",
       "      <td>1</td>\n",
       "      <td>NaN</td>\n",
       "    </tr>\n",
       "    <tr>\n",
       "      <th>22322</th>\n",
       "      <td>230885</td>\n",
       "      <td>To Go</td>\n",
       "      <td>2023-10-31 20:45:12</td>\n",
       "      <td>17.50</td>\n",
       "      <td>0.00</td>\n",
       "      <td>0.00</td>\n",
       "      <td>Complimentary</td>\n",
       "      <td>BS &amp; C Mix</td>\n",
       "      <td>Extras</td>\n",
       "      <td>False</td>\n",
       "      <td>NaN</td>\n",
       "      <td>1.00</td>\n",
       "      <td>1.00</td>\n",
       "      <td>0.08</td>\n",
       "      <td>1</td>\n",
       "      <td>NaN</td>\n",
       "    </tr>\n",
       "  </tbody>\n",
       "</table>\n",
       "<p>22323 rows × 16 columns</p>\n",
       "</div>"
      ],
      "text/plain": [
       "      Order_Number Order_Type          Order_Date  Order_Sub_Total  \\\n",
       "0           185341      To Go 2023-05-11 15:21:18             0.00   \n",
       "1           185342      To Go 2023-05-11 15:23:14             0.01   \n",
       "2           185342      To Go 2023-05-11 15:23:14             0.01   \n",
       "3           185342      To Go 2023-05-11 15:23:14             0.01   \n",
       "4           185369      To Go 2023-05-11 18:04:16             0.00   \n",
       "...            ...        ...                 ...              ...   \n",
       "22318       230856     Eat In 2023-10-31 20:00:39           127.00   \n",
       "22319       230885      To Go 2023-10-31 20:45:12            17.50   \n",
       "22320       230885      To Go 2023-10-31 20:45:12            17.50   \n",
       "22321       230885      To Go 2023-10-31 20:45:12            17.50   \n",
       "22322       230885      To Go 2023-10-31 20:45:12            17.50   \n",
       "\n",
       "       Order_Sales_Tax  Order_Total   Payment_Type  \\\n",
       "0                 0.00         0.00  Complimentary   \n",
       "1                 0.00         0.01         Credit   \n",
       "2                 0.00         0.01         Credit   \n",
       "3                 0.00         0.01         Credit   \n",
       "4                 0.00         0.00  Complimentary   \n",
       "...                ...          ...            ...   \n",
       "22318            10.48       137.48         Credit   \n",
       "22319             0.00         0.00  Complimentary   \n",
       "22320             0.00         0.00  Complimentary   \n",
       "22321             0.00         0.00  Complimentary   \n",
       "22322             0.00         0.00  Complimentary   \n",
       "\n",
       "                          Product_Name    Category  Exchange_Void_or_Return  \\\n",
       "0                        Smoked Karage       Ramen                    False   \n",
       "1                        Smoked Karage       Ramen                    False   \n",
       "2                                 LOVE    Specials                    False   \n",
       "3      10 Indomitable Chicken Wing ICW  Appetizers                     True   \n",
       "4                        Smoked Karage       Ramen                    False   \n",
       "...                                ...         ...                      ...   \n",
       "22318                    Classic Shoyu        Food                    False   \n",
       "22319                            TO-GO        Food                    False   \n",
       "22320                    Classic Shoyu        Food                    False   \n",
       "22321                             Nori      Extras                    False   \n",
       "22322                       BS & C Mix      Extras                    False   \n",
       "\n",
       "      Discount_Reason  Gross_Item_Price  Total_Sales_Price  Total_Product_Tax  \\\n",
       "0                 NaN              0.00               0.00               0.00   \n",
       "1                 NaN              0.00               0.00               0.00   \n",
       "2                 NaN              0.01               0.01               0.00   \n",
       "3                 NaN             18.00              18.00               1.49   \n",
       "4                 NaN              0.00               0.00               0.00   \n",
       "...               ...               ...                ...                ...   \n",
       "22318             NaN             10.00              10.00               0.82   \n",
       "22319             NaN              0.00               0.00               0.00   \n",
       "22320             NaN             16.00              10.00               1.32   \n",
       "22321             NaN              0.50               0.50               0.04   \n",
       "22322             NaN              1.00               1.00               0.08   \n",
       "\n",
       "       Product_Quantity Special_Request  \n",
       "0                     1             NaN  \n",
       "1                     1             NaN  \n",
       "2                     1             NaN  \n",
       "3                     1     Do not make  \n",
       "4                     1             NaN  \n",
       "...                 ...             ...  \n",
       "22318                 1            TOGO  \n",
       "22319                 1             NaN  \n",
       "22320                 1             NaN  \n",
       "22321                 1             NaN  \n",
       "22322                 1             NaN  \n",
       "\n",
       "[22323 rows x 16 columns]"
      ]
     },
     "execution_count": 67,
     "metadata": {},
     "output_type": "execute_result"
    }
   ],
   "source": [
    "df"
   ]
  },
  {
   "cell_type": "code",
   "execution_count": 68,
   "id": "2634bcca",
   "metadata": {},
   "outputs": [
    {
     "name": "stdout",
     "output_type": "stream",
     "text": [
      "`Order_Number` `Order_Type` `Order_Date` `Order_Sub_Total` `Order_Sales_Tax` `Order_Total` `Payment_Type` `Product_Name` `Category` `Exchange_Void_or_Return` `Discount_Reason` `Gross_Item_Price` `Total_Sales_Price` `Total_Product_Tax` `Product_Quantity` `Special_Request` "
     ]
    }
   ],
   "source": [
    "for col in df.columns:\n",
    "    print(f'`{col}`', end=' ')"
   ]
  },
  {
   "attachments": {},
   "cell_type": "markdown",
   "id": "0904a6a2",
   "metadata": {},
   "source": [
    "##### Features\n",
    "The features that we are interested in are:\n",
    "\n",
    "* `Order_Number` \n",
    "* `Order_Type`\n",
    "* `Order_Date`\n",
    "* `Order_Sub_Total`\n",
    "* `Order_Sales_Tax`\n",
    "* `Order_Total`\n",
    "* `Payment_Type`\n",
    "* `Product_Name`\n",
    "* `Category`\n",
    "* `Exchange_Void_or_Return`\n",
    "* `Discount_Reason`\n",
    "* `Gross_Item_Price`\n",
    "* `Total_Sales_Price`\n",
    "* `Total_Product_Tax`\n",
    "* `Product_Quantity`\n",
    "* `Special_Request` "
   ]
  },
  {
   "attachments": {},
   "cell_type": "markdown",
   "id": "1f6d6e20",
   "metadata": {},
   "source": [
    "### Patterns in Consumer Behavior"
   ]
  },
  {
   "attachments": {},
   "cell_type": "markdown",
   "id": "bb952733",
   "metadata": {},
   "source": [
    "To uncover patterns in consumer behavior lets get an overall visual of the data. Then we will look at ramen sales over time for each different ramen sold."
   ]
  },
  {
   "attachments": {},
   "cell_type": "markdown",
   "id": "96c0b027",
   "metadata": {},
   "source": [
    "To start, we can take a look at daily sales over time"
   ]
  },
  {
   "cell_type": "code",
   "execution_count": 69,
   "id": "4358fd9f",
   "metadata": {},
   "outputs": [],
   "source": [
    "days = df.drop_duplicates(subset='Order_Number')\n",
    "days = days[['Order_Date', 'Order_Total']]\n",
    "days = days.set_index('Order_Date')\n",
    "days = days.resample('D').sum()"
   ]
  },
  {
   "cell_type": "code",
   "execution_count": 70,
   "id": "ccfd425c",
   "metadata": {},
   "outputs": [
    {
     "data": {
      "text/html": [
       "<div>\n",
       "<style scoped>\n",
       "    .dataframe tbody tr th:only-of-type {\n",
       "        vertical-align: middle;\n",
       "    }\n",
       "\n",
       "    .dataframe tbody tr th {\n",
       "        vertical-align: top;\n",
       "    }\n",
       "\n",
       "    .dataframe thead th {\n",
       "        text-align: right;\n",
       "    }\n",
       "</style>\n",
       "<table border=\"1\" class=\"dataframe\">\n",
       "  <thead>\n",
       "    <tr style=\"text-align: right;\">\n",
       "      <th></th>\n",
       "      <th>Order_Total</th>\n",
       "    </tr>\n",
       "    <tr>\n",
       "      <th>Order_Date</th>\n",
       "      <th></th>\n",
       "    </tr>\n",
       "  </thead>\n",
       "  <tbody>\n",
       "    <tr>\n",
       "      <th>2023-05-11</th>\n",
       "      <td>0.02</td>\n",
       "    </tr>\n",
       "    <tr>\n",
       "      <th>2023-05-12</th>\n",
       "      <td>119.31</td>\n",
       "    </tr>\n",
       "    <tr>\n",
       "      <th>2023-05-13</th>\n",
       "      <td>0.00</td>\n",
       "    </tr>\n",
       "    <tr>\n",
       "      <th>2023-05-14</th>\n",
       "      <td>0.00</td>\n",
       "    </tr>\n",
       "    <tr>\n",
       "      <th>2023-05-15</th>\n",
       "      <td>0.00</td>\n",
       "    </tr>\n",
       "    <tr>\n",
       "      <th>...</th>\n",
       "      <td>...</td>\n",
       "    </tr>\n",
       "    <tr>\n",
       "      <th>2023-10-27</th>\n",
       "      <td>2312.99</td>\n",
       "    </tr>\n",
       "    <tr>\n",
       "      <th>2023-10-28</th>\n",
       "      <td>2176.22</td>\n",
       "    </tr>\n",
       "    <tr>\n",
       "      <th>2023-10-29</th>\n",
       "      <td>5061.56</td>\n",
       "    </tr>\n",
       "    <tr>\n",
       "      <th>2023-10-30</th>\n",
       "      <td>2134.83</td>\n",
       "    </tr>\n",
       "    <tr>\n",
       "      <th>2023-10-31</th>\n",
       "      <td>1912.67</td>\n",
       "    </tr>\n",
       "  </tbody>\n",
       "</table>\n",
       "<p>174 rows × 1 columns</p>\n",
       "</div>"
      ],
      "text/plain": [
       "            Order_Total\n",
       "Order_Date             \n",
       "2023-05-11         0.02\n",
       "2023-05-12       119.31\n",
       "2023-05-13         0.00\n",
       "2023-05-14         0.00\n",
       "2023-05-15         0.00\n",
       "...                 ...\n",
       "2023-10-27      2312.99\n",
       "2023-10-28      2176.22\n",
       "2023-10-29      5061.56\n",
       "2023-10-30      2134.83\n",
       "2023-10-31      1912.67\n",
       "\n",
       "[174 rows x 1 columns]"
      ]
     },
     "execution_count": 70,
     "metadata": {},
     "output_type": "execute_result"
    }
   ],
   "source": [
    "days"
   ]
  },
  {
   "cell_type": "code",
   "execution_count": 71,
   "id": "50c77938",
   "metadata": {},
   "outputs": [
    {
     "data": {
      "text/html": [
       "<div>\n",
       "<style scoped>\n",
       "    .dataframe tbody tr th:only-of-type {\n",
       "        vertical-align: middle;\n",
       "    }\n",
       "\n",
       "    .dataframe tbody tr th {\n",
       "        vertical-align: top;\n",
       "    }\n",
       "\n",
       "    .dataframe thead th {\n",
       "        text-align: right;\n",
       "    }\n",
       "</style>\n",
       "<table border=\"1\" class=\"dataframe\">\n",
       "  <thead>\n",
       "    <tr style=\"text-align: right;\">\n",
       "      <th></th>\n",
       "      <th>Order_Date</th>\n",
       "      <th>Order_Total</th>\n",
       "      <th>value</th>\n",
       "    </tr>\n",
       "  </thead>\n",
       "  <tbody>\n",
       "    <tr>\n",
       "      <th>0</th>\n",
       "      <td>2023-05-11</td>\n",
       "      <td>Order_Total</td>\n",
       "      <td>0.02</td>\n",
       "    </tr>\n",
       "    <tr>\n",
       "      <th>1</th>\n",
       "      <td>2023-05-12</td>\n",
       "      <td>Order_Total</td>\n",
       "      <td>119.31</td>\n",
       "    </tr>\n",
       "    <tr>\n",
       "      <th>2</th>\n",
       "      <td>2023-05-13</td>\n",
       "      <td>Order_Total</td>\n",
       "      <td>0.00</td>\n",
       "    </tr>\n",
       "    <tr>\n",
       "      <th>3</th>\n",
       "      <td>2023-05-14</td>\n",
       "      <td>Order_Total</td>\n",
       "      <td>0.00</td>\n",
       "    </tr>\n",
       "    <tr>\n",
       "      <th>4</th>\n",
       "      <td>2023-05-15</td>\n",
       "      <td>Order_Total</td>\n",
       "      <td>0.00</td>\n",
       "    </tr>\n",
       "    <tr>\n",
       "      <th>...</th>\n",
       "      <td>...</td>\n",
       "      <td>...</td>\n",
       "      <td>...</td>\n",
       "    </tr>\n",
       "    <tr>\n",
       "      <th>169</th>\n",
       "      <td>2023-10-27</td>\n",
       "      <td>Order_Total</td>\n",
       "      <td>2312.99</td>\n",
       "    </tr>\n",
       "    <tr>\n",
       "      <th>170</th>\n",
       "      <td>2023-10-28</td>\n",
       "      <td>Order_Total</td>\n",
       "      <td>2176.22</td>\n",
       "    </tr>\n",
       "    <tr>\n",
       "      <th>171</th>\n",
       "      <td>2023-10-29</td>\n",
       "      <td>Order_Total</td>\n",
       "      <td>5061.56</td>\n",
       "    </tr>\n",
       "    <tr>\n",
       "      <th>172</th>\n",
       "      <td>2023-10-30</td>\n",
       "      <td>Order_Total</td>\n",
       "      <td>2134.83</td>\n",
       "    </tr>\n",
       "    <tr>\n",
       "      <th>173</th>\n",
       "      <td>2023-10-31</td>\n",
       "      <td>Order_Total</td>\n",
       "      <td>1912.67</td>\n",
       "    </tr>\n",
       "  </tbody>\n",
       "</table>\n",
       "<p>174 rows × 3 columns</p>\n",
       "</div>"
      ],
      "text/plain": [
       "    Order_Date  Order_Total    value\n",
       "0   2023-05-11  Order_Total     0.02\n",
       "1   2023-05-12  Order_Total   119.31\n",
       "2   2023-05-13  Order_Total     0.00\n",
       "3   2023-05-14  Order_Total     0.00\n",
       "4   2023-05-15  Order_Total     0.00\n",
       "..         ...          ...      ...\n",
       "169 2023-10-27  Order_Total  2312.99\n",
       "170 2023-10-28  Order_Total  2176.22\n",
       "171 2023-10-29  Order_Total  5061.56\n",
       "172 2023-10-30  Order_Total  2134.83\n",
       "173 2023-10-31  Order_Total  1912.67\n",
       "\n",
       "[174 rows x 3 columns]"
      ]
     },
     "execution_count": 71,
     "metadata": {},
     "output_type": "execute_result"
    }
   ],
   "source": [
    "days.reset_index().melt(\"Order_Date\", var_name='Order_Total')"
   ]
  },
  {
   "cell_type": "code",
   "execution_count": 72,
   "id": "de8b38b1",
   "metadata": {},
   "outputs": [],
   "source": [
    "weeks = days.resample('w').mean()"
   ]
  },
  {
   "cell_type": "code",
   "execution_count": 73,
   "id": "c5b4c1f3",
   "metadata": {},
   "outputs": [
    {
     "data": {
      "text/html": [
       "<div>\n",
       "<style scoped>\n",
       "    .dataframe tbody tr th:only-of-type {\n",
       "        vertical-align: middle;\n",
       "    }\n",
       "\n",
       "    .dataframe tbody tr th {\n",
       "        vertical-align: top;\n",
       "    }\n",
       "\n",
       "    .dataframe thead th {\n",
       "        text-align: right;\n",
       "    }\n",
       "</style>\n",
       "<table border=\"1\" class=\"dataframe\">\n",
       "  <thead>\n",
       "    <tr style=\"text-align: right;\">\n",
       "      <th></th>\n",
       "      <th>Order_Date</th>\n",
       "      <th>variable</th>\n",
       "      <th>value</th>\n",
       "    </tr>\n",
       "  </thead>\n",
       "  <tbody>\n",
       "    <tr>\n",
       "      <th>0</th>\n",
       "      <td>2023-05-11</td>\n",
       "      <td>Order_Total</td>\n",
       "      <td>0.02</td>\n",
       "    </tr>\n",
       "    <tr>\n",
       "      <th>1</th>\n",
       "      <td>2023-05-12</td>\n",
       "      <td>Order_Total</td>\n",
       "      <td>119.31</td>\n",
       "    </tr>\n",
       "    <tr>\n",
       "      <th>2</th>\n",
       "      <td>2023-05-13</td>\n",
       "      <td>Order_Total</td>\n",
       "      <td>0.00</td>\n",
       "    </tr>\n",
       "    <tr>\n",
       "      <th>3</th>\n",
       "      <td>2023-05-14</td>\n",
       "      <td>Order_Total</td>\n",
       "      <td>0.00</td>\n",
       "    </tr>\n",
       "    <tr>\n",
       "      <th>4</th>\n",
       "      <td>2023-05-15</td>\n",
       "      <td>Order_Total</td>\n",
       "      <td>0.00</td>\n",
       "    </tr>\n",
       "    <tr>\n",
       "      <th>...</th>\n",
       "      <td>...</td>\n",
       "      <td>...</td>\n",
       "      <td>...</td>\n",
       "    </tr>\n",
       "    <tr>\n",
       "      <th>169</th>\n",
       "      <td>2023-10-27</td>\n",
       "      <td>Order_Total</td>\n",
       "      <td>2312.99</td>\n",
       "    </tr>\n",
       "    <tr>\n",
       "      <th>170</th>\n",
       "      <td>2023-10-28</td>\n",
       "      <td>Order_Total</td>\n",
       "      <td>2176.22</td>\n",
       "    </tr>\n",
       "    <tr>\n",
       "      <th>171</th>\n",
       "      <td>2023-10-29</td>\n",
       "      <td>Order_Total</td>\n",
       "      <td>5061.56</td>\n",
       "    </tr>\n",
       "    <tr>\n",
       "      <th>172</th>\n",
       "      <td>2023-10-30</td>\n",
       "      <td>Order_Total</td>\n",
       "      <td>2134.83</td>\n",
       "    </tr>\n",
       "    <tr>\n",
       "      <th>173</th>\n",
       "      <td>2023-10-31</td>\n",
       "      <td>Order_Total</td>\n",
       "      <td>1912.67</td>\n",
       "    </tr>\n",
       "  </tbody>\n",
       "</table>\n",
       "<p>174 rows × 3 columns</p>\n",
       "</div>"
      ],
      "text/plain": [
       "    Order_Date     variable    value\n",
       "0   2023-05-11  Order_Total     0.02\n",
       "1   2023-05-12  Order_Total   119.31\n",
       "2   2023-05-13  Order_Total     0.00\n",
       "3   2023-05-14  Order_Total     0.00\n",
       "4   2023-05-15  Order_Total     0.00\n",
       "..         ...          ...      ...\n",
       "169 2023-10-27  Order_Total  2312.99\n",
       "170 2023-10-28  Order_Total  2176.22\n",
       "171 2023-10-29  Order_Total  5061.56\n",
       "172 2023-10-30  Order_Total  2134.83\n",
       "173 2023-10-31  Order_Total  1912.67\n",
       "\n",
       "[174 rows x 3 columns]"
      ]
     },
     "execution_count": 73,
     "metadata": {},
     "output_type": "execute_result"
    }
   ],
   "source": [
    "days.reset_index().melt('Order_Date')"
   ]
  },
  {
   "attachments": {},
   "cell_type": "markdown",
   "id": "7d2c63f9",
   "metadata": {},
   "source": [
    "### Daily Sales Over Time"
   ]
  },
  {
   "attachments": {},
   "cell_type": "markdown",
   "id": "cc15eaa7",
   "metadata": {},
   "source": [
    "Our results show that generally, sales have increased over time. We also see that if we take a cumulative sum of the sales, the restaurant appears to be experiencing exponential growth!"
   ]
  },
  {
   "cell_type": "code",
   "execution_count": 74,
   "id": "917aeaba",
   "metadata": {},
   "outputs": [
    {
     "data": {
      "text/html": [
       "\n",
       "<style>\n",
       "  #altair-viz-1f80fc9374ee4959891744fa70f4269d.vega-embed {\n",
       "    width: 100%;\n",
       "    display: flex;\n",
       "  }\n",
       "\n",
       "  #altair-viz-1f80fc9374ee4959891744fa70f4269d.vega-embed details,\n",
       "  #altair-viz-1f80fc9374ee4959891744fa70f4269d.vega-embed details summary {\n",
       "    position: relative;\n",
       "  }\n",
       "</style>\n",
       "<div id=\"altair-viz-1f80fc9374ee4959891744fa70f4269d\"></div>\n",
       "<script type=\"text/javascript\">\n",
       "  var VEGA_DEBUG = (typeof VEGA_DEBUG == \"undefined\") ? {} : VEGA_DEBUG;\n",
       "  (function(spec, embedOpt){\n",
       "    let outputDiv = document.currentScript.previousElementSibling;\n",
       "    if (outputDiv.id !== \"altair-viz-1f80fc9374ee4959891744fa70f4269d\") {\n",
       "      outputDiv = document.getElementById(\"altair-viz-1f80fc9374ee4959891744fa70f4269d\");\n",
       "    }\n",
       "    const paths = {\n",
       "      \"vega\": \"https://cdn.jsdelivr.net/npm/vega@5?noext\",\n",
       "      \"vega-lib\": \"https://cdn.jsdelivr.net/npm/vega-lib?noext\",\n",
       "      \"vega-lite\": \"https://cdn.jsdelivr.net/npm/vega-lite@5.15.1?noext\",\n",
       "      \"vega-embed\": \"https://cdn.jsdelivr.net/npm/vega-embed@6?noext\",\n",
       "    };\n",
       "\n",
       "    function maybeLoadScript(lib, version) {\n",
       "      var key = `${lib.replace(\"-\", \"\")}_version`;\n",
       "      return (VEGA_DEBUG[key] == version) ?\n",
       "        Promise.resolve(paths[lib]) :\n",
       "        new Promise(function(resolve, reject) {\n",
       "          var s = document.createElement('script');\n",
       "          document.getElementsByTagName(\"head\")[0].appendChild(s);\n",
       "          s.async = true;\n",
       "          s.onload = () => {\n",
       "            VEGA_DEBUG[key] = version;\n",
       "            return resolve(paths[lib]);\n",
       "          };\n",
       "          s.onerror = () => reject(`Error loading script: ${paths[lib]}`);\n",
       "          s.src = paths[lib];\n",
       "        });\n",
       "    }\n",
       "\n",
       "    function showError(err) {\n",
       "      outputDiv.innerHTML = `<div class=\"error\" style=\"color:red;\">${err}</div>`;\n",
       "      throw err;\n",
       "    }\n",
       "\n",
       "    function displayChart(vegaEmbed) {\n",
       "      vegaEmbed(outputDiv, spec, embedOpt)\n",
       "        .catch(err => showError(`Javascript Error: ${err.message}<br>This usually means there's a typo in your chart specification. See the javascript console for the full traceback.`));\n",
       "    }\n",
       "\n",
       "    if(typeof define === \"function\" && define.amd) {\n",
       "      requirejs.config({paths});\n",
       "      require([\"vega-embed\"], displayChart, err => showError(`Error loading script: ${err.message}`));\n",
       "    } else {\n",
       "      maybeLoadScript(\"vega\", \"5\")\n",
       "        .then(() => maybeLoadScript(\"vega-lite\", \"5.15.1\"))\n",
       "        .then(() => maybeLoadScript(\"vega-embed\", \"6\"))\n",
       "        .catch(showError)\n",
       "        .then(() => displayChart(vegaEmbed));\n",
       "    }\n",
       "  })({\"config\": {\"view\": {\"continuousWidth\": 300, \"continuousHeight\": 300}}, \"layer\": [{\"data\": {\"name\": \"data-13bb5a9a588fe19fd0a79a128ec41277\"}, \"mark\": {\"type\": \"circle\", \"opacity\": 0.5, \"size\": 10}, \"encoding\": {\"color\": {\"field\": \"variable\", \"type\": \"nominal\"}, \"x\": {\"field\": \"Order_Date\", \"type\": \"temporal\"}, \"y\": {\"field\": \"value\", \"type\": \"quantitative\"}}, \"name\": \"view_3\"}, {\"data\": {\"name\": \"data-b334de39bdf7c88e807b2f34654cf094\"}, \"mark\": {\"type\": \"line\", \"interpolate\": \"basis\", \"opacity\": 1}, \"encoding\": {\"color\": {\"field\": \"variable\", \"type\": \"nominal\"}, \"x\": {\"field\": \"Order_Date\", \"type\": \"temporal\"}, \"y\": {\"field\": \"value\", \"type\": \"quantitative\"}}}], \"encoding\": {\"x\": {\"title\": \"Order Date\"}, \"y\": {\"title\": \"Order Total in $USD\"}}, \"height\": 400, \"params\": [{\"name\": \"param_4\", \"select\": {\"type\": \"interval\", \"encodings\": [\"x\", \"y\"]}, \"bind\": \"scales\", \"views\": [\"view_3\"]}], \"width\": 800, \"$schema\": \"https://vega.github.io/schema/vega-lite/v5.15.1.json\", \"datasets\": {\"data-13bb5a9a588fe19fd0a79a128ec41277\": [{\"Order_Date\": \"2023-05-11T00:00:00\", \"variable\": \"Order_Total\", \"value\": 0.02}, {\"Order_Date\": \"2023-05-12T00:00:00\", \"variable\": \"Order_Total\", \"value\": 119.31}, {\"Order_Date\": \"2023-05-13T00:00:00\", \"variable\": \"Order_Total\", \"value\": 0.0}, {\"Order_Date\": \"2023-05-14T00:00:00\", \"variable\": \"Order_Total\", \"value\": 0.0}, {\"Order_Date\": \"2023-05-15T00:00:00\", \"variable\": \"Order_Total\", \"value\": 0.0}, {\"Order_Date\": \"2023-05-16T00:00:00\", \"variable\": \"Order_Total\", \"value\": 0.0}, {\"Order_Date\": \"2023-05-17T00:00:00\", \"variable\": \"Order_Total\", \"value\": 504.44}, {\"Order_Date\": \"2023-05-18T00:00:00\", \"variable\": \"Order_Total\", \"value\": 200.31}, {\"Order_Date\": \"2023-05-19T00:00:00\", \"variable\": \"Order_Total\", \"value\": 620.03}, {\"Order_Date\": \"2023-05-20T00:00:00\", \"variable\": \"Order_Total\", \"value\": 344.46}, {\"Order_Date\": \"2023-05-21T00:00:00\", \"variable\": \"Order_Total\", \"value\": 963.47}, {\"Order_Date\": \"2023-05-22T00:00:00\", \"variable\": \"Order_Total\", \"value\": 0.0}, {\"Order_Date\": \"2023-05-23T00:00:00\", \"variable\": \"Order_Total\", \"value\": 0.0}, {\"Order_Date\": \"2023-05-24T00:00:00\", \"variable\": \"Order_Total\", \"value\": 112.9}, {\"Order_Date\": \"2023-05-25T00:00:00\", \"variable\": \"Order_Total\", \"value\": 983.19}, {\"Order_Date\": \"2023-05-26T00:00:00\", \"variable\": \"Order_Total\", \"value\": 865.28}, {\"Order_Date\": \"2023-05-27T00:00:00\", \"variable\": \"Order_Total\", \"value\": 855.74}, {\"Order_Date\": \"2023-05-28T00:00:00\", \"variable\": \"Order_Total\", \"value\": 1261.1}, {\"Order_Date\": \"2023-05-29T00:00:00\", \"variable\": \"Order_Total\", \"value\": 0.0}, {\"Order_Date\": \"2023-05-30T00:00:00\", \"variable\": \"Order_Total\", \"value\": 0.0}, {\"Order_Date\": \"2023-05-31T00:00:00\", \"variable\": \"Order_Total\", \"value\": 537.19}, {\"Order_Date\": \"2023-06-01T00:00:00\", \"variable\": \"Order_Total\", \"value\": 432.82}, {\"Order_Date\": \"2023-06-02T00:00:00\", \"variable\": \"Order_Total\", \"value\": 126.94000000000001}, {\"Order_Date\": \"2023-06-03T00:00:00\", \"variable\": \"Order_Total\", \"value\": 1104.65}, {\"Order_Date\": \"2023-06-04T00:00:00\", \"variable\": \"Order_Total\", \"value\": 1068.62}, {\"Order_Date\": \"2023-06-05T00:00:00\", \"variable\": \"Order_Total\", \"value\": 0.0}, {\"Order_Date\": \"2023-06-06T00:00:00\", \"variable\": \"Order_Total\", \"value\": 0.0}, {\"Order_Date\": \"2023-06-07T00:00:00\", \"variable\": \"Order_Total\", \"value\": 926.27}, {\"Order_Date\": \"2023-06-08T00:00:00\", \"variable\": \"Order_Total\", \"value\": 951.0}, {\"Order_Date\": \"2023-06-09T00:00:00\", \"variable\": \"Order_Total\", \"value\": 1135.51}, {\"Order_Date\": \"2023-06-10T00:00:00\", \"variable\": \"Order_Total\", \"value\": 1267.3799999999999}, {\"Order_Date\": \"2023-06-11T00:00:00\", \"variable\": \"Order_Total\", \"value\": 1134.26}, {\"Order_Date\": \"2023-06-12T00:00:00\", \"variable\": \"Order_Total\", \"value\": 0.0}, {\"Order_Date\": \"2023-06-13T00:00:00\", \"variable\": \"Order_Total\", \"value\": 0.0}, {\"Order_Date\": \"2023-06-14T00:00:00\", \"variable\": \"Order_Total\", \"value\": 1261.75}, {\"Order_Date\": \"2023-06-15T00:00:00\", \"variable\": \"Order_Total\", \"value\": 1583.66}, {\"Order_Date\": \"2023-06-16T00:00:00\", \"variable\": \"Order_Total\", \"value\": 2174.02}, {\"Order_Date\": \"2023-06-17T00:00:00\", \"variable\": \"Order_Total\", \"value\": 1984.76}, {\"Order_Date\": \"2023-06-18T00:00:00\", \"variable\": \"Order_Total\", \"value\": 2147.65}, {\"Order_Date\": \"2023-06-19T00:00:00\", \"variable\": \"Order_Total\", \"value\": 1724.72}, {\"Order_Date\": \"2023-06-20T00:00:00\", \"variable\": \"Order_Total\", \"value\": 1477.37}, {\"Order_Date\": \"2023-06-21T00:00:00\", \"variable\": \"Order_Total\", \"value\": 2213.08}, {\"Order_Date\": \"2023-06-22T00:00:00\", \"variable\": \"Order_Total\", \"value\": 2114.66}, {\"Order_Date\": \"2023-06-23T00:00:00\", \"variable\": \"Order_Total\", \"value\": 3071.55}, {\"Order_Date\": \"2023-06-24T00:00:00\", \"variable\": \"Order_Total\", \"value\": 1984.9}, {\"Order_Date\": \"2023-06-25T00:00:00\", \"variable\": \"Order_Total\", \"value\": 2471.18}, {\"Order_Date\": \"2023-06-26T00:00:00\", \"variable\": \"Order_Total\", \"value\": 858.99}, {\"Order_Date\": \"2023-06-27T00:00:00\", \"variable\": \"Order_Total\", \"value\": 679.43}, {\"Order_Date\": \"2023-06-28T00:00:00\", \"variable\": \"Order_Total\", \"value\": 1475.69}, {\"Order_Date\": \"2023-06-29T00:00:00\", \"variable\": \"Order_Total\", \"value\": 2546.85}, {\"Order_Date\": \"2023-06-30T00:00:00\", \"variable\": \"Order_Total\", \"value\": 2628.61}, {\"Order_Date\": \"2023-07-01T00:00:00\", \"variable\": \"Order_Total\", \"value\": 1840.44}, {\"Order_Date\": \"2023-07-02T00:00:00\", \"variable\": \"Order_Total\", \"value\": 3220.93}, {\"Order_Date\": \"2023-07-03T00:00:00\", \"variable\": \"Order_Total\", \"value\": 0.0}, {\"Order_Date\": \"2023-07-04T00:00:00\", \"variable\": \"Order_Total\", \"value\": 0.0}, {\"Order_Date\": \"2023-07-05T00:00:00\", \"variable\": \"Order_Total\", \"value\": 2328.88}, {\"Order_Date\": \"2023-07-06T00:00:00\", \"variable\": \"Order_Total\", \"value\": 2255.18}, {\"Order_Date\": \"2023-07-07T00:00:00\", \"variable\": \"Order_Total\", \"value\": 2162.18}, {\"Order_Date\": \"2023-07-08T00:00:00\", \"variable\": \"Order_Total\", \"value\": 2274.85}, {\"Order_Date\": \"2023-07-09T00:00:00\", \"variable\": \"Order_Total\", \"value\": 2479.47}, {\"Order_Date\": \"2023-07-10T00:00:00\", \"variable\": \"Order_Total\", \"value\": 1053.04}, {\"Order_Date\": \"2023-07-11T00:00:00\", \"variable\": \"Order_Total\", \"value\": 1077.09}, {\"Order_Date\": \"2023-07-12T00:00:00\", \"variable\": \"Order_Total\", \"value\": 1218.64}, {\"Order_Date\": \"2023-07-13T00:00:00\", \"variable\": \"Order_Total\", \"value\": 1428.03}, {\"Order_Date\": \"2023-07-14T00:00:00\", \"variable\": \"Order_Total\", \"value\": 2373.41}, {\"Order_Date\": \"2023-07-15T00:00:00\", \"variable\": \"Order_Total\", \"value\": 2123.39}, {\"Order_Date\": \"2023-07-16T00:00:00\", \"variable\": \"Order_Total\", \"value\": 1841.01}, {\"Order_Date\": \"2023-07-17T00:00:00\", \"variable\": \"Order_Total\", \"value\": 969.38}, {\"Order_Date\": \"2023-07-18T00:00:00\", \"variable\": \"Order_Total\", \"value\": 1085.15}, {\"Order_Date\": \"2023-07-19T00:00:00\", \"variable\": \"Order_Total\", \"value\": 1253.56}, {\"Order_Date\": \"2023-07-20T00:00:00\", \"variable\": \"Order_Total\", \"value\": 1277.09}, {\"Order_Date\": \"2023-07-21T00:00:00\", \"variable\": \"Order_Total\", \"value\": 1020.0699999999999}, {\"Order_Date\": \"2023-07-22T00:00:00\", \"variable\": \"Order_Total\", \"value\": 1765.3899999999999}, {\"Order_Date\": \"2023-07-23T00:00:00\", \"variable\": \"Order_Total\", \"value\": 2154.23}, {\"Order_Date\": \"2023-07-24T00:00:00\", \"variable\": \"Order_Total\", \"value\": 1196.08}, {\"Order_Date\": \"2023-07-25T00:00:00\", \"variable\": \"Order_Total\", \"value\": 1893.74}, {\"Order_Date\": \"2023-07-26T00:00:00\", \"variable\": \"Order_Total\", \"value\": 1225.03}, {\"Order_Date\": \"2023-07-27T00:00:00\", \"variable\": \"Order_Total\", \"value\": 1365.45}, {\"Order_Date\": \"2023-07-28T00:00:00\", \"variable\": \"Order_Total\", \"value\": 1465.28}, {\"Order_Date\": \"2023-07-29T00:00:00\", \"variable\": \"Order_Total\", \"value\": 1438.26}, {\"Order_Date\": \"2023-07-30T00:00:00\", \"variable\": \"Order_Total\", \"value\": 1762.79}, {\"Order_Date\": \"2023-07-31T00:00:00\", \"variable\": \"Order_Total\", \"value\": 1052.74}, {\"Order_Date\": \"2023-08-01T00:00:00\", \"variable\": \"Order_Total\", \"value\": 982.49}, {\"Order_Date\": \"2023-08-02T00:00:00\", \"variable\": \"Order_Total\", \"value\": 955.02}, {\"Order_Date\": \"2023-08-03T00:00:00\", \"variable\": \"Order_Total\", \"value\": 1420.53}, {\"Order_Date\": \"2023-08-04T00:00:00\", \"variable\": \"Order_Total\", \"value\": 1098.05}, {\"Order_Date\": \"2023-08-05T00:00:00\", \"variable\": \"Order_Total\", \"value\": 1300.76}, {\"Order_Date\": \"2023-08-06T00:00:00\", \"variable\": \"Order_Total\", \"value\": 1476.97}, {\"Order_Date\": \"2023-08-07T00:00:00\", \"variable\": \"Order_Total\", \"value\": 2088.28}, {\"Order_Date\": \"2023-08-08T00:00:00\", \"variable\": \"Order_Total\", \"value\": 2846.66}, {\"Order_Date\": \"2023-08-09T00:00:00\", \"variable\": \"Order_Total\", \"value\": 2177.27}, {\"Order_Date\": \"2023-08-10T00:00:00\", \"variable\": \"Order_Total\", \"value\": 2601.62}, {\"Order_Date\": \"2023-08-11T00:00:00\", \"variable\": \"Order_Total\", \"value\": 2735.31}, {\"Order_Date\": \"2023-08-12T00:00:00\", \"variable\": \"Order_Total\", \"value\": 2983.3}, {\"Order_Date\": \"2023-08-13T00:00:00\", \"variable\": \"Order_Total\", \"value\": 2621.31}, {\"Order_Date\": \"2023-08-14T00:00:00\", \"variable\": \"Order_Total\", \"value\": 1355.47}, {\"Order_Date\": \"2023-08-15T00:00:00\", \"variable\": \"Order_Total\", \"value\": 1680.18}, {\"Order_Date\": \"2023-08-16T00:00:00\", \"variable\": \"Order_Total\", \"value\": 1644.1}, {\"Order_Date\": \"2023-08-17T00:00:00\", \"variable\": \"Order_Total\", \"value\": 1399.36}, {\"Order_Date\": \"2023-08-18T00:00:00\", \"variable\": \"Order_Total\", \"value\": 2526.54}, {\"Order_Date\": \"2023-08-19T00:00:00\", \"variable\": \"Order_Total\", \"value\": 2625.97}, {\"Order_Date\": \"2023-08-20T00:00:00\", \"variable\": \"Order_Total\", \"value\": 3021.9700000000003}, {\"Order_Date\": \"2023-08-21T00:00:00\", \"variable\": \"Order_Total\", \"value\": 1391.66}, {\"Order_Date\": \"2023-08-22T00:00:00\", \"variable\": \"Order_Total\", \"value\": 1580.76}, {\"Order_Date\": \"2023-08-23T00:00:00\", \"variable\": \"Order_Total\", \"value\": 1448.53}, {\"Order_Date\": \"2023-08-24T00:00:00\", \"variable\": \"Order_Total\", \"value\": 1759.72}, {\"Order_Date\": \"2023-08-25T00:00:00\", \"variable\": \"Order_Total\", \"value\": 1936.18}, {\"Order_Date\": \"2023-08-26T00:00:00\", \"variable\": \"Order_Total\", \"value\": 3130.13}, {\"Order_Date\": \"2023-08-27T00:00:00\", \"variable\": \"Order_Total\", \"value\": 2075.48}, {\"Order_Date\": \"2023-08-28T00:00:00\", \"variable\": \"Order_Total\", \"value\": 1078.42}, {\"Order_Date\": \"2023-08-29T00:00:00\", \"variable\": \"Order_Total\", \"value\": 1095.05}, {\"Order_Date\": \"2023-08-30T00:00:00\", \"variable\": \"Order_Total\", \"value\": 1603.92}, {\"Order_Date\": \"2023-08-31T00:00:00\", \"variable\": \"Order_Total\", \"value\": 2008.75}, {\"Order_Date\": \"2023-09-01T00:00:00\", \"variable\": \"Order_Total\", \"value\": 955.93}, {\"Order_Date\": \"2023-09-02T00:00:00\", \"variable\": \"Order_Total\", \"value\": 1442.43}, {\"Order_Date\": \"2023-09-03T00:00:00\", \"variable\": \"Order_Total\", \"value\": 2294.58}, {\"Order_Date\": \"2023-09-04T00:00:00\", \"variable\": \"Order_Total\", \"value\": 1325.74}, {\"Order_Date\": \"2023-09-05T00:00:00\", \"variable\": \"Order_Total\", \"value\": 578.83}, {\"Order_Date\": \"2023-09-06T00:00:00\", \"variable\": \"Order_Total\", \"value\": 710.65}, {\"Order_Date\": \"2023-09-07T00:00:00\", \"variable\": \"Order_Total\", \"value\": 901.77}, {\"Order_Date\": \"2023-09-08T00:00:00\", \"variable\": \"Order_Total\", \"value\": 1250.47}, {\"Order_Date\": \"2023-09-09T00:00:00\", \"variable\": \"Order_Total\", \"value\": 1288.63}, {\"Order_Date\": \"2023-09-10T00:00:00\", \"variable\": \"Order_Total\", \"value\": 1430.22}, {\"Order_Date\": \"2023-09-11T00:00:00\", \"variable\": \"Order_Total\", \"value\": 665.4300000000001}, {\"Order_Date\": \"2023-09-12T00:00:00\", \"variable\": \"Order_Total\", \"value\": 985.15}, {\"Order_Date\": \"2023-09-13T00:00:00\", \"variable\": \"Order_Total\", \"value\": 1522.24}, {\"Order_Date\": \"2023-09-14T00:00:00\", \"variable\": \"Order_Total\", \"value\": 1421.31}, {\"Order_Date\": \"2023-09-15T00:00:00\", \"variable\": \"Order_Total\", \"value\": 1601.42}, {\"Order_Date\": \"2023-09-16T00:00:00\", \"variable\": \"Order_Total\", \"value\": 1893.6}, {\"Order_Date\": \"2023-09-17T00:00:00\", \"variable\": \"Order_Total\", \"value\": 1553.03}, {\"Order_Date\": \"2023-09-18T00:00:00\", \"variable\": \"Order_Total\", \"value\": 647.64}, {\"Order_Date\": \"2023-09-19T00:00:00\", \"variable\": \"Order_Total\", \"value\": 824.16}, {\"Order_Date\": \"2023-09-20T00:00:00\", \"variable\": \"Order_Total\", \"value\": 912.43}, {\"Order_Date\": \"2023-09-21T00:00:00\", \"variable\": \"Order_Total\", \"value\": 818.6899999999999}, {\"Order_Date\": \"2023-09-22T00:00:00\", \"variable\": \"Order_Total\", \"value\": 955.36}, {\"Order_Date\": \"2023-09-23T00:00:00\", \"variable\": \"Order_Total\", \"value\": 1538.29}, {\"Order_Date\": \"2023-09-24T00:00:00\", \"variable\": \"Order_Total\", \"value\": 1361.19}, {\"Order_Date\": \"2023-09-25T00:00:00\", \"variable\": \"Order_Total\", \"value\": 608.38}, {\"Order_Date\": \"2023-09-26T00:00:00\", \"variable\": \"Order_Total\", \"value\": 584.84}, {\"Order_Date\": \"2023-09-27T00:00:00\", \"variable\": \"Order_Total\", \"value\": 1250.11}, {\"Order_Date\": \"2023-09-28T00:00:00\", \"variable\": \"Order_Total\", \"value\": 863.59}, {\"Order_Date\": \"2023-09-29T00:00:00\", \"variable\": \"Order_Total\", \"value\": 1703.67}, {\"Order_Date\": \"2023-09-30T00:00:00\", \"variable\": \"Order_Total\", \"value\": 991.62}, {\"Order_Date\": \"2023-10-01T00:00:00\", \"variable\": \"Order_Total\", \"value\": 1996.3700000000001}, {\"Order_Date\": \"2023-10-02T00:00:00\", \"variable\": \"Order_Total\", \"value\": 806.48}, {\"Order_Date\": \"2023-10-03T00:00:00\", \"variable\": \"Order_Total\", \"value\": 669.86}, {\"Order_Date\": \"2023-10-04T00:00:00\", \"variable\": \"Order_Total\", \"value\": 611.07}, {\"Order_Date\": \"2023-10-05T00:00:00\", \"variable\": \"Order_Total\", \"value\": 1690.52}, {\"Order_Date\": \"2023-10-06T00:00:00\", \"variable\": \"Order_Total\", \"value\": 1204.65}, {\"Order_Date\": \"2023-10-07T00:00:00\", \"variable\": \"Order_Total\", \"value\": 1346.26}, {\"Order_Date\": \"2023-10-08T00:00:00\", \"variable\": \"Order_Total\", \"value\": 1203.26}, {\"Order_Date\": \"2023-10-09T00:00:00\", \"variable\": \"Order_Total\", \"value\": 603.87}, {\"Order_Date\": \"2023-10-10T00:00:00\", \"variable\": \"Order_Total\", \"value\": 902.98}, {\"Order_Date\": \"2023-10-11T00:00:00\", \"variable\": \"Order_Total\", \"value\": 1649.59}, {\"Order_Date\": \"2023-10-12T00:00:00\", \"variable\": \"Order_Total\", \"value\": 1395.41}, {\"Order_Date\": \"2023-10-13T00:00:00\", \"variable\": \"Order_Total\", \"value\": 3409.93}, {\"Order_Date\": \"2023-10-14T00:00:00\", \"variable\": \"Order_Total\", \"value\": 1427.34}, {\"Order_Date\": \"2023-10-15T00:00:00\", \"variable\": \"Order_Total\", \"value\": 2451.06}, {\"Order_Date\": \"2023-10-16T00:00:00\", \"variable\": \"Order_Total\", \"value\": 1570.31}, {\"Order_Date\": \"2023-10-17T00:00:00\", \"variable\": \"Order_Total\", \"value\": 981.48}, {\"Order_Date\": \"2023-10-18T00:00:00\", \"variable\": \"Order_Total\", \"value\": 867.05}, {\"Order_Date\": \"2023-10-19T00:00:00\", \"variable\": \"Order_Total\", \"value\": 971.43}, {\"Order_Date\": \"2023-10-20T00:00:00\", \"variable\": \"Order_Total\", \"value\": 759.72}, {\"Order_Date\": \"2023-10-21T00:00:00\", \"variable\": \"Order_Total\", \"value\": 3029.47}, {\"Order_Date\": \"2023-10-22T00:00:00\", \"variable\": \"Order_Total\", \"value\": 2223.68}, {\"Order_Date\": \"2023-10-23T00:00:00\", \"variable\": \"Order_Total\", \"value\": 1621.86}, {\"Order_Date\": \"2023-10-24T00:00:00\", \"variable\": \"Order_Total\", \"value\": 2562.84}, {\"Order_Date\": \"2023-10-25T00:00:00\", \"variable\": \"Order_Total\", \"value\": 1275.1000000000001}, {\"Order_Date\": \"2023-10-26T00:00:00\", \"variable\": \"Order_Total\", \"value\": 1717.96}, {\"Order_Date\": \"2023-10-27T00:00:00\", \"variable\": \"Order_Total\", \"value\": 2312.99}, {\"Order_Date\": \"2023-10-28T00:00:00\", \"variable\": \"Order_Total\", \"value\": 2176.22}, {\"Order_Date\": \"2023-10-29T00:00:00\", \"variable\": \"Order_Total\", \"value\": 5061.56}, {\"Order_Date\": \"2023-10-30T00:00:00\", \"variable\": \"Order_Total\", \"value\": 2134.83}, {\"Order_Date\": \"2023-10-31T00:00:00\", \"variable\": \"Order_Total\", \"value\": 1912.67}], \"data-b334de39bdf7c88e807b2f34654cf094\": [{\"Order_Date\": \"2023-05-14T00:00:00\", \"variable\": \"Order_Total\", \"value\": 29.8325}, {\"Order_Date\": \"2023-05-21T00:00:00\", \"variable\": \"Order_Total\", \"value\": 376.1014285714286}, {\"Order_Date\": \"2023-05-28T00:00:00\", \"variable\": \"Order_Total\", \"value\": 582.6014285714285}, {\"Order_Date\": \"2023-06-04T00:00:00\", \"variable\": \"Order_Total\", \"value\": 467.17428571428576}, {\"Order_Date\": \"2023-06-11T00:00:00\", \"variable\": \"Order_Total\", \"value\": 773.4885714285714}, {\"Order_Date\": \"2023-06-18T00:00:00\", \"variable\": \"Order_Total\", \"value\": 1307.4057142857143}, {\"Order_Date\": \"2023-06-25T00:00:00\", \"variable\": \"Order_Total\", \"value\": 2151.065714285714}, {\"Order_Date\": \"2023-07-02T00:00:00\", \"variable\": \"Order_Total\", \"value\": 1892.9914285714287}, {\"Order_Date\": \"2023-07-09T00:00:00\", \"variable\": \"Order_Total\", \"value\": 1642.9371428571428}, {\"Order_Date\": \"2023-07-16T00:00:00\", \"variable\": \"Order_Total\", \"value\": 1587.8014285714287}, {\"Order_Date\": \"2023-07-23T00:00:00\", \"variable\": \"Order_Total\", \"value\": 1360.695714285714}, {\"Order_Date\": \"2023-07-30T00:00:00\", \"variable\": \"Order_Total\", \"value\": 1478.09}, {\"Order_Date\": \"2023-08-06T00:00:00\", \"variable\": \"Order_Total\", \"value\": 1183.7942857142857}, {\"Order_Date\": \"2023-08-13T00:00:00\", \"variable\": \"Order_Total\", \"value\": 2579.1071428571427}, {\"Order_Date\": \"2023-08-20T00:00:00\", \"variable\": \"Order_Total\", \"value\": 2036.2271428571428}, {\"Order_Date\": \"2023-08-27T00:00:00\", \"variable\": \"Order_Total\", \"value\": 1903.2085714285715}, {\"Order_Date\": \"2023-09-03T00:00:00\", \"variable\": \"Order_Total\", \"value\": 1497.0114285714285}, {\"Order_Date\": \"2023-09-10T00:00:00\", \"variable\": \"Order_Total\", \"value\": 1069.4728571428573}, {\"Order_Date\": \"2023-09-17T00:00:00\", \"variable\": \"Order_Total\", \"value\": 1377.4542857142858}, {\"Order_Date\": \"2023-09-24T00:00:00\", \"variable\": \"Order_Total\", \"value\": 1008.2514285714286}, {\"Order_Date\": \"2023-10-01T00:00:00\", \"variable\": \"Order_Total\", \"value\": 1142.6542857142856}, {\"Order_Date\": \"2023-10-08T00:00:00\", \"variable\": \"Order_Total\", \"value\": 1076.0142857142857}, {\"Order_Date\": \"2023-10-15T00:00:00\", \"variable\": \"Order_Total\", \"value\": 1691.4542857142858}, {\"Order_Date\": \"2023-10-22T00:00:00\", \"variable\": \"Order_Total\", \"value\": 1486.162857142857}, {\"Order_Date\": \"2023-10-29T00:00:00\", \"variable\": \"Order_Total\", \"value\": 2389.79}, {\"Order_Date\": \"2023-11-05T00:00:00\", \"variable\": \"Order_Total\", \"value\": 2023.75}]}}, {\"mode\": \"vega-lite\"});\n",
       "</script>"
      ],
      "text/plain": [
       "alt.LayerChart(...)"
      ]
     },
     "execution_count": 74,
     "metadata": {},
     "output_type": "execute_result"
    }
   ],
   "source": [
    "import altair as alt\n",
    "\n",
    "chart_1 = alt.Chart(days.reset_index().melt('Order_Date')).mark_circle(size=10, opacity=0.5).encode(\n",
    "    x='Order_Date',\n",
    "    y='value',\n",
    "    color = 'variable'\n",
    ").properties(width=800, height=400)\n",
    "\n",
    "chart_2 = alt.Chart(weeks.reset_index().melt('Order_Date')).mark_line(interpolate=\"basis\", opacity=1).encode(\n",
    "    x='Order_Date',\n",
    "    y='value',\n",
    "    color = 'variable'\n",
    ")\n",
    "\n",
    "(chart_1 + chart_2).interactive().encode(\n",
    "    alt.X(title='Order Date'),\n",
    "    alt.Y(title='Order Total in $USD')\n",
    ")\n"
   ]
  },
  {
   "cell_type": "code",
   "execution_count": 75,
   "id": "815fa228",
   "metadata": {},
   "outputs": [
    {
     "data": {
      "text/html": [
       "\n",
       "<style>\n",
       "  #altair-viz-fc5d1721558f4cf1b410903005677212.vega-embed {\n",
       "    width: 100%;\n",
       "    display: flex;\n",
       "  }\n",
       "\n",
       "  #altair-viz-fc5d1721558f4cf1b410903005677212.vega-embed details,\n",
       "  #altair-viz-fc5d1721558f4cf1b410903005677212.vega-embed details summary {\n",
       "    position: relative;\n",
       "  }\n",
       "</style>\n",
       "<div id=\"altair-viz-fc5d1721558f4cf1b410903005677212\"></div>\n",
       "<script type=\"text/javascript\">\n",
       "  var VEGA_DEBUG = (typeof VEGA_DEBUG == \"undefined\") ? {} : VEGA_DEBUG;\n",
       "  (function(spec, embedOpt){\n",
       "    let outputDiv = document.currentScript.previousElementSibling;\n",
       "    if (outputDiv.id !== \"altair-viz-fc5d1721558f4cf1b410903005677212\") {\n",
       "      outputDiv = document.getElementById(\"altair-viz-fc5d1721558f4cf1b410903005677212\");\n",
       "    }\n",
       "    const paths = {\n",
       "      \"vega\": \"https://cdn.jsdelivr.net/npm/vega@5?noext\",\n",
       "      \"vega-lib\": \"https://cdn.jsdelivr.net/npm/vega-lib?noext\",\n",
       "      \"vega-lite\": \"https://cdn.jsdelivr.net/npm/vega-lite@5.15.1?noext\",\n",
       "      \"vega-embed\": \"https://cdn.jsdelivr.net/npm/vega-embed@6?noext\",\n",
       "    };\n",
       "\n",
       "    function maybeLoadScript(lib, version) {\n",
       "      var key = `${lib.replace(\"-\", \"\")}_version`;\n",
       "      return (VEGA_DEBUG[key] == version) ?\n",
       "        Promise.resolve(paths[lib]) :\n",
       "        new Promise(function(resolve, reject) {\n",
       "          var s = document.createElement('script');\n",
       "          document.getElementsByTagName(\"head\")[0].appendChild(s);\n",
       "          s.async = true;\n",
       "          s.onload = () => {\n",
       "            VEGA_DEBUG[key] = version;\n",
       "            return resolve(paths[lib]);\n",
       "          };\n",
       "          s.onerror = () => reject(`Error loading script: ${paths[lib]}`);\n",
       "          s.src = paths[lib];\n",
       "        });\n",
       "    }\n",
       "\n",
       "    function showError(err) {\n",
       "      outputDiv.innerHTML = `<div class=\"error\" style=\"color:red;\">${err}</div>`;\n",
       "      throw err;\n",
       "    }\n",
       "\n",
       "    function displayChart(vegaEmbed) {\n",
       "      vegaEmbed(outputDiv, spec, embedOpt)\n",
       "        .catch(err => showError(`Javascript Error: ${err.message}<br>This usually means there's a typo in your chart specification. See the javascript console for the full traceback.`));\n",
       "    }\n",
       "\n",
       "    if(typeof define === \"function\" && define.amd) {\n",
       "      requirejs.config({paths});\n",
       "      require([\"vega-embed\"], displayChart, err => showError(`Error loading script: ${err.message}`));\n",
       "    } else {\n",
       "      maybeLoadScript(\"vega\", \"5\")\n",
       "        .then(() => maybeLoadScript(\"vega-lite\", \"5.15.1\"))\n",
       "        .then(() => maybeLoadScript(\"vega-embed\", \"6\"))\n",
       "        .catch(showError)\n",
       "        .then(() => displayChart(vegaEmbed));\n",
       "    }\n",
       "  })({\"config\": {\"view\": {\"continuousWidth\": 300, \"continuousHeight\": 300}}, \"data\": {\"name\": \"data-0deaa63ebc0dfae4a1775da8f689e357\"}, \"mark\": {\"type\": \"circle\", \"opacity\": 0.5, \"size\": 10}, \"encoding\": {\"color\": {\"field\": \"variable\", \"type\": \"nominal\"}, \"x\": {\"field\": \"Order_Date\", \"type\": \"temporal\"}, \"y\": {\"field\": \"value\", \"type\": \"quantitative\"}}, \"height\": 400, \"params\": [{\"name\": \"param_5\", \"select\": {\"type\": \"interval\", \"encodings\": [\"x\", \"y\"]}, \"bind\": \"scales\"}], \"width\": 800, \"$schema\": \"https://vega.github.io/schema/vega-lite/v5.15.1.json\", \"datasets\": {\"data-0deaa63ebc0dfae4a1775da8f689e357\": [{\"Order_Date\": \"2023-05-11T00:00:00\", \"variable\": \"Order_Total\", \"value\": 0.02}, {\"Order_Date\": \"2023-05-12T00:00:00\", \"variable\": \"Order_Total\", \"value\": 119.33}, {\"Order_Date\": \"2023-05-13T00:00:00\", \"variable\": \"Order_Total\", \"value\": 119.33}, {\"Order_Date\": \"2023-05-14T00:00:00\", \"variable\": \"Order_Total\", \"value\": 119.33}, {\"Order_Date\": \"2023-05-15T00:00:00\", \"variable\": \"Order_Total\", \"value\": 119.33}, {\"Order_Date\": \"2023-05-16T00:00:00\", \"variable\": \"Order_Total\", \"value\": 119.33}, {\"Order_Date\": \"2023-05-17T00:00:00\", \"variable\": \"Order_Total\", \"value\": 623.77}, {\"Order_Date\": \"2023-05-18T00:00:00\", \"variable\": \"Order_Total\", \"value\": 824.0799999999999}, {\"Order_Date\": \"2023-05-19T00:00:00\", \"variable\": \"Order_Total\", \"value\": 1444.11}, {\"Order_Date\": \"2023-05-20T00:00:00\", \"variable\": \"Order_Total\", \"value\": 1788.57}, {\"Order_Date\": \"2023-05-21T00:00:00\", \"variable\": \"Order_Total\", \"value\": 2752.04}, {\"Order_Date\": \"2023-05-22T00:00:00\", \"variable\": \"Order_Total\", \"value\": 2752.04}, {\"Order_Date\": \"2023-05-23T00:00:00\", \"variable\": \"Order_Total\", \"value\": 2752.04}, {\"Order_Date\": \"2023-05-24T00:00:00\", \"variable\": \"Order_Total\", \"value\": 2864.94}, {\"Order_Date\": \"2023-05-25T00:00:00\", \"variable\": \"Order_Total\", \"value\": 3848.13}, {\"Order_Date\": \"2023-05-26T00:00:00\", \"variable\": \"Order_Total\", \"value\": 4713.41}, {\"Order_Date\": \"2023-05-27T00:00:00\", \"variable\": \"Order_Total\", \"value\": 5569.15}, {\"Order_Date\": \"2023-05-28T00:00:00\", \"variable\": \"Order_Total\", \"value\": 6830.25}, {\"Order_Date\": \"2023-05-29T00:00:00\", \"variable\": \"Order_Total\", \"value\": 6830.25}, {\"Order_Date\": \"2023-05-30T00:00:00\", \"variable\": \"Order_Total\", \"value\": 6830.25}, {\"Order_Date\": \"2023-05-31T00:00:00\", \"variable\": \"Order_Total\", \"value\": 7367.4400000000005}, {\"Order_Date\": \"2023-06-01T00:00:00\", \"variable\": \"Order_Total\", \"value\": 7800.26}, {\"Order_Date\": \"2023-06-02T00:00:00\", \"variable\": \"Order_Total\", \"value\": 7927.2}, {\"Order_Date\": \"2023-06-03T00:00:00\", \"variable\": \"Order_Total\", \"value\": 9031.85}, {\"Order_Date\": \"2023-06-04T00:00:00\", \"variable\": \"Order_Total\", \"value\": 10100.470000000001}, {\"Order_Date\": \"2023-06-05T00:00:00\", \"variable\": \"Order_Total\", \"value\": 10100.470000000001}, {\"Order_Date\": \"2023-06-06T00:00:00\", \"variable\": \"Order_Total\", \"value\": 10100.470000000001}, {\"Order_Date\": \"2023-06-07T00:00:00\", \"variable\": \"Order_Total\", \"value\": 11026.740000000002}, {\"Order_Date\": \"2023-06-08T00:00:00\", \"variable\": \"Order_Total\", \"value\": 11977.740000000002}, {\"Order_Date\": \"2023-06-09T00:00:00\", \"variable\": \"Order_Total\", \"value\": 13113.250000000002}, {\"Order_Date\": \"2023-06-10T00:00:00\", \"variable\": \"Order_Total\", \"value\": 14380.630000000001}, {\"Order_Date\": \"2023-06-11T00:00:00\", \"variable\": \"Order_Total\", \"value\": 15514.890000000001}, {\"Order_Date\": \"2023-06-12T00:00:00\", \"variable\": \"Order_Total\", \"value\": 15514.890000000001}, {\"Order_Date\": \"2023-06-13T00:00:00\", \"variable\": \"Order_Total\", \"value\": 15514.890000000001}, {\"Order_Date\": \"2023-06-14T00:00:00\", \"variable\": \"Order_Total\", \"value\": 16776.64}, {\"Order_Date\": \"2023-06-15T00:00:00\", \"variable\": \"Order_Total\", \"value\": 18360.3}, {\"Order_Date\": \"2023-06-16T00:00:00\", \"variable\": \"Order_Total\", \"value\": 20534.32}, {\"Order_Date\": \"2023-06-17T00:00:00\", \"variable\": \"Order_Total\", \"value\": 22519.079999999998}, {\"Order_Date\": \"2023-06-18T00:00:00\", \"variable\": \"Order_Total\", \"value\": 24666.73}, {\"Order_Date\": \"2023-06-19T00:00:00\", \"variable\": \"Order_Total\", \"value\": 26391.45}, {\"Order_Date\": \"2023-06-20T00:00:00\", \"variable\": \"Order_Total\", \"value\": 27868.82}, {\"Order_Date\": \"2023-06-21T00:00:00\", \"variable\": \"Order_Total\", \"value\": 30081.9}, {\"Order_Date\": \"2023-06-22T00:00:00\", \"variable\": \"Order_Total\", \"value\": 32196.56}, {\"Order_Date\": \"2023-06-23T00:00:00\", \"variable\": \"Order_Total\", \"value\": 35268.11}, {\"Order_Date\": \"2023-06-24T00:00:00\", \"variable\": \"Order_Total\", \"value\": 37253.01}, {\"Order_Date\": \"2023-06-25T00:00:00\", \"variable\": \"Order_Total\", \"value\": 39724.19}, {\"Order_Date\": \"2023-06-26T00:00:00\", \"variable\": \"Order_Total\", \"value\": 40583.18}, {\"Order_Date\": \"2023-06-27T00:00:00\", \"variable\": \"Order_Total\", \"value\": 41262.61}, {\"Order_Date\": \"2023-06-28T00:00:00\", \"variable\": \"Order_Total\", \"value\": 42738.3}, {\"Order_Date\": \"2023-06-29T00:00:00\", \"variable\": \"Order_Total\", \"value\": 45285.15}, {\"Order_Date\": \"2023-06-30T00:00:00\", \"variable\": \"Order_Total\", \"value\": 47913.76}, {\"Order_Date\": \"2023-07-01T00:00:00\", \"variable\": \"Order_Total\", \"value\": 49754.200000000004}, {\"Order_Date\": \"2023-07-02T00:00:00\", \"variable\": \"Order_Total\", \"value\": 52975.130000000005}, {\"Order_Date\": \"2023-07-03T00:00:00\", \"variable\": \"Order_Total\", \"value\": 52975.130000000005}, {\"Order_Date\": \"2023-07-04T00:00:00\", \"variable\": \"Order_Total\", \"value\": 52975.130000000005}, {\"Order_Date\": \"2023-07-05T00:00:00\", \"variable\": \"Order_Total\", \"value\": 55304.01}, {\"Order_Date\": \"2023-07-06T00:00:00\", \"variable\": \"Order_Total\", \"value\": 57559.19}, {\"Order_Date\": \"2023-07-07T00:00:00\", \"variable\": \"Order_Total\", \"value\": 59721.37}, {\"Order_Date\": \"2023-07-08T00:00:00\", \"variable\": \"Order_Total\", \"value\": 61996.22}, {\"Order_Date\": \"2023-07-09T00:00:00\", \"variable\": \"Order_Total\", \"value\": 64475.69}, {\"Order_Date\": \"2023-07-10T00:00:00\", \"variable\": \"Order_Total\", \"value\": 65528.73}, {\"Order_Date\": \"2023-07-11T00:00:00\", \"variable\": \"Order_Total\", \"value\": 66605.82}, {\"Order_Date\": \"2023-07-12T00:00:00\", \"variable\": \"Order_Total\", \"value\": 67824.46}, {\"Order_Date\": \"2023-07-13T00:00:00\", \"variable\": \"Order_Total\", \"value\": 69252.49}, {\"Order_Date\": \"2023-07-14T00:00:00\", \"variable\": \"Order_Total\", \"value\": 71625.90000000001}, {\"Order_Date\": \"2023-07-15T00:00:00\", \"variable\": \"Order_Total\", \"value\": 73749.29000000001}, {\"Order_Date\": \"2023-07-16T00:00:00\", \"variable\": \"Order_Total\", \"value\": 75590.3}, {\"Order_Date\": \"2023-07-17T00:00:00\", \"variable\": \"Order_Total\", \"value\": 76559.68000000001}, {\"Order_Date\": \"2023-07-18T00:00:00\", \"variable\": \"Order_Total\", \"value\": 77644.83}, {\"Order_Date\": \"2023-07-19T00:00:00\", \"variable\": \"Order_Total\", \"value\": 78898.39}, {\"Order_Date\": \"2023-07-20T00:00:00\", \"variable\": \"Order_Total\", \"value\": 80175.48}, {\"Order_Date\": \"2023-07-21T00:00:00\", \"variable\": \"Order_Total\", \"value\": 81195.55}, {\"Order_Date\": \"2023-07-22T00:00:00\", \"variable\": \"Order_Total\", \"value\": 82960.94}, {\"Order_Date\": \"2023-07-23T00:00:00\", \"variable\": \"Order_Total\", \"value\": 85115.17}, {\"Order_Date\": \"2023-07-24T00:00:00\", \"variable\": \"Order_Total\", \"value\": 86311.25}, {\"Order_Date\": \"2023-07-25T00:00:00\", \"variable\": \"Order_Total\", \"value\": 88204.99}, {\"Order_Date\": \"2023-07-26T00:00:00\", \"variable\": \"Order_Total\", \"value\": 89430.02}, {\"Order_Date\": \"2023-07-27T00:00:00\", \"variable\": \"Order_Total\", \"value\": 90795.47}, {\"Order_Date\": \"2023-07-28T00:00:00\", \"variable\": \"Order_Total\", \"value\": 92260.75}, {\"Order_Date\": \"2023-07-29T00:00:00\", \"variable\": \"Order_Total\", \"value\": 93699.01}, {\"Order_Date\": \"2023-07-30T00:00:00\", \"variable\": \"Order_Total\", \"value\": 95461.79999999999}, {\"Order_Date\": \"2023-07-31T00:00:00\", \"variable\": \"Order_Total\", \"value\": 96514.54}, {\"Order_Date\": \"2023-08-01T00:00:00\", \"variable\": \"Order_Total\", \"value\": 97497.03}, {\"Order_Date\": \"2023-08-02T00:00:00\", \"variable\": \"Order_Total\", \"value\": 98452.05}, {\"Order_Date\": \"2023-08-03T00:00:00\", \"variable\": \"Order_Total\", \"value\": 99872.58}, {\"Order_Date\": \"2023-08-04T00:00:00\", \"variable\": \"Order_Total\", \"value\": 100970.63}, {\"Order_Date\": \"2023-08-05T00:00:00\", \"variable\": \"Order_Total\", \"value\": 102271.39}, {\"Order_Date\": \"2023-08-06T00:00:00\", \"variable\": \"Order_Total\", \"value\": 103748.36}, {\"Order_Date\": \"2023-08-07T00:00:00\", \"variable\": \"Order_Total\", \"value\": 105836.64}, {\"Order_Date\": \"2023-08-08T00:00:00\", \"variable\": \"Order_Total\", \"value\": 108683.3}, {\"Order_Date\": \"2023-08-09T00:00:00\", \"variable\": \"Order_Total\", \"value\": 110860.57}, {\"Order_Date\": \"2023-08-10T00:00:00\", \"variable\": \"Order_Total\", \"value\": 113462.19}, {\"Order_Date\": \"2023-08-11T00:00:00\", \"variable\": \"Order_Total\", \"value\": 116197.5}, {\"Order_Date\": \"2023-08-12T00:00:00\", \"variable\": \"Order_Total\", \"value\": 119180.8}, {\"Order_Date\": \"2023-08-13T00:00:00\", \"variable\": \"Order_Total\", \"value\": 121802.11}, {\"Order_Date\": \"2023-08-14T00:00:00\", \"variable\": \"Order_Total\", \"value\": 123157.58}, {\"Order_Date\": \"2023-08-15T00:00:00\", \"variable\": \"Order_Total\", \"value\": 124837.76}, {\"Order_Date\": \"2023-08-16T00:00:00\", \"variable\": \"Order_Total\", \"value\": 126481.86}, {\"Order_Date\": \"2023-08-17T00:00:00\", \"variable\": \"Order_Total\", \"value\": 127881.22}, {\"Order_Date\": \"2023-08-18T00:00:00\", \"variable\": \"Order_Total\", \"value\": 130407.76}, {\"Order_Date\": \"2023-08-19T00:00:00\", \"variable\": \"Order_Total\", \"value\": 133033.72999999998}, {\"Order_Date\": \"2023-08-20T00:00:00\", \"variable\": \"Order_Total\", \"value\": 136055.69999999998}, {\"Order_Date\": \"2023-08-21T00:00:00\", \"variable\": \"Order_Total\", \"value\": 137447.36}, {\"Order_Date\": \"2023-08-22T00:00:00\", \"variable\": \"Order_Total\", \"value\": 139028.12}, {\"Order_Date\": \"2023-08-23T00:00:00\", \"variable\": \"Order_Total\", \"value\": 140476.65}, {\"Order_Date\": \"2023-08-24T00:00:00\", \"variable\": \"Order_Total\", \"value\": 142236.37}, {\"Order_Date\": \"2023-08-25T00:00:00\", \"variable\": \"Order_Total\", \"value\": 144172.55}, {\"Order_Date\": \"2023-08-26T00:00:00\", \"variable\": \"Order_Total\", \"value\": 147302.68}, {\"Order_Date\": \"2023-08-27T00:00:00\", \"variable\": \"Order_Total\", \"value\": 149378.16}, {\"Order_Date\": \"2023-08-28T00:00:00\", \"variable\": \"Order_Total\", \"value\": 150456.58000000002}, {\"Order_Date\": \"2023-08-29T00:00:00\", \"variable\": \"Order_Total\", \"value\": 151551.63}, {\"Order_Date\": \"2023-08-30T00:00:00\", \"variable\": \"Order_Total\", \"value\": 153155.55000000002}, {\"Order_Date\": \"2023-08-31T00:00:00\", \"variable\": \"Order_Total\", \"value\": 155164.30000000002}, {\"Order_Date\": \"2023-09-01T00:00:00\", \"variable\": \"Order_Total\", \"value\": 156120.23}, {\"Order_Date\": \"2023-09-02T00:00:00\", \"variable\": \"Order_Total\", \"value\": 157562.66}, {\"Order_Date\": \"2023-09-03T00:00:00\", \"variable\": \"Order_Total\", \"value\": 159857.24}, {\"Order_Date\": \"2023-09-04T00:00:00\", \"variable\": \"Order_Total\", \"value\": 161182.97999999998}, {\"Order_Date\": \"2023-09-05T00:00:00\", \"variable\": \"Order_Total\", \"value\": 161761.80999999997}, {\"Order_Date\": \"2023-09-06T00:00:00\", \"variable\": \"Order_Total\", \"value\": 162472.45999999996}, {\"Order_Date\": \"2023-09-07T00:00:00\", \"variable\": \"Order_Total\", \"value\": 163374.22999999995}, {\"Order_Date\": \"2023-09-08T00:00:00\", \"variable\": \"Order_Total\", \"value\": 164624.69999999995}, {\"Order_Date\": \"2023-09-09T00:00:00\", \"variable\": \"Order_Total\", \"value\": 165913.32999999996}, {\"Order_Date\": \"2023-09-10T00:00:00\", \"variable\": \"Order_Total\", \"value\": 167343.54999999996}, {\"Order_Date\": \"2023-09-11T00:00:00\", \"variable\": \"Order_Total\", \"value\": 168008.97999999995}, {\"Order_Date\": \"2023-09-12T00:00:00\", \"variable\": \"Order_Total\", \"value\": 168994.12999999995}, {\"Order_Date\": \"2023-09-13T00:00:00\", \"variable\": \"Order_Total\", \"value\": 170516.36999999994}, {\"Order_Date\": \"2023-09-14T00:00:00\", \"variable\": \"Order_Total\", \"value\": 171937.67999999993}, {\"Order_Date\": \"2023-09-15T00:00:00\", \"variable\": \"Order_Total\", \"value\": 173539.09999999995}, {\"Order_Date\": \"2023-09-16T00:00:00\", \"variable\": \"Order_Total\", \"value\": 175432.69999999995}, {\"Order_Date\": \"2023-09-17T00:00:00\", \"variable\": \"Order_Total\", \"value\": 176985.72999999995}, {\"Order_Date\": \"2023-09-18T00:00:00\", \"variable\": \"Order_Total\", \"value\": 177633.36999999997}, {\"Order_Date\": \"2023-09-19T00:00:00\", \"variable\": \"Order_Total\", \"value\": 178457.52999999997}, {\"Order_Date\": \"2023-09-20T00:00:00\", \"variable\": \"Order_Total\", \"value\": 179369.95999999996}, {\"Order_Date\": \"2023-09-21T00:00:00\", \"variable\": \"Order_Total\", \"value\": 180188.64999999997}, {\"Order_Date\": \"2023-09-22T00:00:00\", \"variable\": \"Order_Total\", \"value\": 181144.00999999995}, {\"Order_Date\": \"2023-09-23T00:00:00\", \"variable\": \"Order_Total\", \"value\": 182682.29999999996}, {\"Order_Date\": \"2023-09-24T00:00:00\", \"variable\": \"Order_Total\", \"value\": 184043.48999999996}, {\"Order_Date\": \"2023-09-25T00:00:00\", \"variable\": \"Order_Total\", \"value\": 184651.86999999997}, {\"Order_Date\": \"2023-09-26T00:00:00\", \"variable\": \"Order_Total\", \"value\": 185236.70999999996}, {\"Order_Date\": \"2023-09-27T00:00:00\", \"variable\": \"Order_Total\", \"value\": 186486.81999999995}, {\"Order_Date\": \"2023-09-28T00:00:00\", \"variable\": \"Order_Total\", \"value\": 187350.40999999995}, {\"Order_Date\": \"2023-09-29T00:00:00\", \"variable\": \"Order_Total\", \"value\": 189054.07999999996}, {\"Order_Date\": \"2023-09-30T00:00:00\", \"variable\": \"Order_Total\", \"value\": 190045.69999999995}, {\"Order_Date\": \"2023-10-01T00:00:00\", \"variable\": \"Order_Total\", \"value\": 192042.06999999995}, {\"Order_Date\": \"2023-10-02T00:00:00\", \"variable\": \"Order_Total\", \"value\": 192848.54999999996}, {\"Order_Date\": \"2023-10-03T00:00:00\", \"variable\": \"Order_Total\", \"value\": 193518.40999999995}, {\"Order_Date\": \"2023-10-04T00:00:00\", \"variable\": \"Order_Total\", \"value\": 194129.47999999995}, {\"Order_Date\": \"2023-10-05T00:00:00\", \"variable\": \"Order_Total\", \"value\": 195819.99999999994}, {\"Order_Date\": \"2023-10-06T00:00:00\", \"variable\": \"Order_Total\", \"value\": 197024.64999999994}, {\"Order_Date\": \"2023-10-07T00:00:00\", \"variable\": \"Order_Total\", \"value\": 198370.90999999995}, {\"Order_Date\": \"2023-10-08T00:00:00\", \"variable\": \"Order_Total\", \"value\": 199574.16999999995}, {\"Order_Date\": \"2023-10-09T00:00:00\", \"variable\": \"Order_Total\", \"value\": 200178.03999999995}, {\"Order_Date\": \"2023-10-10T00:00:00\", \"variable\": \"Order_Total\", \"value\": 201081.01999999996}, {\"Order_Date\": \"2023-10-11T00:00:00\", \"variable\": \"Order_Total\", \"value\": 202730.60999999996}, {\"Order_Date\": \"2023-10-12T00:00:00\", \"variable\": \"Order_Total\", \"value\": 204126.01999999996}, {\"Order_Date\": \"2023-10-13T00:00:00\", \"variable\": \"Order_Total\", \"value\": 207535.94999999995}, {\"Order_Date\": \"2023-10-14T00:00:00\", \"variable\": \"Order_Total\", \"value\": 208963.28999999995}, {\"Order_Date\": \"2023-10-15T00:00:00\", \"variable\": \"Order_Total\", \"value\": 211414.34999999995}, {\"Order_Date\": \"2023-10-16T00:00:00\", \"variable\": \"Order_Total\", \"value\": 212984.65999999995}, {\"Order_Date\": \"2023-10-17T00:00:00\", \"variable\": \"Order_Total\", \"value\": 213966.13999999996}, {\"Order_Date\": \"2023-10-18T00:00:00\", \"variable\": \"Order_Total\", \"value\": 214833.18999999994}, {\"Order_Date\": \"2023-10-19T00:00:00\", \"variable\": \"Order_Total\", \"value\": 215804.61999999994}, {\"Order_Date\": \"2023-10-20T00:00:00\", \"variable\": \"Order_Total\", \"value\": 216564.33999999994}, {\"Order_Date\": \"2023-10-21T00:00:00\", \"variable\": \"Order_Total\", \"value\": 219593.80999999994}, {\"Order_Date\": \"2023-10-22T00:00:00\", \"variable\": \"Order_Total\", \"value\": 221817.48999999993}, {\"Order_Date\": \"2023-10-23T00:00:00\", \"variable\": \"Order_Total\", \"value\": 223439.34999999992}, {\"Order_Date\": \"2023-10-24T00:00:00\", \"variable\": \"Order_Total\", \"value\": 226002.18999999992}, {\"Order_Date\": \"2023-10-25T00:00:00\", \"variable\": \"Order_Total\", \"value\": 227277.28999999992}, {\"Order_Date\": \"2023-10-26T00:00:00\", \"variable\": \"Order_Total\", \"value\": 228995.2499999999}, {\"Order_Date\": \"2023-10-27T00:00:00\", \"variable\": \"Order_Total\", \"value\": 231308.2399999999}, {\"Order_Date\": \"2023-10-28T00:00:00\", \"variable\": \"Order_Total\", \"value\": 233484.4599999999}, {\"Order_Date\": \"2023-10-29T00:00:00\", \"variable\": \"Order_Total\", \"value\": 238546.0199999999}, {\"Order_Date\": \"2023-10-30T00:00:00\", \"variable\": \"Order_Total\", \"value\": 240680.8499999999}, {\"Order_Date\": \"2023-10-31T00:00:00\", \"variable\": \"Order_Total\", \"value\": 242593.5199999999}]}}, {\"mode\": \"vega-lite\"});\n",
       "</script>"
      ],
      "text/plain": [
       "alt.Chart(...)"
      ]
     },
     "execution_count": 75,
     "metadata": {},
     "output_type": "execute_result"
    }
   ],
   "source": [
    "days_cum = days.cumsum()\n",
    "chart_3 = alt.Chart(days_cum.reset_index().melt('Order_Date')).mark_circle(size=10, opacity=0.5).encode(\n",
    "    x='Order_Date',\n",
    "    y='value',\n",
    "    color = 'variable'\n",
    ").properties(width=800, height=400)\n",
    "\n",
    "chart_3.interactive()"
   ]
  },
  {
   "attachments": {},
   "cell_type": "markdown",
   "id": "d92a1755",
   "metadata": {},
   "source": [
    "### Ramen Sales Distribution Over Time"
   ]
  },
  {
   "attachments": {},
   "cell_type": "markdown",
   "id": "479304e9",
   "metadata": {},
   "source": [
    "Now we will take a look at how the ramen sales have changed over time"
   ]
  },
  {
   "cell_type": "code",
   "execution_count": 76,
   "id": "0e19db52",
   "metadata": {},
   "outputs": [
    {
     "data": {
      "text/html": [
       "<div>\n",
       "<style scoped>\n",
       "    .dataframe tbody tr th:only-of-type {\n",
       "        vertical-align: middle;\n",
       "    }\n",
       "\n",
       "    .dataframe tbody tr th {\n",
       "        vertical-align: top;\n",
       "    }\n",
       "\n",
       "    .dataframe thead th {\n",
       "        text-align: right;\n",
       "    }\n",
       "</style>\n",
       "<table border=\"1\" class=\"dataframe\">\n",
       "  <thead>\n",
       "    <tr style=\"text-align: right;\">\n",
       "      <th></th>\n",
       "      <th>Order_Number</th>\n",
       "      <th>Order_Type</th>\n",
       "      <th>Order_Date</th>\n",
       "      <th>Order_Sub_Total</th>\n",
       "      <th>Order_Sales_Tax</th>\n",
       "      <th>Order_Total</th>\n",
       "      <th>Payment_Type</th>\n",
       "      <th>Product_Name</th>\n",
       "      <th>Category</th>\n",
       "      <th>Exchange_Void_or_Return</th>\n",
       "      <th>Discount_Reason</th>\n",
       "      <th>Gross_Item_Price</th>\n",
       "      <th>Total_Sales_Price</th>\n",
       "      <th>Total_Product_Tax</th>\n",
       "      <th>Product_Quantity</th>\n",
       "      <th>Special_Request</th>\n",
       "    </tr>\n",
       "  </thead>\n",
       "  <tbody>\n",
       "    <tr>\n",
       "      <th>0</th>\n",
       "      <td>185341</td>\n",
       "      <td>To Go</td>\n",
       "      <td>2023-05-11 15:21:18</td>\n",
       "      <td>0.00</td>\n",
       "      <td>0.00</td>\n",
       "      <td>0.00</td>\n",
       "      <td>Complimentary</td>\n",
       "      <td>Smoked Karage</td>\n",
       "      <td>Ramen</td>\n",
       "      <td>False</td>\n",
       "      <td>NaN</td>\n",
       "      <td>0.00</td>\n",
       "      <td>0.00</td>\n",
       "      <td>0.00</td>\n",
       "      <td>1</td>\n",
       "      <td>NaN</td>\n",
       "    </tr>\n",
       "    <tr>\n",
       "      <th>1</th>\n",
       "      <td>185342</td>\n",
       "      <td>To Go</td>\n",
       "      <td>2023-05-11 15:23:14</td>\n",
       "      <td>0.01</td>\n",
       "      <td>0.00</td>\n",
       "      <td>0.01</td>\n",
       "      <td>Credit</td>\n",
       "      <td>Smoked Karage</td>\n",
       "      <td>Ramen</td>\n",
       "      <td>False</td>\n",
       "      <td>NaN</td>\n",
       "      <td>0.00</td>\n",
       "      <td>0.00</td>\n",
       "      <td>0.00</td>\n",
       "      <td>1</td>\n",
       "      <td>NaN</td>\n",
       "    </tr>\n",
       "    <tr>\n",
       "      <th>2</th>\n",
       "      <td>185342</td>\n",
       "      <td>To Go</td>\n",
       "      <td>2023-05-11 15:23:14</td>\n",
       "      <td>0.01</td>\n",
       "      <td>0.00</td>\n",
       "      <td>0.01</td>\n",
       "      <td>Credit</td>\n",
       "      <td>LOVE</td>\n",
       "      <td>Specials</td>\n",
       "      <td>False</td>\n",
       "      <td>NaN</td>\n",
       "      <td>0.01</td>\n",
       "      <td>0.01</td>\n",
       "      <td>0.00</td>\n",
       "      <td>1</td>\n",
       "      <td>NaN</td>\n",
       "    </tr>\n",
       "    <tr>\n",
       "      <th>3</th>\n",
       "      <td>185342</td>\n",
       "      <td>To Go</td>\n",
       "      <td>2023-05-11 15:23:14</td>\n",
       "      <td>0.01</td>\n",
       "      <td>0.00</td>\n",
       "      <td>0.01</td>\n",
       "      <td>Credit</td>\n",
       "      <td>10 Indomitable Chicken Wing ICW</td>\n",
       "      <td>Appetizers</td>\n",
       "      <td>True</td>\n",
       "      <td>NaN</td>\n",
       "      <td>18.00</td>\n",
       "      <td>18.00</td>\n",
       "      <td>1.49</td>\n",
       "      <td>1</td>\n",
       "      <td>Do not make</td>\n",
       "    </tr>\n",
       "    <tr>\n",
       "      <th>4</th>\n",
       "      <td>185369</td>\n",
       "      <td>To Go</td>\n",
       "      <td>2023-05-11 18:04:16</td>\n",
       "      <td>0.00</td>\n",
       "      <td>0.00</td>\n",
       "      <td>0.00</td>\n",
       "      <td>Complimentary</td>\n",
       "      <td>Smoked Karage</td>\n",
       "      <td>Ramen</td>\n",
       "      <td>False</td>\n",
       "      <td>NaN</td>\n",
       "      <td>0.00</td>\n",
       "      <td>0.00</td>\n",
       "      <td>0.00</td>\n",
       "      <td>1</td>\n",
       "      <td>NaN</td>\n",
       "    </tr>\n",
       "    <tr>\n",
       "      <th>...</th>\n",
       "      <td>...</td>\n",
       "      <td>...</td>\n",
       "      <td>...</td>\n",
       "      <td>...</td>\n",
       "      <td>...</td>\n",
       "      <td>...</td>\n",
       "      <td>...</td>\n",
       "      <td>...</td>\n",
       "      <td>...</td>\n",
       "      <td>...</td>\n",
       "      <td>...</td>\n",
       "      <td>...</td>\n",
       "      <td>...</td>\n",
       "      <td>...</td>\n",
       "      <td>...</td>\n",
       "      <td>...</td>\n",
       "    </tr>\n",
       "    <tr>\n",
       "      <th>22318</th>\n",
       "      <td>230856</td>\n",
       "      <td>Eat In</td>\n",
       "      <td>2023-10-31 20:00:39</td>\n",
       "      <td>127.00</td>\n",
       "      <td>10.48</td>\n",
       "      <td>137.48</td>\n",
       "      <td>Credit</td>\n",
       "      <td>Classic Shoyu</td>\n",
       "      <td>Food</td>\n",
       "      <td>False</td>\n",
       "      <td>NaN</td>\n",
       "      <td>10.00</td>\n",
       "      <td>10.00</td>\n",
       "      <td>0.82</td>\n",
       "      <td>1</td>\n",
       "      <td>TOGO</td>\n",
       "    </tr>\n",
       "    <tr>\n",
       "      <th>22319</th>\n",
       "      <td>230885</td>\n",
       "      <td>To Go</td>\n",
       "      <td>2023-10-31 20:45:12</td>\n",
       "      <td>17.50</td>\n",
       "      <td>0.00</td>\n",
       "      <td>0.00</td>\n",
       "      <td>Complimentary</td>\n",
       "      <td>TO-GO</td>\n",
       "      <td>Food</td>\n",
       "      <td>False</td>\n",
       "      <td>NaN</td>\n",
       "      <td>0.00</td>\n",
       "      <td>0.00</td>\n",
       "      <td>0.00</td>\n",
       "      <td>1</td>\n",
       "      <td>NaN</td>\n",
       "    </tr>\n",
       "    <tr>\n",
       "      <th>22320</th>\n",
       "      <td>230885</td>\n",
       "      <td>To Go</td>\n",
       "      <td>2023-10-31 20:45:12</td>\n",
       "      <td>17.50</td>\n",
       "      <td>0.00</td>\n",
       "      <td>0.00</td>\n",
       "      <td>Complimentary</td>\n",
       "      <td>Classic Shoyu</td>\n",
       "      <td>Food</td>\n",
       "      <td>False</td>\n",
       "      <td>NaN</td>\n",
       "      <td>16.00</td>\n",
       "      <td>10.00</td>\n",
       "      <td>1.32</td>\n",
       "      <td>1</td>\n",
       "      <td>NaN</td>\n",
       "    </tr>\n",
       "    <tr>\n",
       "      <th>22321</th>\n",
       "      <td>230885</td>\n",
       "      <td>To Go</td>\n",
       "      <td>2023-10-31 20:45:12</td>\n",
       "      <td>17.50</td>\n",
       "      <td>0.00</td>\n",
       "      <td>0.00</td>\n",
       "      <td>Complimentary</td>\n",
       "      <td>Nori</td>\n",
       "      <td>Extras</td>\n",
       "      <td>False</td>\n",
       "      <td>NaN</td>\n",
       "      <td>0.50</td>\n",
       "      <td>0.50</td>\n",
       "      <td>0.04</td>\n",
       "      <td>1</td>\n",
       "      <td>NaN</td>\n",
       "    </tr>\n",
       "    <tr>\n",
       "      <th>22322</th>\n",
       "      <td>230885</td>\n",
       "      <td>To Go</td>\n",
       "      <td>2023-10-31 20:45:12</td>\n",
       "      <td>17.50</td>\n",
       "      <td>0.00</td>\n",
       "      <td>0.00</td>\n",
       "      <td>Complimentary</td>\n",
       "      <td>BS &amp; C Mix</td>\n",
       "      <td>Extras</td>\n",
       "      <td>False</td>\n",
       "      <td>NaN</td>\n",
       "      <td>1.00</td>\n",
       "      <td>1.00</td>\n",
       "      <td>0.08</td>\n",
       "      <td>1</td>\n",
       "      <td>NaN</td>\n",
       "    </tr>\n",
       "  </tbody>\n",
       "</table>\n",
       "<p>22323 rows × 16 columns</p>\n",
       "</div>"
      ],
      "text/plain": [
       "      Order_Number Order_Type          Order_Date  Order_Sub_Total  \\\n",
       "0           185341      To Go 2023-05-11 15:21:18             0.00   \n",
       "1           185342      To Go 2023-05-11 15:23:14             0.01   \n",
       "2           185342      To Go 2023-05-11 15:23:14             0.01   \n",
       "3           185342      To Go 2023-05-11 15:23:14             0.01   \n",
       "4           185369      To Go 2023-05-11 18:04:16             0.00   \n",
       "...            ...        ...                 ...              ...   \n",
       "22318       230856     Eat In 2023-10-31 20:00:39           127.00   \n",
       "22319       230885      To Go 2023-10-31 20:45:12            17.50   \n",
       "22320       230885      To Go 2023-10-31 20:45:12            17.50   \n",
       "22321       230885      To Go 2023-10-31 20:45:12            17.50   \n",
       "22322       230885      To Go 2023-10-31 20:45:12            17.50   \n",
       "\n",
       "       Order_Sales_Tax  Order_Total   Payment_Type  \\\n",
       "0                 0.00         0.00  Complimentary   \n",
       "1                 0.00         0.01         Credit   \n",
       "2                 0.00         0.01         Credit   \n",
       "3                 0.00         0.01         Credit   \n",
       "4                 0.00         0.00  Complimentary   \n",
       "...                ...          ...            ...   \n",
       "22318            10.48       137.48         Credit   \n",
       "22319             0.00         0.00  Complimentary   \n",
       "22320             0.00         0.00  Complimentary   \n",
       "22321             0.00         0.00  Complimentary   \n",
       "22322             0.00         0.00  Complimentary   \n",
       "\n",
       "                          Product_Name    Category  Exchange_Void_or_Return  \\\n",
       "0                        Smoked Karage       Ramen                    False   \n",
       "1                        Smoked Karage       Ramen                    False   \n",
       "2                                 LOVE    Specials                    False   \n",
       "3      10 Indomitable Chicken Wing ICW  Appetizers                     True   \n",
       "4                        Smoked Karage       Ramen                    False   \n",
       "...                                ...         ...                      ...   \n",
       "22318                    Classic Shoyu        Food                    False   \n",
       "22319                            TO-GO        Food                    False   \n",
       "22320                    Classic Shoyu        Food                    False   \n",
       "22321                             Nori      Extras                    False   \n",
       "22322                       BS & C Mix      Extras                    False   \n",
       "\n",
       "      Discount_Reason  Gross_Item_Price  Total_Sales_Price  Total_Product_Tax  \\\n",
       "0                 NaN              0.00               0.00               0.00   \n",
       "1                 NaN              0.00               0.00               0.00   \n",
       "2                 NaN              0.01               0.01               0.00   \n",
       "3                 NaN             18.00              18.00               1.49   \n",
       "4                 NaN              0.00               0.00               0.00   \n",
       "...               ...               ...                ...                ...   \n",
       "22318             NaN             10.00              10.00               0.82   \n",
       "22319             NaN              0.00               0.00               0.00   \n",
       "22320             NaN             16.00              10.00               1.32   \n",
       "22321             NaN              0.50               0.50               0.04   \n",
       "22322             NaN              1.00               1.00               0.08   \n",
       "\n",
       "       Product_Quantity Special_Request  \n",
       "0                     1             NaN  \n",
       "1                     1             NaN  \n",
       "2                     1             NaN  \n",
       "3                     1     Do not make  \n",
       "4                     1             NaN  \n",
       "...                 ...             ...  \n",
       "22318                 1            TOGO  \n",
       "22319                 1             NaN  \n",
       "22320                 1             NaN  \n",
       "22321                 1             NaN  \n",
       "22322                 1             NaN  \n",
       "\n",
       "[22323 rows x 16 columns]"
      ]
     },
     "execution_count": 76,
     "metadata": {},
     "output_type": "execute_result"
    }
   ],
   "source": [
    "df"
   ]
  },
  {
   "cell_type": "code",
   "execution_count": 77,
   "id": "27a0f439",
   "metadata": {},
   "outputs": [],
   "source": [
    "df['Product_Name'].replace({'(V) Shoyu': 'Shoyu', 'Chicken Shoyu': 'Shoyu',\n",
    "                            'Spicy Miso': 'Spicy'})\n",
    "products = df[['Order_Number', 'Order_Date', 'Product_Name', 'Product_Quantity']]\n",
    "products = products.set_index('Order_Date')"
   ]
  },
  {
   "cell_type": "code",
   "execution_count": 78,
   "id": "927da524",
   "metadata": {},
   "outputs": [
    {
     "data": {
      "text/html": [
       "<div>\n",
       "<style scoped>\n",
       "    .dataframe tbody tr th:only-of-type {\n",
       "        vertical-align: middle;\n",
       "    }\n",
       "\n",
       "    .dataframe tbody tr th {\n",
       "        vertical-align: top;\n",
       "    }\n",
       "\n",
       "    .dataframe thead th {\n",
       "        text-align: right;\n",
       "    }\n",
       "</style>\n",
       "<table border=\"1\" class=\"dataframe\">\n",
       "  <thead>\n",
       "    <tr style=\"text-align: right;\">\n",
       "      <th></th>\n",
       "      <th>Order_Number</th>\n",
       "      <th>Product_Name</th>\n",
       "      <th>Product_Quantity</th>\n",
       "    </tr>\n",
       "    <tr>\n",
       "      <th>Order_Date</th>\n",
       "      <th></th>\n",
       "      <th></th>\n",
       "      <th></th>\n",
       "    </tr>\n",
       "  </thead>\n",
       "  <tbody>\n",
       "    <tr>\n",
       "      <th>2023-05-11 15:21:18</th>\n",
       "      <td>185341</td>\n",
       "      <td>Smoked Karage</td>\n",
       "      <td>1</td>\n",
       "    </tr>\n",
       "    <tr>\n",
       "      <th>2023-05-11 15:23:14</th>\n",
       "      <td>185342</td>\n",
       "      <td>Smoked Karage</td>\n",
       "      <td>1</td>\n",
       "    </tr>\n",
       "    <tr>\n",
       "      <th>2023-05-11 15:23:14</th>\n",
       "      <td>185342</td>\n",
       "      <td>LOVE</td>\n",
       "      <td>1</td>\n",
       "    </tr>\n",
       "    <tr>\n",
       "      <th>2023-05-11 15:23:14</th>\n",
       "      <td>185342</td>\n",
       "      <td>10 Indomitable Chicken Wing ICW</td>\n",
       "      <td>1</td>\n",
       "    </tr>\n",
       "    <tr>\n",
       "      <th>2023-05-11 18:04:16</th>\n",
       "      <td>185369</td>\n",
       "      <td>Smoked Karage</td>\n",
       "      <td>1</td>\n",
       "    </tr>\n",
       "    <tr>\n",
       "      <th>...</th>\n",
       "      <td>...</td>\n",
       "      <td>...</td>\n",
       "      <td>...</td>\n",
       "    </tr>\n",
       "    <tr>\n",
       "      <th>2023-10-31 20:00:39</th>\n",
       "      <td>230856</td>\n",
       "      <td>Classic Shoyu</td>\n",
       "      <td>1</td>\n",
       "    </tr>\n",
       "    <tr>\n",
       "      <th>2023-10-31 20:45:12</th>\n",
       "      <td>230885</td>\n",
       "      <td>TO-GO</td>\n",
       "      <td>1</td>\n",
       "    </tr>\n",
       "    <tr>\n",
       "      <th>2023-10-31 20:45:12</th>\n",
       "      <td>230885</td>\n",
       "      <td>Classic Shoyu</td>\n",
       "      <td>1</td>\n",
       "    </tr>\n",
       "    <tr>\n",
       "      <th>2023-10-31 20:45:12</th>\n",
       "      <td>230885</td>\n",
       "      <td>Nori</td>\n",
       "      <td>1</td>\n",
       "    </tr>\n",
       "    <tr>\n",
       "      <th>2023-10-31 20:45:12</th>\n",
       "      <td>230885</td>\n",
       "      <td>BS &amp; C Mix</td>\n",
       "      <td>1</td>\n",
       "    </tr>\n",
       "  </tbody>\n",
       "</table>\n",
       "<p>22323 rows × 3 columns</p>\n",
       "</div>"
      ],
      "text/plain": [
       "                    Order_Number                     Product_Name  \\\n",
       "Order_Date                                                          \n",
       "2023-05-11 15:21:18       185341                    Smoked Karage   \n",
       "2023-05-11 15:23:14       185342                    Smoked Karage   \n",
       "2023-05-11 15:23:14       185342                             LOVE   \n",
       "2023-05-11 15:23:14       185342  10 Indomitable Chicken Wing ICW   \n",
       "2023-05-11 18:04:16       185369                    Smoked Karage   \n",
       "...                          ...                              ...   \n",
       "2023-10-31 20:00:39       230856                    Classic Shoyu   \n",
       "2023-10-31 20:45:12       230885                            TO-GO   \n",
       "2023-10-31 20:45:12       230885                    Classic Shoyu   \n",
       "2023-10-31 20:45:12       230885                             Nori   \n",
       "2023-10-31 20:45:12       230885                       BS & C Mix   \n",
       "\n",
       "                     Product_Quantity  \n",
       "Order_Date                             \n",
       "2023-05-11 15:21:18                 1  \n",
       "2023-05-11 15:23:14                 1  \n",
       "2023-05-11 15:23:14                 1  \n",
       "2023-05-11 15:23:14                 1  \n",
       "2023-05-11 18:04:16                 1  \n",
       "...                               ...  \n",
       "2023-10-31 20:00:39                 1  \n",
       "2023-10-31 20:45:12                 1  \n",
       "2023-10-31 20:45:12                 1  \n",
       "2023-10-31 20:45:12                 1  \n",
       "2023-10-31 20:45:12                 1  \n",
       "\n",
       "[22323 rows x 3 columns]"
      ]
     },
     "execution_count": 78,
     "metadata": {},
     "output_type": "execute_result"
    }
   ],
   "source": [
    "products"
   ]
  },
  {
   "cell_type": "code",
   "execution_count": 79,
   "id": "5d299907",
   "metadata": {},
   "outputs": [
    {
     "name": "stderr",
     "output_type": "stream",
     "text": [
      "/var/folders/2l/5z_t54nn2mgcnb_rlc4qxcr40000gn/T/ipykernel_792/1700261227.py:1: FutureWarning:\n",
      "\n",
      "The default of observed=False is deprecated and will be changed to True in a future version of pandas. Pass observed=False to retain current behavior or observed=True to adopt the future default and silence this warning.\n",
      "\n"
     ]
    },
    {
     "data": {
      "text/html": [
       "<div>\n",
       "<style scoped>\n",
       "    .dataframe tbody tr th:only-of-type {\n",
       "        vertical-align: middle;\n",
       "    }\n",
       "\n",
       "    .dataframe tbody tr th {\n",
       "        vertical-align: top;\n",
       "    }\n",
       "\n",
       "    .dataframe thead th {\n",
       "        text-align: right;\n",
       "    }\n",
       "</style>\n",
       "<table border=\"1\" class=\"dataframe\">\n",
       "  <thead>\n",
       "    <tr style=\"text-align: right;\">\n",
       "      <th></th>\n",
       "      <th>Order_Number</th>\n",
       "      <th>Product_Name</th>\n",
       "      <th>Product_Quantity</th>\n",
       "    </tr>\n",
       "    <tr>\n",
       "      <th>Order_Date</th>\n",
       "      <th></th>\n",
       "      <th></th>\n",
       "      <th></th>\n",
       "    </tr>\n",
       "  </thead>\n",
       "  <tbody>\n",
       "    <tr>\n",
       "      <th>2023-05-11 15:21:18</th>\n",
       "      <td>185341</td>\n",
       "      <td>Smoked Karage</td>\n",
       "      <td>1</td>\n",
       "    </tr>\n",
       "    <tr>\n",
       "      <th>2023-05-11 15:23:14</th>\n",
       "      <td>185342</td>\n",
       "      <td>Smoked Karage</td>\n",
       "      <td>1</td>\n",
       "    </tr>\n",
       "    <tr>\n",
       "      <th>2023-05-11 15:23:14</th>\n",
       "      <td>185342</td>\n",
       "      <td>LOVE</td>\n",
       "      <td>1</td>\n",
       "    </tr>\n",
       "    <tr>\n",
       "      <th>2023-05-11 15:23:14</th>\n",
       "      <td>185342</td>\n",
       "      <td>10 Indomitable Chicken Wing ICW</td>\n",
       "      <td>1</td>\n",
       "    </tr>\n",
       "    <tr>\n",
       "      <th>2023-05-11 18:04:16</th>\n",
       "      <td>185369</td>\n",
       "      <td>Smoked Karage</td>\n",
       "      <td>1</td>\n",
       "    </tr>\n",
       "    <tr>\n",
       "      <th>...</th>\n",
       "      <td>...</td>\n",
       "      <td>...</td>\n",
       "      <td>...</td>\n",
       "    </tr>\n",
       "    <tr>\n",
       "      <th>2023-10-31 20:00:39</th>\n",
       "      <td>230856</td>\n",
       "      <td>Classic Shoyu</td>\n",
       "      <td>1</td>\n",
       "    </tr>\n",
       "    <tr>\n",
       "      <th>2023-10-31 20:45:12</th>\n",
       "      <td>230885</td>\n",
       "      <td>TO-GO</td>\n",
       "      <td>1</td>\n",
       "    </tr>\n",
       "    <tr>\n",
       "      <th>2023-10-31 20:45:12</th>\n",
       "      <td>230885</td>\n",
       "      <td>Classic Shoyu</td>\n",
       "      <td>1</td>\n",
       "    </tr>\n",
       "    <tr>\n",
       "      <th>2023-10-31 20:45:12</th>\n",
       "      <td>230885</td>\n",
       "      <td>Nori</td>\n",
       "      <td>1</td>\n",
       "    </tr>\n",
       "    <tr>\n",
       "      <th>2023-10-31 20:45:12</th>\n",
       "      <td>230885</td>\n",
       "      <td>BS &amp; C Mix</td>\n",
       "      <td>1</td>\n",
       "    </tr>\n",
       "  </tbody>\n",
       "</table>\n",
       "<p>22323 rows × 3 columns</p>\n",
       "</div>"
      ],
      "text/plain": [
       "                    Order_Number                     Product_Name  \\\n",
       "Order_Date                                                          \n",
       "2023-05-11 15:21:18       185341                    Smoked Karage   \n",
       "2023-05-11 15:23:14       185342                    Smoked Karage   \n",
       "2023-05-11 15:23:14       185342                             LOVE   \n",
       "2023-05-11 15:23:14       185342  10 Indomitable Chicken Wing ICW   \n",
       "2023-05-11 18:04:16       185369                    Smoked Karage   \n",
       "...                          ...                              ...   \n",
       "2023-10-31 20:00:39       230856                    Classic Shoyu   \n",
       "2023-10-31 20:45:12       230885                            TO-GO   \n",
       "2023-10-31 20:45:12       230885                    Classic Shoyu   \n",
       "2023-10-31 20:45:12       230885                             Nori   \n",
       "2023-10-31 20:45:12       230885                       BS & C Mix   \n",
       "\n",
       "                     Product_Quantity  \n",
       "Order_Date                             \n",
       "2023-05-11 15:21:18                 1  \n",
       "2023-05-11 15:23:14                 1  \n",
       "2023-05-11 15:23:14                 1  \n",
       "2023-05-11 15:23:14                 1  \n",
       "2023-05-11 18:04:16                 1  \n",
       "...                               ...  \n",
       "2023-10-31 20:00:39                 1  \n",
       "2023-10-31 20:45:12                 1  \n",
       "2023-10-31 20:45:12                 1  \n",
       "2023-10-31 20:45:12                 1  \n",
       "2023-10-31 20:45:12                 1  \n",
       "\n",
       "[22323 rows x 3 columns]"
      ]
     },
     "execution_count": 79,
     "metadata": {},
     "output_type": "execute_result"
    }
   ],
   "source": [
    "products_1 = products.reset_index().groupby(['Order_Date', 'Product_Name'])['Product_Quantity'].aggregate('first').unstack()\n",
    "products"
   ]
  },
  {
   "cell_type": "code",
   "execution_count": 80,
   "id": "7583f3dd",
   "metadata": {},
   "outputs": [
    {
     "data": {
      "text/html": [
       "<div>\n",
       "<style scoped>\n",
       "    .dataframe tbody tr th:only-of-type {\n",
       "        vertical-align: middle;\n",
       "    }\n",
       "\n",
       "    .dataframe tbody tr th {\n",
       "        vertical-align: top;\n",
       "    }\n",
       "\n",
       "    .dataframe thead th {\n",
       "        text-align: right;\n",
       "    }\n",
       "</style>\n",
       "<table border=\"1\" class=\"dataframe\">\n",
       "  <thead>\n",
       "    <tr style=\"text-align: right;\">\n",
       "      <th></th>\n",
       "      <th>Order_Date</th>\n",
       "      <th>Product_Name</th>\n",
       "      <th>value</th>\n",
       "    </tr>\n",
       "  </thead>\n",
       "  <tbody>\n",
       "    <tr>\n",
       "      <th>0</th>\n",
       "      <td>May</td>\n",
       "      <td>Shoyu</td>\n",
       "      <td>150.0</td>\n",
       "    </tr>\n",
       "    <tr>\n",
       "      <th>1</th>\n",
       "      <td>Jun</td>\n",
       "      <td>Shoyu</td>\n",
       "      <td>590.0</td>\n",
       "    </tr>\n",
       "    <tr>\n",
       "      <th>2</th>\n",
       "      <td>Jul</td>\n",
       "      <td>Shoyu</td>\n",
       "      <td>751.0</td>\n",
       "    </tr>\n",
       "    <tr>\n",
       "      <th>3</th>\n",
       "      <td>Aug</td>\n",
       "      <td>Shoyu</td>\n",
       "      <td>513.0</td>\n",
       "    </tr>\n",
       "    <tr>\n",
       "      <th>4</th>\n",
       "      <td>Sep</td>\n",
       "      <td>Shoyu</td>\n",
       "      <td>471.0</td>\n",
       "    </tr>\n",
       "    <tr>\n",
       "      <th>5</th>\n",
       "      <td>Oct</td>\n",
       "      <td>Shoyu</td>\n",
       "      <td>589.0</td>\n",
       "    </tr>\n",
       "    <tr>\n",
       "      <th>6</th>\n",
       "      <td>May</td>\n",
       "      <td>Spicy</td>\n",
       "      <td>128.0</td>\n",
       "    </tr>\n",
       "    <tr>\n",
       "      <th>7</th>\n",
       "      <td>Jun</td>\n",
       "      <td>Spicy</td>\n",
       "      <td>419.0</td>\n",
       "    </tr>\n",
       "    <tr>\n",
       "      <th>8</th>\n",
       "      <td>Jul</td>\n",
       "      <td>Spicy</td>\n",
       "      <td>644.0</td>\n",
       "    </tr>\n",
       "    <tr>\n",
       "      <th>9</th>\n",
       "      <td>Aug</td>\n",
       "      <td>Spicy</td>\n",
       "      <td>562.0</td>\n",
       "    </tr>\n",
       "    <tr>\n",
       "      <th>10</th>\n",
       "      <td>Sep</td>\n",
       "      <td>Spicy</td>\n",
       "      <td>418.0</td>\n",
       "    </tr>\n",
       "    <tr>\n",
       "      <th>11</th>\n",
       "      <td>Oct</td>\n",
       "      <td>Spicy</td>\n",
       "      <td>585.0</td>\n",
       "    </tr>\n",
       "    <tr>\n",
       "      <th>12</th>\n",
       "      <td>May</td>\n",
       "      <td>Classic Shoyu</td>\n",
       "      <td>0.0</td>\n",
       "    </tr>\n",
       "    <tr>\n",
       "      <th>13</th>\n",
       "      <td>Jun</td>\n",
       "      <td>Classic Shoyu</td>\n",
       "      <td>0.0</td>\n",
       "    </tr>\n",
       "    <tr>\n",
       "      <th>14</th>\n",
       "      <td>Jul</td>\n",
       "      <td>Classic Shoyu</td>\n",
       "      <td>0.0</td>\n",
       "    </tr>\n",
       "    <tr>\n",
       "      <th>15</th>\n",
       "      <td>Aug</td>\n",
       "      <td>Classic Shoyu</td>\n",
       "      <td>1201.0</td>\n",
       "    </tr>\n",
       "    <tr>\n",
       "      <th>16</th>\n",
       "      <td>Sep</td>\n",
       "      <td>Classic Shoyu</td>\n",
       "      <td>346.0</td>\n",
       "    </tr>\n",
       "    <tr>\n",
       "      <th>17</th>\n",
       "      <td>Oct</td>\n",
       "      <td>Classic Shoyu</td>\n",
       "      <td>389.0</td>\n",
       "    </tr>\n",
       "    <tr>\n",
       "      <th>18</th>\n",
       "      <td>May</td>\n",
       "      <td>Jiro</td>\n",
       "      <td>97.0</td>\n",
       "    </tr>\n",
       "    <tr>\n",
       "      <th>19</th>\n",
       "      <td>Jun</td>\n",
       "      <td>Jiro</td>\n",
       "      <td>390.0</td>\n",
       "    </tr>\n",
       "    <tr>\n",
       "      <th>20</th>\n",
       "      <td>Jul</td>\n",
       "      <td>Jiro</td>\n",
       "      <td>439.0</td>\n",
       "    </tr>\n",
       "    <tr>\n",
       "      <th>21</th>\n",
       "      <td>Aug</td>\n",
       "      <td>Jiro</td>\n",
       "      <td>414.0</td>\n",
       "    </tr>\n",
       "    <tr>\n",
       "      <th>22</th>\n",
       "      <td>Sep</td>\n",
       "      <td>Jiro</td>\n",
       "      <td>364.0</td>\n",
       "    </tr>\n",
       "    <tr>\n",
       "      <th>23</th>\n",
       "      <td>Oct</td>\n",
       "      <td>Jiro</td>\n",
       "      <td>411.0</td>\n",
       "    </tr>\n",
       "    <tr>\n",
       "      <th>24</th>\n",
       "      <td>May</td>\n",
       "      <td>Shoyu Jr</td>\n",
       "      <td>0.0</td>\n",
       "    </tr>\n",
       "    <tr>\n",
       "      <th>25</th>\n",
       "      <td>Jun</td>\n",
       "      <td>Shoyu Jr</td>\n",
       "      <td>0.0</td>\n",
       "    </tr>\n",
       "    <tr>\n",
       "      <th>26</th>\n",
       "      <td>Jul</td>\n",
       "      <td>Shoyu Jr</td>\n",
       "      <td>40.0</td>\n",
       "    </tr>\n",
       "    <tr>\n",
       "      <th>27</th>\n",
       "      <td>Aug</td>\n",
       "      <td>Shoyu Jr</td>\n",
       "      <td>61.0</td>\n",
       "    </tr>\n",
       "    <tr>\n",
       "      <th>28</th>\n",
       "      <td>Sep</td>\n",
       "      <td>Shoyu Jr</td>\n",
       "      <td>64.0</td>\n",
       "    </tr>\n",
       "    <tr>\n",
       "      <th>29</th>\n",
       "      <td>Oct</td>\n",
       "      <td>Shoyu Jr</td>\n",
       "      <td>62.0</td>\n",
       "    </tr>\n",
       "  </tbody>\n",
       "</table>\n",
       "</div>"
      ],
      "text/plain": [
       "   Order_Date   Product_Name   value\n",
       "0         May          Shoyu   150.0\n",
       "1         Jun          Shoyu   590.0\n",
       "2         Jul          Shoyu   751.0\n",
       "3         Aug          Shoyu   513.0\n",
       "4         Sep          Shoyu   471.0\n",
       "5         Oct          Shoyu   589.0\n",
       "6         May          Spicy   128.0\n",
       "7         Jun          Spicy   419.0\n",
       "8         Jul          Spicy   644.0\n",
       "9         Aug          Spicy   562.0\n",
       "10        Sep          Spicy   418.0\n",
       "11        Oct          Spicy   585.0\n",
       "12        May  Classic Shoyu     0.0\n",
       "13        Jun  Classic Shoyu     0.0\n",
       "14        Jul  Classic Shoyu     0.0\n",
       "15        Aug  Classic Shoyu  1201.0\n",
       "16        Sep  Classic Shoyu   346.0\n",
       "17        Oct  Classic Shoyu   389.0\n",
       "18        May           Jiro    97.0\n",
       "19        Jun           Jiro   390.0\n",
       "20        Jul           Jiro   439.0\n",
       "21        Aug           Jiro   414.0\n",
       "22        Sep           Jiro   364.0\n",
       "23        Oct           Jiro   411.0\n",
       "24        May       Shoyu Jr     0.0\n",
       "25        Jun       Shoyu Jr     0.0\n",
       "26        Jul       Shoyu Jr    40.0\n",
       "27        Aug       Shoyu Jr    61.0\n",
       "28        Sep       Shoyu Jr    64.0\n",
       "29        Oct       Shoyu Jr    62.0"
      ]
     },
     "execution_count": 80,
     "metadata": {},
     "output_type": "execute_result"
    }
   ],
   "source": [
    "ramen = products_1[['Shoyu', 'Spicy', 'Classic Shoyu', 'Jiro', 'Shoyu Jr']]\n",
    "months = ramen.resample('M').sum()\n",
    "\n",
    "months.index = months.index.strftime(\"%b\")\n",
    "months.reset_index().melt('Order_Date')"
   ]
  },
  {
   "cell_type": "code",
   "execution_count": 81,
   "id": "3aad6019",
   "metadata": {},
   "outputs": [
    {
     "data": {
      "text/html": [
       "\n",
       "<style>\n",
       "  #altair-viz-d7a38bd43dd045cf9222e2b44cc176b8.vega-embed {\n",
       "    width: 100%;\n",
       "    display: flex;\n",
       "  }\n",
       "\n",
       "  #altair-viz-d7a38bd43dd045cf9222e2b44cc176b8.vega-embed details,\n",
       "  #altair-viz-d7a38bd43dd045cf9222e2b44cc176b8.vega-embed details summary {\n",
       "    position: relative;\n",
       "  }\n",
       "</style>\n",
       "<div id=\"altair-viz-d7a38bd43dd045cf9222e2b44cc176b8\"></div>\n",
       "<script type=\"text/javascript\">\n",
       "  var VEGA_DEBUG = (typeof VEGA_DEBUG == \"undefined\") ? {} : VEGA_DEBUG;\n",
       "  (function(spec, embedOpt){\n",
       "    let outputDiv = document.currentScript.previousElementSibling;\n",
       "    if (outputDiv.id !== \"altair-viz-d7a38bd43dd045cf9222e2b44cc176b8\") {\n",
       "      outputDiv = document.getElementById(\"altair-viz-d7a38bd43dd045cf9222e2b44cc176b8\");\n",
       "    }\n",
       "    const paths = {\n",
       "      \"vega\": \"https://cdn.jsdelivr.net/npm/vega@5?noext\",\n",
       "      \"vega-lib\": \"https://cdn.jsdelivr.net/npm/vega-lib?noext\",\n",
       "      \"vega-lite\": \"https://cdn.jsdelivr.net/npm/vega-lite@5.15.1?noext\",\n",
       "      \"vega-embed\": \"https://cdn.jsdelivr.net/npm/vega-embed@6?noext\",\n",
       "    };\n",
       "\n",
       "    function maybeLoadScript(lib, version) {\n",
       "      var key = `${lib.replace(\"-\", \"\")}_version`;\n",
       "      return (VEGA_DEBUG[key] == version) ?\n",
       "        Promise.resolve(paths[lib]) :\n",
       "        new Promise(function(resolve, reject) {\n",
       "          var s = document.createElement('script');\n",
       "          document.getElementsByTagName(\"head\")[0].appendChild(s);\n",
       "          s.async = true;\n",
       "          s.onload = () => {\n",
       "            VEGA_DEBUG[key] = version;\n",
       "            return resolve(paths[lib]);\n",
       "          };\n",
       "          s.onerror = () => reject(`Error loading script: ${paths[lib]}`);\n",
       "          s.src = paths[lib];\n",
       "        });\n",
       "    }\n",
       "\n",
       "    function showError(err) {\n",
       "      outputDiv.innerHTML = `<div class=\"error\" style=\"color:red;\">${err}</div>`;\n",
       "      throw err;\n",
       "    }\n",
       "\n",
       "    function displayChart(vegaEmbed) {\n",
       "      vegaEmbed(outputDiv, spec, embedOpt)\n",
       "        .catch(err => showError(`Javascript Error: ${err.message}<br>This usually means there's a typo in your chart specification. See the javascript console for the full traceback.`));\n",
       "    }\n",
       "\n",
       "    if(typeof define === \"function\" && define.amd) {\n",
       "      requirejs.config({paths});\n",
       "      require([\"vega-embed\"], displayChart, err => showError(`Error loading script: ${err.message}`));\n",
       "    } else {\n",
       "      maybeLoadScript(\"vega\", \"5\")\n",
       "        .then(() => maybeLoadScript(\"vega-lite\", \"5.15.1\"))\n",
       "        .then(() => maybeLoadScript(\"vega-embed\", \"6\"))\n",
       "        .catch(showError)\n",
       "        .then(() => displayChart(vegaEmbed));\n",
       "    }\n",
       "  })({\"config\": {\"view\": {\"continuousWidth\": 300, \"continuousHeight\": 300}}, \"vconcat\": [{\"data\": {\"name\": \"data-9224c1b6d78aa3c441b5ec9e737a5b9a\"}, \"mark\": {\"type\": \"bar\", \"size\": 20}, \"encoding\": {\"color\": {\"field\": \"Product_Name\", \"type\": \"nominal\"}, \"tooltip\": [{\"field\": \"Product_Name\", \"type\": \"nominal\"}, {\"field\": \"value\", \"type\": \"quantitative\"}], \"x\": {\"field\": \"Order_Date\", \"scale\": {\"domain\": [\"May\", \"Jun\", \"Jul\", \"Aug\", \"Sep\", \"Oct\"]}, \"title\": \"Month\", \"type\": \"nominal\"}, \"y\": {\"field\": \"value\", \"title\": \"Number Ordered\", \"type\": \"quantitative\"}}, \"height\": 400, \"name\": \"view_4\", \"title\": {\"text\": \"Product Mix Each Month\", \"subtitle\": [\"Ramen\"]}, \"width\": 600}, {\"data\": {\"name\": \"data-9224c1b6d78aa3c441b5ec9e737a5b9a\"}, \"mark\": {\"type\": \"bar\", \"size\": 5}, \"encoding\": {\"x\": {\"field\": \"value\", \"title\": \"Number Ordered\", \"type\": \"quantitative\"}, \"y\": {\"field\": \"Product_Name\", \"title\": \"Product\", \"type\": \"nominal\"}}, \"height\": 200, \"title\": \"Totals for Each Product\", \"transform\": [{\"filter\": {\"param\": \"param_6\", \"empty\": false}}], \"width\": 600}], \"params\": [{\"name\": \"param_6\", \"select\": {\"type\": \"point\", \"fields\": [\"Order_Date\"]}, \"views\": [\"view_4\"]}], \"$schema\": \"https://vega.github.io/schema/vega-lite/v5.15.1.json\", \"datasets\": {\"data-9224c1b6d78aa3c441b5ec9e737a5b9a\": [{\"Order_Date\": \"May\", \"Product_Name\": \"Shoyu\", \"value\": 150.0}, {\"Order_Date\": \"Jun\", \"Product_Name\": \"Shoyu\", \"value\": 590.0}, {\"Order_Date\": \"Jul\", \"Product_Name\": \"Shoyu\", \"value\": 751.0}, {\"Order_Date\": \"Aug\", \"Product_Name\": \"Shoyu\", \"value\": 513.0}, {\"Order_Date\": \"Sep\", \"Product_Name\": \"Shoyu\", \"value\": 471.0}, {\"Order_Date\": \"Oct\", \"Product_Name\": \"Shoyu\", \"value\": 589.0}, {\"Order_Date\": \"May\", \"Product_Name\": \"Spicy\", \"value\": 128.0}, {\"Order_Date\": \"Jun\", \"Product_Name\": \"Spicy\", \"value\": 419.0}, {\"Order_Date\": \"Jul\", \"Product_Name\": \"Spicy\", \"value\": 644.0}, {\"Order_Date\": \"Aug\", \"Product_Name\": \"Spicy\", \"value\": 562.0}, {\"Order_Date\": \"Sep\", \"Product_Name\": \"Spicy\", \"value\": 418.0}, {\"Order_Date\": \"Oct\", \"Product_Name\": \"Spicy\", \"value\": 585.0}, {\"Order_Date\": \"May\", \"Product_Name\": \"Classic Shoyu\", \"value\": 0.0}, {\"Order_Date\": \"Jun\", \"Product_Name\": \"Classic Shoyu\", \"value\": 0.0}, {\"Order_Date\": \"Jul\", \"Product_Name\": \"Classic Shoyu\", \"value\": 0.0}, {\"Order_Date\": \"Aug\", \"Product_Name\": \"Classic Shoyu\", \"value\": 1201.0}, {\"Order_Date\": \"Sep\", \"Product_Name\": \"Classic Shoyu\", \"value\": 346.0}, {\"Order_Date\": \"Oct\", \"Product_Name\": \"Classic Shoyu\", \"value\": 389.0}, {\"Order_Date\": \"May\", \"Product_Name\": \"Jiro\", \"value\": 97.0}, {\"Order_Date\": \"Jun\", \"Product_Name\": \"Jiro\", \"value\": 390.0}, {\"Order_Date\": \"Jul\", \"Product_Name\": \"Jiro\", \"value\": 439.0}, {\"Order_Date\": \"Aug\", \"Product_Name\": \"Jiro\", \"value\": 414.0}, {\"Order_Date\": \"Sep\", \"Product_Name\": \"Jiro\", \"value\": 364.0}, {\"Order_Date\": \"Oct\", \"Product_Name\": \"Jiro\", \"value\": 411.0}, {\"Order_Date\": \"May\", \"Product_Name\": \"Shoyu Jr\", \"value\": 0.0}, {\"Order_Date\": \"Jun\", \"Product_Name\": \"Shoyu Jr\", \"value\": 0.0}, {\"Order_Date\": \"Jul\", \"Product_Name\": \"Shoyu Jr\", \"value\": 40.0}, {\"Order_Date\": \"Aug\", \"Product_Name\": \"Shoyu Jr\", \"value\": 61.0}, {\"Order_Date\": \"Sep\", \"Product_Name\": \"Shoyu Jr\", \"value\": 64.0}, {\"Order_Date\": \"Oct\", \"Product_Name\": \"Shoyu Jr\", \"value\": 62.0}]}}, {\"mode\": \"vega-lite\"});\n",
       "</script>"
      ],
      "text/plain": [
       "alt.VConcatChart(...)"
      ]
     },
     "execution_count": 81,
     "metadata": {},
     "output_type": "execute_result"
    }
   ],
   "source": [
    "interval = alt.selection_point(fields=['Order_Date'], empty=False)\n",
    "\n",
    "product_mix = alt.Chart(months.reset_index().melt('Order_Date'),title=alt.Title('Product Mix Each Month',subtitle=['Ramen'])).mark_bar(size=20).encode(\n",
    "    alt.X('Order_Date').scale(domain=('May', 'Jun', 'Jul', 'Aug', 'Sep', 'Oct')).title('Month'),\n",
    "    alt.Y('value').title('Number Ordered'),\n",
    "    color='Product_Name',\n",
    "    tooltip=['Product_Name', 'value']\n",
    ").add_params(\n",
    "    interval\n",
    ").properties(width=600, \n",
    "             height=400)\n",
    "\n",
    "each_product = alt.Chart(months.reset_index().melt('Order_Date')).mark_bar(size=5).encode(\n",
    "    alt.Y('Product_Name').title('Product'),\n",
    "    alt.X('value').title('Number Ordered')\n",
    ").properties(\n",
    "    width=600,\n",
    "    height=200,\n",
    "    title='Totals for Each Product'\n",
    ").transform_filter(\n",
    "    interval\n",
    ")\n",
    "\n",
    "product_mix & each_product"
   ]
  },
  {
   "cell_type": "code",
   "execution_count": 82,
   "id": "170a5716",
   "metadata": {},
   "outputs": [
    {
     "data": {
      "application/vnd.plotly.v1+json": {
       "config": {
        "plotlyServerURL": "https://plot.ly"
       },
       "data": [
        {
         "customdata": [
          [
           3064
          ],
          [
           2756
          ],
          [
           1936
          ],
          [
           2115
          ],
          [
           227
          ]
         ],
         "domain": {
          "x": [
           0,
           1
          ],
          "y": [
           0,
           1
          ]
         },
         "hovertemplate": "Product =%{label}<br>Total amount sold =%{customdata[0]}<extra></extra>",
         "labels": [
          "Shoyu",
          "Spicy",
          "Classic Shoyu",
          "Jiro",
          "Shoyu Jr"
         ],
         "legendgroup": "",
         "name": "",
         "showlegend": true,
         "textinfo": "percent+label",
         "textposition": "inside",
         "type": "pie",
         "values": [
          3064,
          2756,
          1936,
          2115,
          227
         ]
        }
       ],
       "layout": {
        "legend": {
         "tracegroupgap": 0
        },
        "template": {
         "data": {
          "bar": [
           {
            "error_x": {
             "color": "#2a3f5f"
            },
            "error_y": {
             "color": "#2a3f5f"
            },
            "marker": {
             "line": {
              "color": "#E5ECF6",
              "width": 0.5
             },
             "pattern": {
              "fillmode": "overlay",
              "size": 10,
              "solidity": 0.2
             }
            },
            "type": "bar"
           }
          ],
          "barpolar": [
           {
            "marker": {
             "line": {
              "color": "#E5ECF6",
              "width": 0.5
             },
             "pattern": {
              "fillmode": "overlay",
              "size": 10,
              "solidity": 0.2
             }
            },
            "type": "barpolar"
           }
          ],
          "carpet": [
           {
            "aaxis": {
             "endlinecolor": "#2a3f5f",
             "gridcolor": "white",
             "linecolor": "white",
             "minorgridcolor": "white",
             "startlinecolor": "#2a3f5f"
            },
            "baxis": {
             "endlinecolor": "#2a3f5f",
             "gridcolor": "white",
             "linecolor": "white",
             "minorgridcolor": "white",
             "startlinecolor": "#2a3f5f"
            },
            "type": "carpet"
           }
          ],
          "choropleth": [
           {
            "colorbar": {
             "outlinewidth": 0,
             "ticks": ""
            },
            "type": "choropleth"
           }
          ],
          "contour": [
           {
            "colorbar": {
             "outlinewidth": 0,
             "ticks": ""
            },
            "colorscale": [
             [
              0,
              "#0d0887"
             ],
             [
              0.1111111111111111,
              "#46039f"
             ],
             [
              0.2222222222222222,
              "#7201a8"
             ],
             [
              0.3333333333333333,
              "#9c179e"
             ],
             [
              0.4444444444444444,
              "#bd3786"
             ],
             [
              0.5555555555555556,
              "#d8576b"
             ],
             [
              0.6666666666666666,
              "#ed7953"
             ],
             [
              0.7777777777777778,
              "#fb9f3a"
             ],
             [
              0.8888888888888888,
              "#fdca26"
             ],
             [
              1,
              "#f0f921"
             ]
            ],
            "type": "contour"
           }
          ],
          "contourcarpet": [
           {
            "colorbar": {
             "outlinewidth": 0,
             "ticks": ""
            },
            "type": "contourcarpet"
           }
          ],
          "heatmap": [
           {
            "colorbar": {
             "outlinewidth": 0,
             "ticks": ""
            },
            "colorscale": [
             [
              0,
              "#0d0887"
             ],
             [
              0.1111111111111111,
              "#46039f"
             ],
             [
              0.2222222222222222,
              "#7201a8"
             ],
             [
              0.3333333333333333,
              "#9c179e"
             ],
             [
              0.4444444444444444,
              "#bd3786"
             ],
             [
              0.5555555555555556,
              "#d8576b"
             ],
             [
              0.6666666666666666,
              "#ed7953"
             ],
             [
              0.7777777777777778,
              "#fb9f3a"
             ],
             [
              0.8888888888888888,
              "#fdca26"
             ],
             [
              1,
              "#f0f921"
             ]
            ],
            "type": "heatmap"
           }
          ],
          "heatmapgl": [
           {
            "colorbar": {
             "outlinewidth": 0,
             "ticks": ""
            },
            "colorscale": [
             [
              0,
              "#0d0887"
             ],
             [
              0.1111111111111111,
              "#46039f"
             ],
             [
              0.2222222222222222,
              "#7201a8"
             ],
             [
              0.3333333333333333,
              "#9c179e"
             ],
             [
              0.4444444444444444,
              "#bd3786"
             ],
             [
              0.5555555555555556,
              "#d8576b"
             ],
             [
              0.6666666666666666,
              "#ed7953"
             ],
             [
              0.7777777777777778,
              "#fb9f3a"
             ],
             [
              0.8888888888888888,
              "#fdca26"
             ],
             [
              1,
              "#f0f921"
             ]
            ],
            "type": "heatmapgl"
           }
          ],
          "histogram": [
           {
            "marker": {
             "pattern": {
              "fillmode": "overlay",
              "size": 10,
              "solidity": 0.2
             }
            },
            "type": "histogram"
           }
          ],
          "histogram2d": [
           {
            "colorbar": {
             "outlinewidth": 0,
             "ticks": ""
            },
            "colorscale": [
             [
              0,
              "#0d0887"
             ],
             [
              0.1111111111111111,
              "#46039f"
             ],
             [
              0.2222222222222222,
              "#7201a8"
             ],
             [
              0.3333333333333333,
              "#9c179e"
             ],
             [
              0.4444444444444444,
              "#bd3786"
             ],
             [
              0.5555555555555556,
              "#d8576b"
             ],
             [
              0.6666666666666666,
              "#ed7953"
             ],
             [
              0.7777777777777778,
              "#fb9f3a"
             ],
             [
              0.8888888888888888,
              "#fdca26"
             ],
             [
              1,
              "#f0f921"
             ]
            ],
            "type": "histogram2d"
           }
          ],
          "histogram2dcontour": [
           {
            "colorbar": {
             "outlinewidth": 0,
             "ticks": ""
            },
            "colorscale": [
             [
              0,
              "#0d0887"
             ],
             [
              0.1111111111111111,
              "#46039f"
             ],
             [
              0.2222222222222222,
              "#7201a8"
             ],
             [
              0.3333333333333333,
              "#9c179e"
             ],
             [
              0.4444444444444444,
              "#bd3786"
             ],
             [
              0.5555555555555556,
              "#d8576b"
             ],
             [
              0.6666666666666666,
              "#ed7953"
             ],
             [
              0.7777777777777778,
              "#fb9f3a"
             ],
             [
              0.8888888888888888,
              "#fdca26"
             ],
             [
              1,
              "#f0f921"
             ]
            ],
            "type": "histogram2dcontour"
           }
          ],
          "mesh3d": [
           {
            "colorbar": {
             "outlinewidth": 0,
             "ticks": ""
            },
            "type": "mesh3d"
           }
          ],
          "parcoords": [
           {
            "line": {
             "colorbar": {
              "outlinewidth": 0,
              "ticks": ""
             }
            },
            "type": "parcoords"
           }
          ],
          "pie": [
           {
            "automargin": true,
            "type": "pie"
           }
          ],
          "scatter": [
           {
            "fillpattern": {
             "fillmode": "overlay",
             "size": 10,
             "solidity": 0.2
            },
            "type": "scatter"
           }
          ],
          "scatter3d": [
           {
            "line": {
             "colorbar": {
              "outlinewidth": 0,
              "ticks": ""
             }
            },
            "marker": {
             "colorbar": {
              "outlinewidth": 0,
              "ticks": ""
             }
            },
            "type": "scatter3d"
           }
          ],
          "scattercarpet": [
           {
            "marker": {
             "colorbar": {
              "outlinewidth": 0,
              "ticks": ""
             }
            },
            "type": "scattercarpet"
           }
          ],
          "scattergeo": [
           {
            "marker": {
             "colorbar": {
              "outlinewidth": 0,
              "ticks": ""
             }
            },
            "type": "scattergeo"
           }
          ],
          "scattergl": [
           {
            "marker": {
             "colorbar": {
              "outlinewidth": 0,
              "ticks": ""
             }
            },
            "type": "scattergl"
           }
          ],
          "scattermapbox": [
           {
            "marker": {
             "colorbar": {
              "outlinewidth": 0,
              "ticks": ""
             }
            },
            "type": "scattermapbox"
           }
          ],
          "scatterpolar": [
           {
            "marker": {
             "colorbar": {
              "outlinewidth": 0,
              "ticks": ""
             }
            },
            "type": "scatterpolar"
           }
          ],
          "scatterpolargl": [
           {
            "marker": {
             "colorbar": {
              "outlinewidth": 0,
              "ticks": ""
             }
            },
            "type": "scatterpolargl"
           }
          ],
          "scatterternary": [
           {
            "marker": {
             "colorbar": {
              "outlinewidth": 0,
              "ticks": ""
             }
            },
            "type": "scatterternary"
           }
          ],
          "surface": [
           {
            "colorbar": {
             "outlinewidth": 0,
             "ticks": ""
            },
            "colorscale": [
             [
              0,
              "#0d0887"
             ],
             [
              0.1111111111111111,
              "#46039f"
             ],
             [
              0.2222222222222222,
              "#7201a8"
             ],
             [
              0.3333333333333333,
              "#9c179e"
             ],
             [
              0.4444444444444444,
              "#bd3786"
             ],
             [
              0.5555555555555556,
              "#d8576b"
             ],
             [
              0.6666666666666666,
              "#ed7953"
             ],
             [
              0.7777777777777778,
              "#fb9f3a"
             ],
             [
              0.8888888888888888,
              "#fdca26"
             ],
             [
              1,
              "#f0f921"
             ]
            ],
            "type": "surface"
           }
          ],
          "table": [
           {
            "cells": {
             "fill": {
              "color": "#EBF0F8"
             },
             "line": {
              "color": "white"
             }
            },
            "header": {
             "fill": {
              "color": "#C8D4E3"
             },
             "line": {
              "color": "white"
             }
            },
            "type": "table"
           }
          ]
         },
         "layout": {
          "annotationdefaults": {
           "arrowcolor": "#2a3f5f",
           "arrowhead": 0,
           "arrowwidth": 1
          },
          "autotypenumbers": "strict",
          "coloraxis": {
           "colorbar": {
            "outlinewidth": 0,
            "ticks": ""
           }
          },
          "colorscale": {
           "diverging": [
            [
             0,
             "#8e0152"
            ],
            [
             0.1,
             "#c51b7d"
            ],
            [
             0.2,
             "#de77ae"
            ],
            [
             0.3,
             "#f1b6da"
            ],
            [
             0.4,
             "#fde0ef"
            ],
            [
             0.5,
             "#f7f7f7"
            ],
            [
             0.6,
             "#e6f5d0"
            ],
            [
             0.7,
             "#b8e186"
            ],
            [
             0.8,
             "#7fbc41"
            ],
            [
             0.9,
             "#4d9221"
            ],
            [
             1,
             "#276419"
            ]
           ],
           "sequential": [
            [
             0,
             "#0d0887"
            ],
            [
             0.1111111111111111,
             "#46039f"
            ],
            [
             0.2222222222222222,
             "#7201a8"
            ],
            [
             0.3333333333333333,
             "#9c179e"
            ],
            [
             0.4444444444444444,
             "#bd3786"
            ],
            [
             0.5555555555555556,
             "#d8576b"
            ],
            [
             0.6666666666666666,
             "#ed7953"
            ],
            [
             0.7777777777777778,
             "#fb9f3a"
            ],
            [
             0.8888888888888888,
             "#fdca26"
            ],
            [
             1,
             "#f0f921"
            ]
           ],
           "sequentialminus": [
            [
             0,
             "#0d0887"
            ],
            [
             0.1111111111111111,
             "#46039f"
            ],
            [
             0.2222222222222222,
             "#7201a8"
            ],
            [
             0.3333333333333333,
             "#9c179e"
            ],
            [
             0.4444444444444444,
             "#bd3786"
            ],
            [
             0.5555555555555556,
             "#d8576b"
            ],
            [
             0.6666666666666666,
             "#ed7953"
            ],
            [
             0.7777777777777778,
             "#fb9f3a"
            ],
            [
             0.8888888888888888,
             "#fdca26"
            ],
            [
             1,
             "#f0f921"
            ]
           ]
          },
          "colorway": [
           "#636efa",
           "#EF553B",
           "#00cc96",
           "#ab63fa",
           "#FFA15A",
           "#19d3f3",
           "#FF6692",
           "#B6E880",
           "#FF97FF",
           "#FECB52"
          ],
          "font": {
           "color": "#2a3f5f"
          },
          "geo": {
           "bgcolor": "white",
           "lakecolor": "white",
           "landcolor": "#E5ECF6",
           "showlakes": true,
           "showland": true,
           "subunitcolor": "white"
          },
          "hoverlabel": {
           "align": "left"
          },
          "hovermode": "closest",
          "mapbox": {
           "style": "light"
          },
          "paper_bgcolor": "white",
          "plot_bgcolor": "#E5ECF6",
          "polar": {
           "angularaxis": {
            "gridcolor": "white",
            "linecolor": "white",
            "ticks": ""
           },
           "bgcolor": "#E5ECF6",
           "radialaxis": {
            "gridcolor": "white",
            "linecolor": "white",
            "ticks": ""
           }
          },
          "scene": {
           "xaxis": {
            "backgroundcolor": "#E5ECF6",
            "gridcolor": "white",
            "gridwidth": 2,
            "linecolor": "white",
            "showbackground": true,
            "ticks": "",
            "zerolinecolor": "white"
           },
           "yaxis": {
            "backgroundcolor": "#E5ECF6",
            "gridcolor": "white",
            "gridwidth": 2,
            "linecolor": "white",
            "showbackground": true,
            "ticks": "",
            "zerolinecolor": "white"
           },
           "zaxis": {
            "backgroundcolor": "#E5ECF6",
            "gridcolor": "white",
            "gridwidth": 2,
            "linecolor": "white",
            "showbackground": true,
            "ticks": "",
            "zerolinecolor": "white"
           }
          },
          "shapedefaults": {
           "line": {
            "color": "#2a3f5f"
           }
          },
          "ternary": {
           "aaxis": {
            "gridcolor": "white",
            "linecolor": "white",
            "ticks": ""
           },
           "baxis": {
            "gridcolor": "white",
            "linecolor": "white",
            "ticks": ""
           },
           "bgcolor": "#E5ECF6",
           "caxis": {
            "gridcolor": "white",
            "linecolor": "white",
            "ticks": ""
           }
          },
          "title": {
           "x": 0.05
          },
          "xaxis": {
           "automargin": true,
           "gridcolor": "white",
           "linecolor": "white",
           "ticks": "",
           "title": {
            "standoff": 15
           },
           "zerolinecolor": "white",
           "zerolinewidth": 2
          },
          "yaxis": {
           "automargin": true,
           "gridcolor": "white",
           "linecolor": "white",
           "ticks": "",
           "title": {
            "standoff": 15
           },
           "zerolinecolor": "white",
           "zerolinewidth": 2
          }
         }
        },
        "title": {
         "text": "Total Ramen Sales"
        }
       }
      }
     },
     "metadata": {},
     "output_type": "display_data"
    }
   ],
   "source": [
    "total_ramens = months.cumsum()\n",
    "totals = total_ramens.loc[['Oct'], :]\n",
    "\n",
    "totals = totals.melt()\n",
    "\n",
    "fig = px.pie(totals, values='value', names='Product_Name', title='Total Ramen Sales', \n",
    "             hover_data='value', labels={'value': 'Total amount sold ', 'Product_Name': 'Product '})\n",
    "fig.update_traces(textposition='inside', textinfo='percent+label')\n",
    "fig.show()"
   ]
  },
  {
   "cell_type": "code",
   "execution_count": 90,
   "id": "56d98891",
   "metadata": {},
   "outputs": [
    {
     "data": {
      "text/html": [
       "<div>\n",
       "<style scoped>\n",
       "    .dataframe tbody tr th:only-of-type {\n",
       "        vertical-align: middle;\n",
       "    }\n",
       "\n",
       "    .dataframe tbody tr th {\n",
       "        vertical-align: top;\n",
       "    }\n",
       "\n",
       "    .dataframe thead th {\n",
       "        text-align: right;\n",
       "    }\n",
       "</style>\n",
       "<table border=\"1\" class=\"dataframe\">\n",
       "  <thead>\n",
       "    <tr style=\"text-align: right;\">\n",
       "      <th></th>\n",
       "      <th>Product_Name</th>\n",
       "      <th>value</th>\n",
       "    </tr>\n",
       "  </thead>\n",
       "  <tbody>\n",
       "    <tr>\n",
       "      <th>0</th>\n",
       "      <td>Shoyu</td>\n",
       "      <td>3064.0</td>\n",
       "    </tr>\n",
       "    <tr>\n",
       "      <th>1</th>\n",
       "      <td>Spicy</td>\n",
       "      <td>2756.0</td>\n",
       "    </tr>\n",
       "    <tr>\n",
       "      <th>2</th>\n",
       "      <td>Classic Shoyu</td>\n",
       "      <td>1936.0</td>\n",
       "    </tr>\n",
       "    <tr>\n",
       "      <th>3</th>\n",
       "      <td>Jiro</td>\n",
       "      <td>2115.0</td>\n",
       "    </tr>\n",
       "    <tr>\n",
       "      <th>4</th>\n",
       "      <td>Shoyu Jr</td>\n",
       "      <td>227.0</td>\n",
       "    </tr>\n",
       "  </tbody>\n",
       "</table>\n",
       "</div>"
      ],
      "text/plain": [
       "    Product_Name   value\n",
       "0          Shoyu  3064.0\n",
       "1          Spicy  2756.0\n",
       "2  Classic Shoyu  1936.0\n",
       "3           Jiro  2115.0\n",
       "4       Shoyu Jr   227.0"
      ]
     },
     "execution_count": 90,
     "metadata": {},
     "output_type": "execute_result"
    }
   ],
   "source": [
    "totals"
   ]
  },
  {
   "cell_type": "code",
   "execution_count": 97,
   "id": "181db276",
   "metadata": {},
   "outputs": [],
   "source": [
    "products.drop(columns='Order_Number', inplace=True)"
   ]
  },
  {
   "cell_type": "code",
   "execution_count": 105,
   "id": "b540fcd5",
   "metadata": {},
   "outputs": [
    {
     "name": "stderr",
     "output_type": "stream",
     "text": [
      "/var/folders/2l/5z_t54nn2mgcnb_rlc4qxcr40000gn/T/ipykernel_792/2557095157.py:1: FutureWarning:\n",
      "\n",
      "The default of observed=False is deprecated and will be changed to True in a future version of pandas. Pass observed=False to retain current behavior or observed=True to adopt the future default and silence this warning.\n",
      "\n"
     ]
    },
    {
     "data": {
      "text/html": [
       "<div>\n",
       "<style scoped>\n",
       "    .dataframe tbody tr th:only-of-type {\n",
       "        vertical-align: middle;\n",
       "    }\n",
       "\n",
       "    .dataframe tbody tr th {\n",
       "        vertical-align: top;\n",
       "    }\n",
       "\n",
       "    .dataframe thead th {\n",
       "        text-align: right;\n",
       "    }\n",
       "</style>\n",
       "<table border=\"1\" class=\"dataframe\">\n",
       "  <thead>\n",
       "    <tr style=\"text-align: right;\">\n",
       "      <th></th>\n",
       "      <th>Product_Name</th>\n",
       "      <th>Product_Quantity</th>\n",
       "    </tr>\n",
       "  </thead>\n",
       "  <tbody>\n",
       "    <tr>\n",
       "      <th>0</th>\n",
       "      <td>(V) Shoyu</td>\n",
       "      <td>2</td>\n",
       "    </tr>\n",
       "    <tr>\n",
       "      <th>1</th>\n",
       "      <td>1/2 Kaedama - Classic Noodz</td>\n",
       "      <td>14</td>\n",
       "    </tr>\n",
       "    <tr>\n",
       "      <th>2</th>\n",
       "      <td>1/2 Kaedama - Flat Noodz</td>\n",
       "      <td>6</td>\n",
       "    </tr>\n",
       "    <tr>\n",
       "      <th>3</th>\n",
       "      <td>1/2 Kaedama - Reg</td>\n",
       "      <td>3</td>\n",
       "    </tr>\n",
       "    <tr>\n",
       "      <th>4</th>\n",
       "      <td>1/2 Kaedama - Thin Noodz</td>\n",
       "      <td>25</td>\n",
       "    </tr>\n",
       "    <tr>\n",
       "      <th>...</th>\n",
       "      <td>...</td>\n",
       "      <td>...</td>\n",
       "    </tr>\n",
       "    <tr>\n",
       "      <th>264</th>\n",
       "      <td>summah time</td>\n",
       "      <td>1</td>\n",
       "    </tr>\n",
       "    <tr>\n",
       "      <th>265</th>\n",
       "      <td>super xtra hot</td>\n",
       "      <td>1</td>\n",
       "    </tr>\n",
       "    <tr>\n",
       "      <th>266</th>\n",
       "      <td>test</td>\n",
       "      <td>3</td>\n",
       "    </tr>\n",
       "    <tr>\n",
       "      <th>267</th>\n",
       "      <td>vodk soda</td>\n",
       "      <td>1</td>\n",
       "    </tr>\n",
       "    <tr>\n",
       "      <th>268</th>\n",
       "      <td>vodka soda</td>\n",
       "      <td>1</td>\n",
       "    </tr>\n",
       "  </tbody>\n",
       "</table>\n",
       "<p>269 rows × 2 columns</p>\n",
       "</div>"
      ],
      "text/plain": [
       "                    Product_Name  Product_Quantity\n",
       "0                      (V) Shoyu                 2\n",
       "1    1/2 Kaedama - Classic Noodz                14\n",
       "2       1/2 Kaedama - Flat Noodz                 6\n",
       "3              1/2 Kaedama - Reg                 3\n",
       "4       1/2 Kaedama - Thin Noodz                25\n",
       "..                           ...               ...\n",
       "264                  summah time                 1\n",
       "265               super xtra hot                 1\n",
       "266                         test                 3\n",
       "267                    vodk soda                 1\n",
       "268                   vodka soda                 1\n",
       "\n",
       "[269 rows x 2 columns]"
      ]
     },
     "execution_count": 105,
     "metadata": {},
     "output_type": "execute_result"
    }
   ],
   "source": [
    "products = products.groupby('Product_Name').sum().reset_index()\n",
    "products"
   ]
  },
  {
   "cell_type": "code",
   "execution_count": 106,
   "id": "4ab887ba",
   "metadata": {},
   "outputs": [
    {
     "data": {
      "application/vnd.plotly.v1+json": {
       "config": {
        "plotlyServerURL": "https://plot.ly"
       },
       "data": [
        {
         "customdata": [
          [
           2
          ],
          [
           14
          ],
          [
           6
          ],
          [
           3
          ],
          [
           25
          ],
          [
           1
          ],
          [
           1
          ],
          [
           445
          ],
          [
           276
          ],
          [
           256
          ],
          [
           1
          ],
          [
           1
          ],
          [
           1
          ],
          [
           91
          ],
          [
           5
          ],
          [
           77
          ],
          [
           6
          ],
          [
           1
          ],
          [
           11
          ],
          [
           13
          ],
          [
           8
          ],
          [
           3
          ],
          [
           149
          ],
          [
           27
          ],
          [
           3
          ],
          [
           4
          ],
          [
           24
          ],
          [
           2
          ],
          [
           1
          ],
          [
           1
          ],
          [
           12
          ],
          [
           1
          ],
          [
           8
          ],
          [
           12
          ],
          [
           2170
          ],
          [
           49
          ],
          [
           420
          ],
          [
           274
          ],
          [
           29
          ],
          [
           19
          ],
          [
           23
          ],
          [
           8
          ],
          [
           18
          ],
          [
           48
          ],
          [
           16
          ],
          [
           7
          ],
          [
           1
          ],
          [
           3
          ],
          [
           1
          ],
          [
           8
          ],
          [
           12
          ],
          [
           6
          ],
          [
           237
          ],
          [
           1
          ],
          [
           238
          ],
          [
           15
          ],
          [
           7
          ],
          [
           1
          ],
          [
           19
          ],
          [
           777
          ],
          [
           75
          ],
          [
           9
          ],
          [
           8
          ],
          [
           12
          ],
          [
           6
          ],
          [
           4
          ],
          [
           2
          ],
          [
           3
          ],
          [
           45
          ],
          [
           1
          ],
          [
           126
          ],
          [
           10
          ],
          [
           33
          ],
          [
           25
          ],
          [
           4
          ],
          [
           2
          ],
          [
           16
          ],
          [
           1
          ],
          [
           1
          ],
          [
           51
          ],
          [
           5
          ],
          [
           5
          ],
          [
           23
          ],
          [
           144
          ],
          [
           82
          ],
          [
           1
          ],
          [
           8
          ],
          [
           4
          ],
          [
           128
          ],
          [
           1
          ],
          [
           169
          ],
          [
           58
          ],
          [
           2
          ],
          [
           2378
          ],
          [
           56
          ],
          [
           2
          ],
          [
           13
          ],
          [
           18
          ],
          [
           22
          ],
          [
           27
          ],
          [
           298
          ],
          [
           2
          ],
          [
           1
          ],
          [
           2
          ],
          [
           26
          ],
          [
           7
          ],
          [
           1
          ],
          [
           30
          ],
          [
           452
          ],
          [
           52
          ],
          [
           25
          ],
          [
           1
          ],
          [
           144
          ],
          [
           51
          ],
          [
           6
          ],
          [
           4
          ],
          [
           4
          ],
          [
           3
          ],
          [
           2
          ],
          [
           12
          ],
          [
           23
          ],
          [
           12
          ],
          [
           5
          ],
          [
           24
          ],
          [
           35
          ],
          [
           3
          ],
          [
           3
          ],
          [
           3
          ],
          [
           3
          ],
          [
           2
          ],
          [
           18
          ],
          [
           1
          ],
          [
           1
          ],
          [
           7
          ],
          [
           9
          ],
          [
           7
          ],
          [
           14
          ],
          [
           2
          ],
          [
           8
          ],
          [
           11
          ],
          [
           1
          ],
          [
           6
          ],
          [
           3
          ],
          [
           110
          ],
          [
           24
          ],
          [
           947
          ],
          [
           21
          ],
          [
           1
          ],
          [
           90
          ],
          [
           132
          ],
          [
           6
          ],
          [
           1
          ],
          [
           2
          ],
          [
           2
          ],
          [
           1
          ],
          [
           1066
          ],
          [
           4
          ],
          [
           13
          ],
          [
           6
          ],
          [
           3
          ],
          [
           1
          ],
          [
           480
          ],
          [
           8
          ],
          [
           14
          ],
          [
           1
          ],
          [
           3412
          ],
          [
           247
          ],
          [
           375
          ],
          [
           37
          ],
          [
           10
          ],
          [
           12
          ],
          [
           255
          ],
          [
           311
          ],
          [
           60
          ],
          [
           30
          ],
          [
           7
          ],
          [
           4
          ],
          [
           13
          ],
          [
           1
          ],
          [
           19
          ],
          [
           17
          ],
          [
           7
          ],
          [
           5
          ],
          [
           27
          ],
          [
           3150
          ],
          [
           10
          ],
          [
           57
          ],
          [
           293
          ],
          [
           7
          ],
          [
           4
          ],
          [
           11
          ],
          [
           6
          ],
          [
           3
          ],
          [
           176
          ],
          [
           53
          ],
          [
           1
          ],
          [
           666
          ],
          [
           6
          ],
          [
           3
          ],
          [
           6
          ],
          [
           10
          ],
          [
           66
          ],
          [
           11
          ],
          [
           1
          ],
          [
           1
          ],
          [
           29
          ],
          [
           50
          ],
          [
           3
          ],
          [
           10
          ],
          [
           4
          ],
          [
           1
          ],
          [
           20
          ],
          [
           67
          ],
          [
           2
          ],
          [
           3
          ],
          [
           9
          ],
          [
           243
          ],
          [
           30
          ],
          [
           74
          ],
          [
           6
          ],
          [
           9
          ],
          [
           9
          ],
          [
           4
          ],
          [
           5
          ],
          [
           4
          ],
          [
           73
          ],
          [
           1
          ],
          [
           3
          ],
          [
           5
          ],
          [
           1
          ],
          [
           1
          ],
          [
           2
          ],
          [
           2
          ],
          [
           2
          ],
          [
           2
          ],
          [
           1
          ],
          [
           1
          ],
          [
           1
          ],
          [
           1
          ],
          [
           3
          ],
          [
           4
          ],
          [
           1
          ],
          [
           1
          ],
          [
           1
          ],
          [
           4
          ],
          [
           1
          ],
          [
           1
          ],
          [
           1
          ],
          [
           2
          ],
          [
           1
          ],
          [
           1
          ],
          [
           1
          ],
          [
           1
          ],
          [
           9
          ],
          [
           1
          ],
          [
           1
          ],
          [
           1
          ],
          [
           1
          ],
          [
           5
          ],
          [
           1
          ],
          [
           1
          ],
          [
           1
          ],
          [
           1
          ],
          [
           4
          ],
          [
           1
          ],
          [
           1
          ],
          [
           3
          ],
          [
           1
          ],
          [
           1
          ]
         ],
         "domain": {
          "x": [
           0,
           1
          ],
          "y": [
           0,
           1
          ]
         },
         "hovertemplate": "Product =%{label}<br>Total amount sold =%{customdata[0]}<extra></extra>",
         "labels": [
          "(V) Shoyu",
          "1/2 Kaedama - Classic Noodz",
          "1/2 Kaedama - Flat Noodz",
          "1/2 Kaedama - Reg",
          "1/2 Kaedama - Thin Noodz",
          "10 Indomitable Chicken Wing ICW",
          "2 dollar beers",
          "3 Wings",
          "3 pc Wings",
          "6 Wings",
          "6 pc wings",
          "6 pc wingso",
          "AO",
          "Abura Pork",
          "Achilles",
          "Aji",
          "Akashi Eigashima",
          "Akashi Single Malt",
          "Akashi Ume",
          "BS & C Mix",
          "Beni Shoga",
          "Blaze Powder",
          "Bomb",
          "Bomb & La-yu",
          "Bottled Water",
          "Bread Pudding",
          "Breast",
          "Butter",
          "CUSTOM Flight",
          "Cabbage & Red Onion Mix",
          "Chenin Blanc BTG",
          "Chenin Blanc Bottle",
          "Cherry Limeade",
          "Chicken Shoyu",
          "Classic Shoyu",
          "Coconut Mojito",
          "Coke",
          "Coors",
          "Coors Light",
          "Corn",
          "Cup - Daruma",
          "Cup - Kirinzan",
          "Cup - Old Mountain",
          "Cup - Pure Grain",
          "Cup Sake (\"Otokoyama\")",
          "D's Way",
          "DR Pepper",
          "Daiboku Family",
          "Daruma Cup Sake (180ml)",
          "Demon Slayer (300ml)",
          "Dewazakura (Sparkling) BTG",
          "Dewazakura Sparkling",
          "Diet Coke",
          "Dollar beer",
          "Dr Pepper",
          "Drink of the Day",
          "Echigo Sekkobai (300ml)",
          "Echigo Sekkobai (720ml)",
          "Echigo Sekkobai BTG",
          "Edamame",
          "Electric Jellyfish",
          "Extra Chicken",
          "Extra Pork - Thick",
          "Extra Pork - Thin",
          "Extra Seared King Trumpets",
          "Ezra Don",
          "Favorites Flight",
          "Fernet Branca",
          "Finca Costanillas BTG",
          "Finca Costanillas BTL",
          "For The Love Of Ramen",
          "Fresh Garlic",
          "Fries",
          "Full Kaedama - Classic Noodz",
          "Full Kaedama - Flat Noodz",
          "Full Kaedama - Reg",
          "Full Kaedama - Thin Noodz",
          "GIft Card",
          "Habanero (6pc)",
          "Haku Kandy",
          "Haku Vodka",
          "Heather's Special",
          "Hitachino (Dai Dai)",
          "Hitachino (White Ale)",
          "Hitachino (Yuzu Lager)",
          "Hop Sparkling Water",
          "House Sourdough",
          "Inner Thigh",
          "Ito En Green Tea",
          "Ito En Jasmine",
          "Ito En Jasmine Tea",
          "Ivan's Shio",
          "Jell-O Shot",
          "Jiro",
          "Jungle Juice",
          "Kaedama (Full Portion)",
          "Kappa Kyuri",
          "Karaage",
          "Katsu Sando",
          "Killa",
          "Kirin",
          "Kirin Bottle",
          "Kosho",
          "LOVE",
          "La-yu",
          "Lemon Drop Shot",
          "Lemon and Corn Granita",
          "Lolacita",
          "Lone Star",
          "Long Meadow Ranch BTG",
          "Long Meadow Ranch BTL",
          "MOCKTAIL",
          "Ma-yu",
          "Margarita",
          "Mars Iwai",
          "Mars Iwai 45",
          "Mars Iwai Traditions",
          "Masumi BTG",
          "Masumi BTL",
          "Matcha Dessertini",
          "Mazeman",
          "Meatball",
          "Mezcal Margarita",
          "Mixed Greens",
          "Mojito",
          "Mushroom Duxelle",
          "Naeba San (300ml)",
          "Naeba San (720ml)",
          "Naeba San BTG",
          "Naruto",
          "Neon HIghball",
          "Nigori Takara",
          "Nikka Barrel",
          "Nikka Coffey Grain",
          "Nikka Coffey Malt",
          "Nikka Days",
          "Nikka From the Barrel",
          "Nikka Miyagikyo",
          "Nori",
          "Old-Fashioned +",
          "Open Table",
          "Orange Blossom",
          "Oysters",
          "Paitan",
          "Penicillin",
          "Pickles",
          "Pinku Drinku",
          "Pork Fat",
          "Rambler",
          "Ramune",
          "Rib Meat",
          "Roku Gin",
          "Roku Mango Fizz",
          "Rum & Cola",
          "SC Sake",
          "Sake Bomb",
          "Sake Flight",
          "Sake Pairing",
          "Sake Spritz",
          "Salmon Shoyu",
          "Saporro",
          "Sapporo",
          "Scallions",
          "Shio",
          "Shirley Temple",
          "Shoyu",
          "Shoyu Jr",
          "Side of rice",
          "Side of rice (plain)",
          "Smoked + Fried Pork Belly",
          "Smoked Karage",
          "Smoked Old-Fashioned",
          "Smooth Operator",
          "Smooth Operator Special",
          "Snow Maiden (300ml)",
          "Snow Maiden (720ml)",
          "Soda",
          "Soto Vino BTG",
          "Soto Vino BTL",
          "Soup De Sol",
          "Soup de Sol",
          "Soup's Way",
          "Sourdough Bread Pudding",
          "Spa Sipper",
          "Spicy",
          "Spicy Miso",
          "Spicy Shoyu Killa",
          "Sprite",
          "Suntory AO World",
          "Suntory Hibiki Harmony",
          "Suntory Toki",
          "Suntory Yamazaki 12YR",
          "Suntory Yamazaki 12YR Anniversary",
          "TO-GO",
          "Takara SCB",
          "Takara SCB (300ml)",
          "Tare Don",
          "Teitessa 15YR",
          "Teitessa 25YR",
          "Teitessa 30YR",
          "Tendies",
          "Texas Sake",
          "Thigh",
          "Tobiruku",
          "Toki Hi-Ball",
          "Toki Highball",
          "Tomu Collins",
          "Umami-tini",
          "Vodka Lemonada",
          "Vodka Soda",
          "Wakatake \"Demon Slayer\" 300ml",
          "Walkin' Ramen (spicy ver.)",
          "Water Bottle",
          "White Ale",
          "Wings",
          "Wings (10 pc)",
          "Wings (3 pc)",
          "Wings (5 pc)",
          "Wings (6 pc)",
          "Xtra Broth - Classic",
          "Xtra Broth - Jiro",
          "Xtra Broth - Shoyu",
          "Xtra Broth - Spicy",
          "Xtra Chicken Skin Furikake",
          "Xtra House Furikake",
          "Yuengling",
          "Yuzu Lager",
          "a",
          "aji",
          "ajitama",
          "blaze powder x2",
          "chicken skin furikake",
          "chubuto",
          "chx furi",
          "corn",
          "cucumber",
          "drink",
          "echigo",
          "edamame",
          "fernet",
          "futomen",
          "haju",
          "junk",
          "kappa",
          "kirin",
          "love",
          "mala",
          "mezcal soda",
          "mocktail",
          "omakase",
          "pink drink",
          "pork",
          "salmon shoyu",
          "sapporo",
          "siup de sol",
          "smooth",
          "snow maiden",
          "so",
          "soup de sol",
          "special",
          "spicy",
          "spicy on edamame",
          "sub flat noodle",
          "summah",
          "summah time",
          "super xtra hot",
          "test",
          "vodk soda",
          "vodka soda"
         ],
         "legendgroup": "",
         "name": "",
         "showlegend": true,
         "textinfo": "percent+label",
         "textposition": "inside",
         "type": "pie",
         "values": [
          2,
          14,
          6,
          3,
          25,
          1,
          1,
          445,
          276,
          256,
          1,
          1,
          1,
          91,
          5,
          77,
          6,
          1,
          11,
          13,
          8,
          3,
          149,
          27,
          3,
          4,
          24,
          2,
          1,
          1,
          12,
          1,
          8,
          12,
          2170,
          49,
          420,
          274,
          29,
          19,
          23,
          8,
          18,
          48,
          16,
          7,
          1,
          3,
          1,
          8,
          12,
          6,
          237,
          1,
          238,
          15,
          7,
          1,
          19,
          777,
          75,
          9,
          8,
          12,
          6,
          4,
          2,
          3,
          45,
          1,
          126,
          10,
          33,
          25,
          4,
          2,
          16,
          1,
          1,
          51,
          5,
          5,
          23,
          144,
          82,
          1,
          8,
          4,
          128,
          1,
          169,
          58,
          2,
          2378,
          56,
          2,
          13,
          18,
          22,
          27,
          298,
          2,
          1,
          2,
          26,
          7,
          1,
          30,
          452,
          52,
          25,
          1,
          144,
          51,
          6,
          4,
          4,
          3,
          2,
          12,
          23,
          12,
          5,
          24,
          35,
          3,
          3,
          3,
          3,
          2,
          18,
          1,
          1,
          7,
          9,
          7,
          14,
          2,
          8,
          11,
          1,
          6,
          3,
          110,
          24,
          947,
          21,
          1,
          90,
          132,
          6,
          1,
          2,
          2,
          1,
          1066,
          4,
          13,
          6,
          3,
          1,
          480,
          8,
          14,
          1,
          3412,
          247,
          375,
          37,
          10,
          12,
          255,
          311,
          60,
          30,
          7,
          4,
          13,
          1,
          19,
          17,
          7,
          5,
          27,
          3150,
          10,
          57,
          293,
          7,
          4,
          11,
          6,
          3,
          176,
          53,
          1,
          666,
          6,
          3,
          6,
          10,
          66,
          11,
          1,
          1,
          29,
          50,
          3,
          10,
          4,
          1,
          20,
          67,
          2,
          3,
          9,
          243,
          30,
          74,
          6,
          9,
          9,
          4,
          5,
          4,
          73,
          1,
          3,
          5,
          1,
          1,
          2,
          2,
          2,
          2,
          1,
          1,
          1,
          1,
          3,
          4,
          1,
          1,
          1,
          4,
          1,
          1,
          1,
          2,
          1,
          1,
          1,
          1,
          9,
          1,
          1,
          1,
          1,
          5,
          1,
          1,
          1,
          1,
          4,
          1,
          1,
          3,
          1,
          1
         ]
        }
       ],
       "layout": {
        "legend": {
         "tracegroupgap": 0
        },
        "template": {
         "data": {
          "bar": [
           {
            "error_x": {
             "color": "#2a3f5f"
            },
            "error_y": {
             "color": "#2a3f5f"
            },
            "marker": {
             "line": {
              "color": "#E5ECF6",
              "width": 0.5
             },
             "pattern": {
              "fillmode": "overlay",
              "size": 10,
              "solidity": 0.2
             }
            },
            "type": "bar"
           }
          ],
          "barpolar": [
           {
            "marker": {
             "line": {
              "color": "#E5ECF6",
              "width": 0.5
             },
             "pattern": {
              "fillmode": "overlay",
              "size": 10,
              "solidity": 0.2
             }
            },
            "type": "barpolar"
           }
          ],
          "carpet": [
           {
            "aaxis": {
             "endlinecolor": "#2a3f5f",
             "gridcolor": "white",
             "linecolor": "white",
             "minorgridcolor": "white",
             "startlinecolor": "#2a3f5f"
            },
            "baxis": {
             "endlinecolor": "#2a3f5f",
             "gridcolor": "white",
             "linecolor": "white",
             "minorgridcolor": "white",
             "startlinecolor": "#2a3f5f"
            },
            "type": "carpet"
           }
          ],
          "choropleth": [
           {
            "colorbar": {
             "outlinewidth": 0,
             "ticks": ""
            },
            "type": "choropleth"
           }
          ],
          "contour": [
           {
            "colorbar": {
             "outlinewidth": 0,
             "ticks": ""
            },
            "colorscale": [
             [
              0,
              "#0d0887"
             ],
             [
              0.1111111111111111,
              "#46039f"
             ],
             [
              0.2222222222222222,
              "#7201a8"
             ],
             [
              0.3333333333333333,
              "#9c179e"
             ],
             [
              0.4444444444444444,
              "#bd3786"
             ],
             [
              0.5555555555555556,
              "#d8576b"
             ],
             [
              0.6666666666666666,
              "#ed7953"
             ],
             [
              0.7777777777777778,
              "#fb9f3a"
             ],
             [
              0.8888888888888888,
              "#fdca26"
             ],
             [
              1,
              "#f0f921"
             ]
            ],
            "type": "contour"
           }
          ],
          "contourcarpet": [
           {
            "colorbar": {
             "outlinewidth": 0,
             "ticks": ""
            },
            "type": "contourcarpet"
           }
          ],
          "heatmap": [
           {
            "colorbar": {
             "outlinewidth": 0,
             "ticks": ""
            },
            "colorscale": [
             [
              0,
              "#0d0887"
             ],
             [
              0.1111111111111111,
              "#46039f"
             ],
             [
              0.2222222222222222,
              "#7201a8"
             ],
             [
              0.3333333333333333,
              "#9c179e"
             ],
             [
              0.4444444444444444,
              "#bd3786"
             ],
             [
              0.5555555555555556,
              "#d8576b"
             ],
             [
              0.6666666666666666,
              "#ed7953"
             ],
             [
              0.7777777777777778,
              "#fb9f3a"
             ],
             [
              0.8888888888888888,
              "#fdca26"
             ],
             [
              1,
              "#f0f921"
             ]
            ],
            "type": "heatmap"
           }
          ],
          "heatmapgl": [
           {
            "colorbar": {
             "outlinewidth": 0,
             "ticks": ""
            },
            "colorscale": [
             [
              0,
              "#0d0887"
             ],
             [
              0.1111111111111111,
              "#46039f"
             ],
             [
              0.2222222222222222,
              "#7201a8"
             ],
             [
              0.3333333333333333,
              "#9c179e"
             ],
             [
              0.4444444444444444,
              "#bd3786"
             ],
             [
              0.5555555555555556,
              "#d8576b"
             ],
             [
              0.6666666666666666,
              "#ed7953"
             ],
             [
              0.7777777777777778,
              "#fb9f3a"
             ],
             [
              0.8888888888888888,
              "#fdca26"
             ],
             [
              1,
              "#f0f921"
             ]
            ],
            "type": "heatmapgl"
           }
          ],
          "histogram": [
           {
            "marker": {
             "pattern": {
              "fillmode": "overlay",
              "size": 10,
              "solidity": 0.2
             }
            },
            "type": "histogram"
           }
          ],
          "histogram2d": [
           {
            "colorbar": {
             "outlinewidth": 0,
             "ticks": ""
            },
            "colorscale": [
             [
              0,
              "#0d0887"
             ],
             [
              0.1111111111111111,
              "#46039f"
             ],
             [
              0.2222222222222222,
              "#7201a8"
             ],
             [
              0.3333333333333333,
              "#9c179e"
             ],
             [
              0.4444444444444444,
              "#bd3786"
             ],
             [
              0.5555555555555556,
              "#d8576b"
             ],
             [
              0.6666666666666666,
              "#ed7953"
             ],
             [
              0.7777777777777778,
              "#fb9f3a"
             ],
             [
              0.8888888888888888,
              "#fdca26"
             ],
             [
              1,
              "#f0f921"
             ]
            ],
            "type": "histogram2d"
           }
          ],
          "histogram2dcontour": [
           {
            "colorbar": {
             "outlinewidth": 0,
             "ticks": ""
            },
            "colorscale": [
             [
              0,
              "#0d0887"
             ],
             [
              0.1111111111111111,
              "#46039f"
             ],
             [
              0.2222222222222222,
              "#7201a8"
             ],
             [
              0.3333333333333333,
              "#9c179e"
             ],
             [
              0.4444444444444444,
              "#bd3786"
             ],
             [
              0.5555555555555556,
              "#d8576b"
             ],
             [
              0.6666666666666666,
              "#ed7953"
             ],
             [
              0.7777777777777778,
              "#fb9f3a"
             ],
             [
              0.8888888888888888,
              "#fdca26"
             ],
             [
              1,
              "#f0f921"
             ]
            ],
            "type": "histogram2dcontour"
           }
          ],
          "mesh3d": [
           {
            "colorbar": {
             "outlinewidth": 0,
             "ticks": ""
            },
            "type": "mesh3d"
           }
          ],
          "parcoords": [
           {
            "line": {
             "colorbar": {
              "outlinewidth": 0,
              "ticks": ""
             }
            },
            "type": "parcoords"
           }
          ],
          "pie": [
           {
            "automargin": true,
            "type": "pie"
           }
          ],
          "scatter": [
           {
            "fillpattern": {
             "fillmode": "overlay",
             "size": 10,
             "solidity": 0.2
            },
            "type": "scatter"
           }
          ],
          "scatter3d": [
           {
            "line": {
             "colorbar": {
              "outlinewidth": 0,
              "ticks": ""
             }
            },
            "marker": {
             "colorbar": {
              "outlinewidth": 0,
              "ticks": ""
             }
            },
            "type": "scatter3d"
           }
          ],
          "scattercarpet": [
           {
            "marker": {
             "colorbar": {
              "outlinewidth": 0,
              "ticks": ""
             }
            },
            "type": "scattercarpet"
           }
          ],
          "scattergeo": [
           {
            "marker": {
             "colorbar": {
              "outlinewidth": 0,
              "ticks": ""
             }
            },
            "type": "scattergeo"
           }
          ],
          "scattergl": [
           {
            "marker": {
             "colorbar": {
              "outlinewidth": 0,
              "ticks": ""
             }
            },
            "type": "scattergl"
           }
          ],
          "scattermapbox": [
           {
            "marker": {
             "colorbar": {
              "outlinewidth": 0,
              "ticks": ""
             }
            },
            "type": "scattermapbox"
           }
          ],
          "scatterpolar": [
           {
            "marker": {
             "colorbar": {
              "outlinewidth": 0,
              "ticks": ""
             }
            },
            "type": "scatterpolar"
           }
          ],
          "scatterpolargl": [
           {
            "marker": {
             "colorbar": {
              "outlinewidth": 0,
              "ticks": ""
             }
            },
            "type": "scatterpolargl"
           }
          ],
          "scatterternary": [
           {
            "marker": {
             "colorbar": {
              "outlinewidth": 0,
              "ticks": ""
             }
            },
            "type": "scatterternary"
           }
          ],
          "surface": [
           {
            "colorbar": {
             "outlinewidth": 0,
             "ticks": ""
            },
            "colorscale": [
             [
              0,
              "#0d0887"
             ],
             [
              0.1111111111111111,
              "#46039f"
             ],
             [
              0.2222222222222222,
              "#7201a8"
             ],
             [
              0.3333333333333333,
              "#9c179e"
             ],
             [
              0.4444444444444444,
              "#bd3786"
             ],
             [
              0.5555555555555556,
              "#d8576b"
             ],
             [
              0.6666666666666666,
              "#ed7953"
             ],
             [
              0.7777777777777778,
              "#fb9f3a"
             ],
             [
              0.8888888888888888,
              "#fdca26"
             ],
             [
              1,
              "#f0f921"
             ]
            ],
            "type": "surface"
           }
          ],
          "table": [
           {
            "cells": {
             "fill": {
              "color": "#EBF0F8"
             },
             "line": {
              "color": "white"
             }
            },
            "header": {
             "fill": {
              "color": "#C8D4E3"
             },
             "line": {
              "color": "white"
             }
            },
            "type": "table"
           }
          ]
         },
         "layout": {
          "annotationdefaults": {
           "arrowcolor": "#2a3f5f",
           "arrowhead": 0,
           "arrowwidth": 1
          },
          "autotypenumbers": "strict",
          "coloraxis": {
           "colorbar": {
            "outlinewidth": 0,
            "ticks": ""
           }
          },
          "colorscale": {
           "diverging": [
            [
             0,
             "#8e0152"
            ],
            [
             0.1,
             "#c51b7d"
            ],
            [
             0.2,
             "#de77ae"
            ],
            [
             0.3,
             "#f1b6da"
            ],
            [
             0.4,
             "#fde0ef"
            ],
            [
             0.5,
             "#f7f7f7"
            ],
            [
             0.6,
             "#e6f5d0"
            ],
            [
             0.7,
             "#b8e186"
            ],
            [
             0.8,
             "#7fbc41"
            ],
            [
             0.9,
             "#4d9221"
            ],
            [
             1,
             "#276419"
            ]
           ],
           "sequential": [
            [
             0,
             "#0d0887"
            ],
            [
             0.1111111111111111,
             "#46039f"
            ],
            [
             0.2222222222222222,
             "#7201a8"
            ],
            [
             0.3333333333333333,
             "#9c179e"
            ],
            [
             0.4444444444444444,
             "#bd3786"
            ],
            [
             0.5555555555555556,
             "#d8576b"
            ],
            [
             0.6666666666666666,
             "#ed7953"
            ],
            [
             0.7777777777777778,
             "#fb9f3a"
            ],
            [
             0.8888888888888888,
             "#fdca26"
            ],
            [
             1,
             "#f0f921"
            ]
           ],
           "sequentialminus": [
            [
             0,
             "#0d0887"
            ],
            [
             0.1111111111111111,
             "#46039f"
            ],
            [
             0.2222222222222222,
             "#7201a8"
            ],
            [
             0.3333333333333333,
             "#9c179e"
            ],
            [
             0.4444444444444444,
             "#bd3786"
            ],
            [
             0.5555555555555556,
             "#d8576b"
            ],
            [
             0.6666666666666666,
             "#ed7953"
            ],
            [
             0.7777777777777778,
             "#fb9f3a"
            ],
            [
             0.8888888888888888,
             "#fdca26"
            ],
            [
             1,
             "#f0f921"
            ]
           ]
          },
          "colorway": [
           "#636efa",
           "#EF553B",
           "#00cc96",
           "#ab63fa",
           "#FFA15A",
           "#19d3f3",
           "#FF6692",
           "#B6E880",
           "#FF97FF",
           "#FECB52"
          ],
          "font": {
           "color": "#2a3f5f"
          },
          "geo": {
           "bgcolor": "white",
           "lakecolor": "white",
           "landcolor": "#E5ECF6",
           "showlakes": true,
           "showland": true,
           "subunitcolor": "white"
          },
          "hoverlabel": {
           "align": "left"
          },
          "hovermode": "closest",
          "mapbox": {
           "style": "light"
          },
          "paper_bgcolor": "white",
          "plot_bgcolor": "#E5ECF6",
          "polar": {
           "angularaxis": {
            "gridcolor": "white",
            "linecolor": "white",
            "ticks": ""
           },
           "bgcolor": "#E5ECF6",
           "radialaxis": {
            "gridcolor": "white",
            "linecolor": "white",
            "ticks": ""
           }
          },
          "scene": {
           "xaxis": {
            "backgroundcolor": "#E5ECF6",
            "gridcolor": "white",
            "gridwidth": 2,
            "linecolor": "white",
            "showbackground": true,
            "ticks": "",
            "zerolinecolor": "white"
           },
           "yaxis": {
            "backgroundcolor": "#E5ECF6",
            "gridcolor": "white",
            "gridwidth": 2,
            "linecolor": "white",
            "showbackground": true,
            "ticks": "",
            "zerolinecolor": "white"
           },
           "zaxis": {
            "backgroundcolor": "#E5ECF6",
            "gridcolor": "white",
            "gridwidth": 2,
            "linecolor": "white",
            "showbackground": true,
            "ticks": "",
            "zerolinecolor": "white"
           }
          },
          "shapedefaults": {
           "line": {
            "color": "#2a3f5f"
           }
          },
          "ternary": {
           "aaxis": {
            "gridcolor": "white",
            "linecolor": "white",
            "ticks": ""
           },
           "baxis": {
            "gridcolor": "white",
            "linecolor": "white",
            "ticks": ""
           },
           "bgcolor": "#E5ECF6",
           "caxis": {
            "gridcolor": "white",
            "linecolor": "white",
            "ticks": ""
           }
          },
          "title": {
           "x": 0.05
          },
          "xaxis": {
           "automargin": true,
           "gridcolor": "white",
           "linecolor": "white",
           "ticks": "",
           "title": {
            "standoff": 15
           },
           "zerolinecolor": "white",
           "zerolinewidth": 2
          },
          "yaxis": {
           "automargin": true,
           "gridcolor": "white",
           "linecolor": "white",
           "ticks": "",
           "title": {
            "standoff": 15
           },
           "zerolinecolor": "white",
           "zerolinewidth": 2
          }
         }
        },
        "title": {
         "text": "Total Product Sales"
        }
       }
      }
     },
     "metadata": {},
     "output_type": "display_data"
    }
   ],
   "source": [
    "fig = px.pie(products, values='Product_Quantity', names='Product_Name', title='Total Product Sales', \n",
    "             hover_data='Product_Quantity', labels={'Product_Quantity': 'Total amount sold ', 'Product_Name': 'Product '})\n",
    "fig.update_traces(textposition='inside', textinfo='percent+label')\n",
    "fig.show()"
   ]
  },
  {
   "cell_type": "code",
   "execution_count": 116,
   "id": "cbbcdfd2",
   "metadata": {},
   "outputs": [],
   "source": [
    "days['day'] = days.index\n",
    "days\n",
    "\n",
    "train = days[days['day'] < pd.to_datetime ('2023-10-01', format = '%Y-%m-%d')]\n",
    "test = days[days['day'] >= pd.to_datetime ('2023-10-01', format = '%Y-%m-%d')]\n",
    "\n",
    "del train['day']\n",
    "del test['day']"
   ]
  },
  {
   "cell_type": "code",
   "execution_count": 119,
   "id": "be28b90a",
   "metadata": {},
   "outputs": [
    {
     "data": {
      "text/html": [
       "<div>\n",
       "<style scoped>\n",
       "    .dataframe tbody tr th:only-of-type {\n",
       "        vertical-align: middle;\n",
       "    }\n",
       "\n",
       "    .dataframe tbody tr th {\n",
       "        vertical-align: top;\n",
       "    }\n",
       "\n",
       "    .dataframe thead th {\n",
       "        text-align: right;\n",
       "    }\n",
       "</style>\n",
       "<table border=\"1\" class=\"dataframe\">\n",
       "  <thead>\n",
       "    <tr style=\"text-align: right;\">\n",
       "      <th></th>\n",
       "      <th>Order_Total</th>\n",
       "    </tr>\n",
       "    <tr>\n",
       "      <th>Order_Date</th>\n",
       "      <th></th>\n",
       "    </tr>\n",
       "  </thead>\n",
       "  <tbody>\n",
       "    <tr>\n",
       "      <th>2023-05-11</th>\n",
       "      <td>0.02</td>\n",
       "    </tr>\n",
       "    <tr>\n",
       "      <th>2023-05-12</th>\n",
       "      <td>119.31</td>\n",
       "    </tr>\n",
       "    <tr>\n",
       "      <th>2023-05-13</th>\n",
       "      <td>0.00</td>\n",
       "    </tr>\n",
       "    <tr>\n",
       "      <th>2023-05-14</th>\n",
       "      <td>0.00</td>\n",
       "    </tr>\n",
       "    <tr>\n",
       "      <th>2023-05-15</th>\n",
       "      <td>0.00</td>\n",
       "    </tr>\n",
       "  </tbody>\n",
       "</table>\n",
       "</div>"
      ],
      "text/plain": [
       "            Order_Total\n",
       "Order_Date             \n",
       "2023-05-11         0.02\n",
       "2023-05-12       119.31\n",
       "2023-05-13         0.00\n",
       "2023-05-14         0.00\n",
       "2023-05-15         0.00"
      ]
     },
     "execution_count": 119,
     "metadata": {},
     "output_type": "execute_result"
    }
   ],
   "source": [
    "train.head()"
   ]
  },
  {
   "cell_type": "code",
   "execution_count": 120,
   "id": "a686f59b",
   "metadata": {},
   "outputs": [
    {
     "data": {
      "text/html": [
       "<div>\n",
       "<style scoped>\n",
       "    .dataframe tbody tr th:only-of-type {\n",
       "        vertical-align: middle;\n",
       "    }\n",
       "\n",
       "    .dataframe tbody tr th {\n",
       "        vertical-align: top;\n",
       "    }\n",
       "\n",
       "    .dataframe thead th {\n",
       "        text-align: right;\n",
       "    }\n",
       "</style>\n",
       "<table border=\"1\" class=\"dataframe\">\n",
       "  <thead>\n",
       "    <tr style=\"text-align: right;\">\n",
       "      <th></th>\n",
       "      <th>Order_Total</th>\n",
       "    </tr>\n",
       "    <tr>\n",
       "      <th>Order_Date</th>\n",
       "      <th></th>\n",
       "    </tr>\n",
       "  </thead>\n",
       "  <tbody>\n",
       "    <tr>\n",
       "      <th>2023-10-01</th>\n",
       "      <td>1996.37</td>\n",
       "    </tr>\n",
       "    <tr>\n",
       "      <th>2023-10-02</th>\n",
       "      <td>806.48</td>\n",
       "    </tr>\n",
       "    <tr>\n",
       "      <th>2023-10-03</th>\n",
       "      <td>669.86</td>\n",
       "    </tr>\n",
       "    <tr>\n",
       "      <th>2023-10-04</th>\n",
       "      <td>611.07</td>\n",
       "    </tr>\n",
       "    <tr>\n",
       "      <th>2023-10-05</th>\n",
       "      <td>1690.52</td>\n",
       "    </tr>\n",
       "  </tbody>\n",
       "</table>\n",
       "</div>"
      ],
      "text/plain": [
       "            Order_Total\n",
       "Order_Date             \n",
       "2023-10-01      1996.37\n",
       "2023-10-02       806.48\n",
       "2023-10-03       669.86\n",
       "2023-10-04       611.07\n",
       "2023-10-05      1690.52"
      ]
     },
     "execution_count": 120,
     "metadata": {},
     "output_type": "execute_result"
    }
   ],
   "source": [
    "test.head()"
   ]
  },
  {
   "cell_type": "code",
   "execution_count": 168,
   "id": "b41d1f9e",
   "metadata": {},
   "outputs": [
    {
     "data": {
      "image/png": "[encoded data removed]",
      "text/plain": [
       "<Figure size 640x480 with 1 Axes>"
      ]
     },
     "metadata": {},
     "output_type": "display_data"
    }
   ],
   "source": [
    "plt.plot (train, color = 'black')\n",
    "plt.plot (test, color = 'red')\n",
    "plt.title ('Train/Test Split for Sales Data')\n",
    "plt.ylabel ('Revenue (in $USD)')\n",
    "plt.xlabel ('Year-Month')\n",
    "sns.set()\n",
    "plt.show()"
   ]
  },
  {
   "cell_type": "code",
   "execution_count": 123,
   "id": "338a20cc",
   "metadata": {},
   "outputs": [
    {
     "name": "stdout",
     "output_type": "stream",
     "text": [
      "Performing stepwise search to minimize aic\n",
      " ARIMA(2,1,2)(0,0,0)[0] intercept   : AIC=2226.776, Time=0.24 sec\n",
      " ARIMA(0,1,0)(0,0,0)[0] intercept   : AIC=2258.303, Time=0.02 sec\n",
      " ARIMA(1,1,0)(0,0,0)[0] intercept   : AIC=2253.976, Time=0.05 sec\n",
      " ARIMA(0,1,1)(0,0,0)[0] intercept   : AIC=2239.388, Time=0.25 sec\n",
      " ARIMA(0,1,0)(0,0,0)[0]             : AIC=2256.319, Time=0.01 sec\n",
      " ARIMA(1,1,2)(0,0,0)[0] intercept   : AIC=2226.117, Time=0.08 sec\n",
      " ARIMA(0,1,2)(0,0,0)[0] intercept   : AIC=2224.319, Time=0.06 sec\n",
      " ARIMA(0,1,3)(0,0,0)[0] intercept   : AIC=2226.030, Time=0.14 sec\n",
      " ARIMA(1,1,1)(0,0,0)[0] intercept   : AIC=2226.388, Time=0.10 sec\n",
      " ARIMA(1,1,3)(0,0,0)[0] intercept   : AIC=2227.987, Time=0.21 sec\n",
      " ARIMA(0,1,2)(0,0,0)[0]             : AIC=2222.719, Time=0.02 sec\n",
      " ARIMA(0,1,1)(0,0,0)[0]             : AIC=2237.684, Time=0.02 sec\n",
      " ARIMA(1,1,2)(0,0,0)[0]             : AIC=2224.533, Time=0.04 sec\n",
      " ARIMA(0,1,3)(0,0,0)[0]             : AIC=2224.447, Time=0.07 sec\n",
      " ARIMA(1,1,1)(0,0,0)[0]             : AIC=2224.825, Time=0.06 sec\n",
      " ARIMA(1,1,3)(0,0,0)[0]             : AIC=2226.330, Time=0.12 sec\n",
      "\n",
      "Best model:  ARIMA(0,1,2)(0,0,0)[0]          \n",
      "Total fit time: 1.530 seconds\n"
     ]
    }
   ],
   "source": [
    "from pmdarima.arima import auto_arima\n",
    "\n",
    "model = auto_arima (train, trace = True, error_action = 'ignore', suppress_warnings = True)\n",
    "model.fit (train)\n",
    "\n",
    "forecast = model.predict (n_periods = len(test))\n",
    "forecast = pd.DataFrame (forecast, index = test.index, columns = ['Prediction'])"
   ]
  },
  {
   "cell_type": "code",
   "execution_count": 124,
   "id": "ebceb011",
   "metadata": {},
   "outputs": [
    {
     "name": "stdout",
     "output_type": "stream",
     "text": [
      "RMSE:  1118.6640923332366\n"
     ]
    }
   ],
   "source": [
    "# calculate the root mean squared error (RMSE)\n",
    "from math import sqrt\n",
    "from sklearn.metrics import mean_squared_error\n",
    "rms = sqrt (mean_squared_error (test, forecast))\n",
    "print ('RMSE: ', rms)"
   ]
  },
  {
   "cell_type": "code",
   "execution_count": 166,
   "id": "68b8f072",
   "metadata": {},
   "outputs": [
    {
     "data": {
      "image/png": "[encoded data removed]",
      "text/plain": [
       "<Figure size 640x480 with 1 Axes>"
      ]
     },
     "metadata": {},
     "output_type": "display_data"
    }
   ],
   "source": [
    "# visualize the two sets\n",
    "plt.plot (train, label = 'Train', color = 'black')\n",
    "plt.plot (test, label = 'Test', color = 'red')\n",
    "plt.plot (forecast, label = 'Prediction', color = 'green')\n",
    "plt.title ('Sales Prediction')\n",
    "plt.ylabel ('Revenue (in $USD)')\n",
    "plt.xlabel ('Date')\n",
    "plt.legend (loc = 'upper left', fontsize = 8)\n",
    "plt.show()"
   ]
  },
  {
   "attachments": {},
   "cell_type": "markdown",
   "id": "3beec897",
   "metadata": {},
   "source": [
    "Let's try week"
   ]
  },
  {
   "cell_type": "code",
   "execution_count": 138,
   "id": "0e9ca831",
   "metadata": {},
   "outputs": [],
   "source": [
    "days.drop(columns='day', inplace=True)"
   ]
  },
  {
   "cell_type": "code",
   "execution_count": 160,
   "id": "8fd8c379",
   "metadata": {},
   "outputs": [
    {
     "name": "stdout",
     "output_type": "stream",
     "text": [
      "      Values                       Metric\n",
      "0  -3.188263              Test Statistics\n",
      "1   0.020674                      p-value\n",
      "2   0.000000             No. of lags used\n",
      "3  25.000000  Number of observations used\n",
      "4  -3.723863          critical value (1%)\n",
      "5  -2.986489          critical value (5%)\n",
      "6  -2.632800         critical value (10%)\n"
     ]
    }
   ],
   "source": [
    "weeks = days.resample('W').sum()\n",
    "weeks['week'] = weeks.index\n",
    "\n",
    "from statsmodels.tsa.stattools import adfuller\n",
    "\n",
    "adft = adfuller (weeks.drop(columns='week'), autolag = 'AIC')\n",
    "output_df = pd.DataFrame({'Values': [adft[0], adft[1], adft[2], adft[3],\n",
    "                                    adft[4]['1%'], adft[4]['5%'], adft[4]['10%']],\n",
    "                         'Metric': ['Test Statistics', 'p-value', 'No. of lags used',\n",
    "                                   'Number of observations used', 'critical value (1%)',\n",
    "                                   'critical value (5%)', 'critical value (10%)']\n",
    "                         \n",
    "                         })\n",
    "print (output_df)\n",
    "\n",
    "train = weeks[weeks['week'] < pd.to_datetime('2023-10-01', format='%Y-%m-%d')]\n",
    "test = weeks[weeks['week'] >= pd.to_datetime('2023-10-01', format='%Y-%m-%d')]\n",
    "\n",
    "del train['week']\n",
    "del test['week']\n"
   ]
  },
  {
   "cell_type": "code",
   "execution_count": 162,
   "id": "f8ed7c0c",
   "metadata": {},
   "outputs": [
    {
     "data": {
      "text/html": [
       "<div>\n",
       "<style scoped>\n",
       "    .dataframe tbody tr th:only-of-type {\n",
       "        vertical-align: middle;\n",
       "    }\n",
       "\n",
       "    .dataframe tbody tr th {\n",
       "        vertical-align: top;\n",
       "    }\n",
       "\n",
       "    .dataframe thead th {\n",
       "        text-align: right;\n",
       "    }\n",
       "</style>\n",
       "<table border=\"1\" class=\"dataframe\">\n",
       "  <thead>\n",
       "    <tr style=\"text-align: right;\">\n",
       "      <th></th>\n",
       "      <th>Order_Total</th>\n",
       "      <th>week</th>\n",
       "    </tr>\n",
       "    <tr>\n",
       "      <th>Order_Date</th>\n",
       "      <th></th>\n",
       "      <th></th>\n",
       "    </tr>\n",
       "  </thead>\n",
       "  <tbody>\n",
       "    <tr>\n",
       "      <th>2023-05-14</th>\n",
       "      <td>119.33</td>\n",
       "      <td>2023-05-14</td>\n",
       "    </tr>\n",
       "    <tr>\n",
       "      <th>2023-05-21</th>\n",
       "      <td>2632.71</td>\n",
       "      <td>2023-05-21</td>\n",
       "    </tr>\n",
       "    <tr>\n",
       "      <th>2023-05-28</th>\n",
       "      <td>4078.21</td>\n",
       "      <td>2023-05-28</td>\n",
       "    </tr>\n",
       "    <tr>\n",
       "      <th>2023-06-04</th>\n",
       "      <td>3270.22</td>\n",
       "      <td>2023-06-04</td>\n",
       "    </tr>\n",
       "    <tr>\n",
       "      <th>2023-06-11</th>\n",
       "      <td>5414.42</td>\n",
       "      <td>2023-06-11</td>\n",
       "    </tr>\n",
       "    <tr>\n",
       "      <th>2023-06-18</th>\n",
       "      <td>9151.84</td>\n",
       "      <td>2023-06-18</td>\n",
       "    </tr>\n",
       "    <tr>\n",
       "      <th>2023-06-25</th>\n",
       "      <td>15057.46</td>\n",
       "      <td>2023-06-25</td>\n",
       "    </tr>\n",
       "    <tr>\n",
       "      <th>2023-07-02</th>\n",
       "      <td>13250.94</td>\n",
       "      <td>2023-07-02</td>\n",
       "    </tr>\n",
       "    <tr>\n",
       "      <th>2023-07-09</th>\n",
       "      <td>11500.56</td>\n",
       "      <td>2023-07-09</td>\n",
       "    </tr>\n",
       "    <tr>\n",
       "      <th>2023-07-16</th>\n",
       "      <td>11114.61</td>\n",
       "      <td>2023-07-16</td>\n",
       "    </tr>\n",
       "    <tr>\n",
       "      <th>2023-07-23</th>\n",
       "      <td>9524.87</td>\n",
       "      <td>2023-07-23</td>\n",
       "    </tr>\n",
       "    <tr>\n",
       "      <th>2023-07-30</th>\n",
       "      <td>10346.63</td>\n",
       "      <td>2023-07-30</td>\n",
       "    </tr>\n",
       "    <tr>\n",
       "      <th>2023-08-06</th>\n",
       "      <td>8286.56</td>\n",
       "      <td>2023-08-06</td>\n",
       "    </tr>\n",
       "    <tr>\n",
       "      <th>2023-08-13</th>\n",
       "      <td>18053.75</td>\n",
       "      <td>2023-08-13</td>\n",
       "    </tr>\n",
       "    <tr>\n",
       "      <th>2023-08-20</th>\n",
       "      <td>14253.59</td>\n",
       "      <td>2023-08-20</td>\n",
       "    </tr>\n",
       "    <tr>\n",
       "      <th>2023-08-27</th>\n",
       "      <td>13322.46</td>\n",
       "      <td>2023-08-27</td>\n",
       "    </tr>\n",
       "    <tr>\n",
       "      <th>2023-09-03</th>\n",
       "      <td>10479.08</td>\n",
       "      <td>2023-09-03</td>\n",
       "    </tr>\n",
       "    <tr>\n",
       "      <th>2023-09-10</th>\n",
       "      <td>7486.31</td>\n",
       "      <td>2023-09-10</td>\n",
       "    </tr>\n",
       "    <tr>\n",
       "      <th>2023-09-17</th>\n",
       "      <td>9642.18</td>\n",
       "      <td>2023-09-17</td>\n",
       "    </tr>\n",
       "    <tr>\n",
       "      <th>2023-09-24</th>\n",
       "      <td>7057.76</td>\n",
       "      <td>2023-09-24</td>\n",
       "    </tr>\n",
       "    <tr>\n",
       "      <th>2023-10-01</th>\n",
       "      <td>7998.58</td>\n",
       "      <td>2023-10-01</td>\n",
       "    </tr>\n",
       "    <tr>\n",
       "      <th>2023-10-08</th>\n",
       "      <td>7532.10</td>\n",
       "      <td>2023-10-08</td>\n",
       "    </tr>\n",
       "    <tr>\n",
       "      <th>2023-10-15</th>\n",
       "      <td>11840.18</td>\n",
       "      <td>2023-10-15</td>\n",
       "    </tr>\n",
       "    <tr>\n",
       "      <th>2023-10-22</th>\n",
       "      <td>10403.14</td>\n",
       "      <td>2023-10-22</td>\n",
       "    </tr>\n",
       "    <tr>\n",
       "      <th>2023-10-29</th>\n",
       "      <td>16728.53</td>\n",
       "      <td>2023-10-29</td>\n",
       "    </tr>\n",
       "    <tr>\n",
       "      <th>2023-11-05</th>\n",
       "      <td>4047.50</td>\n",
       "      <td>2023-11-05</td>\n",
       "    </tr>\n",
       "  </tbody>\n",
       "</table>\n",
       "</div>"
      ],
      "text/plain": [
       "            Order_Total       week\n",
       "Order_Date                        \n",
       "2023-05-14       119.33 2023-05-14\n",
       "2023-05-21      2632.71 2023-05-21\n",
       "2023-05-28      4078.21 2023-05-28\n",
       "2023-06-04      3270.22 2023-06-04\n",
       "2023-06-11      5414.42 2023-06-11\n",
       "2023-06-18      9151.84 2023-06-18\n",
       "2023-06-25     15057.46 2023-06-25\n",
       "2023-07-02     13250.94 2023-07-02\n",
       "2023-07-09     11500.56 2023-07-09\n",
       "2023-07-16     11114.61 2023-07-16\n",
       "2023-07-23      9524.87 2023-07-23\n",
       "2023-07-30     10346.63 2023-07-30\n",
       "2023-08-06      8286.56 2023-08-06\n",
       "2023-08-13     18053.75 2023-08-13\n",
       "2023-08-20     14253.59 2023-08-20\n",
       "2023-08-27     13322.46 2023-08-27\n",
       "2023-09-03     10479.08 2023-09-03\n",
       "2023-09-10      7486.31 2023-09-10\n",
       "2023-09-17      9642.18 2023-09-17\n",
       "2023-09-24      7057.76 2023-09-24\n",
       "2023-10-01      7998.58 2023-10-01\n",
       "2023-10-08      7532.10 2023-10-08\n",
       "2023-10-15     11840.18 2023-10-15\n",
       "2023-10-22     10403.14 2023-10-22\n",
       "2023-10-29     16728.53 2023-10-29\n",
       "2023-11-05      4047.50 2023-11-05"
      ]
     },
     "execution_count": 162,
     "metadata": {},
     "output_type": "execute_result"
    }
   ],
   "source": [
    "weeks"
   ]
  },
  {
   "cell_type": "code",
   "execution_count": 144,
   "id": "0de26408",
   "metadata": {},
   "outputs": [
    {
     "data": {
      "image/png": "[encoded data removed]",
      "text/plain": [
       "<Figure size 640x480 with 1 Axes>"
      ]
     },
     "metadata": {},
     "output_type": "display_data"
    }
   ],
   "source": [
    "plt.plot (train, color = 'black')\n",
    "plt.plot (test, color = 'red')\n",
    "plt.title ('Train/Test Split for Passenger Data')\n",
    "plt.ylabel ('Revenue in $USD')\n",
    "plt.xlabel ('Year-Month')\n",
    "sns.set()\n",
    "plt.show()"
   ]
  },
  {
   "cell_type": "code",
   "execution_count": 158,
   "id": "1c3d6565",
   "metadata": {},
   "outputs": [
    {
     "name": "stdout",
     "output_type": "stream",
     "text": [
      "Performing stepwise search to minimize aic\n",
      " ARIMA(2,0,2)(0,0,0)[0] intercept   : AIC=inf, Time=0.23 sec\n",
      " ARIMA(0,0,0)(0,0,0)[0] intercept   : AIC=396.656, Time=0.01 sec\n",
      " ARIMA(1,0,0)(0,0,0)[0] intercept   : AIC=387.861, Time=0.02 sec\n",
      " ARIMA(0,0,1)(0,0,0)[0] intercept   : AIC=391.083, Time=0.06 sec\n",
      " ARIMA(0,0,0)(0,0,0)[0]             : AIC=428.024, Time=0.01 sec\n",
      " ARIMA(2,0,0)(0,0,0)[0] intercept   : AIC=389.255, Time=0.04 sec\n",
      " ARIMA(1,0,1)(0,0,0)[0] intercept   : AIC=390.447, Time=0.02 sec\n",
      " ARIMA(2,0,1)(0,0,0)[0] intercept   : AIC=inf, Time=0.07 sec\n",
      " ARIMA(1,0,0)(0,0,0)[0]             : AIC=386.458, Time=0.02 sec\n",
      " ARIMA(2,0,0)(0,0,0)[0]             : AIC=388.174, Time=0.02 sec\n",
      " ARIMA(1,0,1)(0,0,0)[0]             : AIC=388.438, Time=0.02 sec\n",
      " ARIMA(0,0,1)(0,0,0)[0]             : AIC=412.022, Time=0.03 sec\n",
      " ARIMA(2,0,1)(0,0,0)[0]             : AIC=inf, Time=0.05 sec\n",
      "\n",
      "Best model:  ARIMA(1,0,0)(0,0,0)[0]          \n",
      "Total fit time: 0.644 seconds\n"
     ]
    }
   ],
   "source": [
    "from pmdarima.arima import auto_arima\n",
    "\n",
    "model = auto_arima (train, trace = True, error_action = 'ignore', suppress_warnings = True)\n",
    "model.fit (train)\n",
    "\n",
    "forecast = model.predict (n_periods = len(test))\n",
    "forecast = pd.DataFrame (forecast, index = test.index, columns = ['Prediction'])"
   ]
  },
  {
   "cell_type": "code",
   "execution_count": 152,
   "id": "aacb2246",
   "metadata": {},
   "outputs": [
    {
     "name": "stdout",
     "output_type": "stream",
     "text": [
      "RMSE:  5963.435571571495\n"
     ]
    }
   ],
   "source": [
    "# calculate the root mean squared error (RMSE)\n",
    "from math import sqrt\n",
    "from sklearn.metrics import mean_squared_error\n",
    "rms = sqrt (mean_squared_error (test, forecast))\n",
    "print ('RMSE: ', rms)"
   ]
  },
  {
   "cell_type": "code",
   "execution_count": 150,
   "id": "2a3f686a",
   "metadata": {},
   "outputs": [
    {
     "data": {
      "image/png": "[encoded data removed]",
      "text/plain": [
       "<Figure size 640x480 with 1 Axes>"
      ]
     },
     "metadata": {},
     "output_type": "display_data"
    }
   ],
   "source": [
    "# visualize the two sets\n",
    "plt.plot (train, label = 'Train', color = 'black')\n",
    "plt.plot (test, label = 'Test', color = 'red')\n",
    "plt.plot (forecast, label = 'Prediction', color = 'green')\n",
    "plt.title ('Passenger Prediction')\n",
    "plt.ylabel ('#Passenger')\n",
    "plt.xlabel ('Date')\n",
    "plt.legend (loc = 'upper left', fontsize = 8)\n",
    "plt.show()"
   ]
  }
 ],
 "metadata": {
  "kernelspec": {
   "display_name": "Python 3",
   "language": "python",
   "name": "python3"
  },
  "language_info": {
   "codemirror_mode": {
    "name": "ipython",
    "version": 3
   },
   "file_extension": ".py",
   "mimetype": "text/x-python",
   "name": "python",
   "nbconvert_exporter": "python",
   "pygments_lexer": "ipython3",
   "version": "3.11.1"
  },
  "vscode": {
   "interpreter": {
    "hash": "aee8b7b246df8f9039afb4144a1f6fd8d2ca17a180786b69acc140d282b71a49"
   }
  }
 },
 "nbformat": 4,
 "nbformat_minor": 5
}
